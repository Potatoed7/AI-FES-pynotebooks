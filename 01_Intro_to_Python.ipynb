{
  "nbformat": 4,
  "nbformat_minor": 0,
  "metadata": {
    "kernelspec": {
      "display_name": "Python 3",
      "language": "python",
      "name": "python3"
    },
    "language_info": {
      "codemirror_mode": {
        "name": "ipython",
        "version": 3
      },
      "file_extension": ".py",
      "mimetype": "text/x-python",
      "name": "python",
      "nbconvert_exporter": "python",
      "pygments_lexer": "ipython3",
      "version": "3.6.8"
    },
    "colab": {
      "provenance": [],
      "toc_visible": true
    }
  },
  "cells": [
    {
      "cell_type": "markdown",
      "metadata": {
        "id": "oOZN4Hrn3PdY"
      },
      "source": [
        "# Intro to Python\n",
        "\n",
        "In this notebook, we'll do some very basic Python to get you warmed up with programming. Experienced coders can try the exercises the end of each section, or if you already know intro Python, move ahead to the next notebook."
      ]
    },
    {
      "cell_type": "markdown",
      "metadata": {
        "id": "vKVen0n53Pda"
      },
      "source": [
        "## Variables\n",
        "\n",
        "Variables are used to store data. In Python, we use `=` to *assign* data from the right item, to the variable name in the left item. For example:"
      ]
    },
    {
      "cell_type": "code",
      "metadata": {
        "collapsed": true,
        "id": "9-XxRDrw3Pdc"
      },
      "source": [
        "name = \"Potato\"\n",
        "age = 36\n",
        "weight = 108.5"
      ],
      "execution_count": null,
      "outputs": []
    },
    {
      "cell_type": "markdown",
      "source": [],
      "metadata": {
        "id": "BrcZsfemCkpN"
      }
    },
    {
      "cell_type": "markdown",
      "metadata": {
        "id": "xR3VPqlU3Pdc"
      },
      "source": [
        "Start your variables with letters--you can't use numbers, so `3banana` is not a valid variable name. For variables with many words, use underscores: `three_banana` or camel case: `threeBanana`."
      ]
    },
    {
      "cell_type": "markdown",
      "metadata": {
        "id": "i2QysUe43Pdd"
      },
      "source": [
        "## Printing\n",
        "\n",
        "Use `print` to send information from your code to the results bar, underneath the cell."
      ]
    },
    {
      "cell_type": "code",
      "source": [
        "print(name)"
      ],
      "metadata": {
        "colab": {
          "base_uri": "https://localhost:8080/"
        },
        "id": "HHD3UXUh8bZa",
        "outputId": "b94103cd-3add-4967-8eb4-b66480a77309"
      },
      "execution_count": null,
      "outputs": [
        {
          "output_type": "stream",
          "name": "stdout",
          "text": [
            "Potato\n"
          ]
        }
      ]
    },
    {
      "cell_type": "code",
      "source": [
        "print(age)"
      ],
      "metadata": {
        "colab": {
          "base_uri": "https://localhost:8080/"
        },
        "id": "9CgGtchH8cVb",
        "outputId": "3991a0c5-a751-4350-ceee-2b3c35e701cb"
      },
      "execution_count": null,
      "outputs": [
        {
          "output_type": "stream",
          "name": "stdout",
          "text": [
            "36\n"
          ]
        }
      ]
    },
    {
      "cell_type": "markdown",
      "source": [
        "But jupyter notebooks also have a built in print functionality - once per cell you can specify an output without need for the print() function:"
      ],
      "metadata": {
        "id": "8iaAO7iQ8mte"
      }
    },
    {
      "cell_type": "code",
      "metadata": {
        "id": "mD94tiin3Pdd",
        "colab": {
          "base_uri": "https://localhost:8080/",
          "height": 36
        },
        "outputId": "05cd06e2-0798-40fc-bb5f-f9a56d4c4c9c"
      },
      "source": [
        "name"
      ],
      "execution_count": null,
      "outputs": [
        {
          "output_type": "execute_result",
          "data": {
            "text/plain": [
              "'Potato'"
            ],
            "application/vnd.google.colaboratory.intrinsic+json": {
              "type": "string"
            }
          },
          "metadata": {},
          "execution_count": 18
        }
      ]
    },
    {
      "cell_type": "code",
      "metadata": {
        "id": "soBKiE8l3Pde",
        "colab": {
          "base_uri": "https://localhost:8080/"
        },
        "outputId": "902ff57d-8b8a-44bc-af59-f72eec29edef"
      },
      "source": [
        "age"
      ],
      "execution_count": null,
      "outputs": [
        {
          "output_type": "execute_result",
          "data": {
            "text/plain": [
              "36"
            ]
          },
          "metadata": {},
          "execution_count": 7
        }
      ]
    },
    {
      "cell_type": "code",
      "metadata": {
        "id": "fbB5SMJo3Pdf"
      },
      "source": [],
      "execution_count": null,
      "outputs": []
    },
    {
      "cell_type": "markdown",
      "metadata": {
        "id": "K1LMEOql3Pdf"
      },
      "source": [
        "## Operators\n",
        "\n",
        "You can do math in Python! It's like a really expensive (and clunky) calculator."
      ]
    },
    {
      "cell_type": "code",
      "metadata": {
        "id": "4DXZBy5u3Pdg",
        "colab": {
          "base_uri": "https://localhost:8080/"
        },
        "outputId": "1b29d420-6d57-424d-d4ba-90178f9e92ee"
      },
      "source": [
        "a = 10\n",
        "b = 5\n",
        "a + b"
      ],
      "execution_count": null,
      "outputs": [
        {
          "output_type": "execute_result",
          "data": {
            "text/plain": [
              "15"
            ]
          },
          "metadata": {},
          "execution_count": 1
        }
      ]
    },
    {
      "cell_type": "code",
      "metadata": {
        "id": "pQBlVWSP3Pdh",
        "colab": {
          "base_uri": "https://localhost:8080/"
        },
        "outputId": "c7be1bd2-5e50-4e64-dcf4-0a0b892bb362"
      },
      "source": [
        "a - b"
      ],
      "execution_count": null,
      "outputs": [
        {
          "output_type": "execute_result",
          "data": {
            "text/plain": [
              "5"
            ]
          },
          "metadata": {},
          "execution_count": 16
        }
      ]
    },
    {
      "cell_type": "code",
      "source": [
        "a * b"
      ],
      "metadata": {
        "colab": {
          "base_uri": "https://localhost:8080/"
        },
        "id": "ULbTxoNx82z7",
        "outputId": "693cf5b9-f14a-4af6-aefe-8f63d1b405e2"
      },
      "execution_count": null,
      "outputs": [
        {
          "output_type": "execute_result",
          "data": {
            "text/plain": [
              "50"
            ]
          },
          "metadata": {},
          "execution_count": 17
        }
      ]
    },
    {
      "cell_type": "code",
      "source": [
        "a / b"
      ],
      "metadata": {
        "colab": {
          "base_uri": "https://localhost:8080/"
        },
        "id": "JPlQNnQw83tP",
        "outputId": "e073c150-47bf-4a82-fad8-85010a2bf89b"
      },
      "execution_count": null,
      "outputs": [
        {
          "output_type": "execute_result",
          "data": {
            "text/plain": [
              "2.0"
            ]
          },
          "metadata": {},
          "execution_count": 18
        }
      ]
    },
    {
      "cell_type": "code",
      "source": [
        "firstname = \"James\"\n",
        "lastname = \"Bond\"\n",
        "firstname + lastname"
      ],
      "metadata": {
        "colab": {
          "base_uri": "https://localhost:8080/",
          "height": 35
        },
        "id": "0K2qJ_jD84NR",
        "outputId": "0c425376-6435-44b9-d2ea-d8d32de90e14"
      },
      "execution_count": null,
      "outputs": [
        {
          "output_type": "execute_result",
          "data": {
            "text/plain": [
              "'JamesBond'"
            ],
            "application/vnd.google.colaboratory.intrinsic+json": {
              "type": "string"
            }
          },
          "metadata": {},
          "execution_count": 19
        }
      ]
    },
    {
      "cell_type": "code",
      "metadata": {
        "id": "Xdt9eXqq3Pdh",
        "colab": {
          "base_uri": "https://localhost:8080/",
          "height": 36
        },
        "outputId": "e9bd414a-c847-449f-d6c0-c0492a230c2e"
      },
      "source": [
        "name = \"Bob\"\n",
        "name * 5"
      ],
      "execution_count": null,
      "outputs": [
        {
          "output_type": "execute_result",
          "data": {
            "text/plain": [
              "'BobBobBobBobBob'"
            ],
            "application/vnd.google.colaboratory.intrinsic+json": {
              "type": "string"
            }
          },
          "metadata": {},
          "execution_count": 2
        }
      ]
    },
    {
      "cell_type": "code",
      "metadata": {
        "id": "ZhVtQ9z93Pdh"
      },
      "source": [],
      "execution_count": null,
      "outputs": []
    },
    {
      "cell_type": "code",
      "metadata": {
        "collapsed": true,
        "id": "YF_SIf-k3Pdh"
      },
      "source": [],
      "execution_count": null,
      "outputs": []
    },
    {
      "cell_type": "code",
      "metadata": {
        "id": "ZnE9EVNw3Pdi"
      },
      "source": [],
      "execution_count": null,
      "outputs": []
    },
    {
      "cell_type": "markdown",
      "metadata": {
        "id": "PwK-NK2n3Pdj"
      },
      "source": [
        "## Types\n",
        "\n",
        "Variables have **types**, of which you've seen three: **int**s (integers, whole numbers), **float**s (decimal numbers), and **str**s (strings of text, with inverted commas around them--single or double inverted commas are fine, as long as you're consistent)."
      ]
    },
    {
      "cell_type": "code",
      "metadata": {
        "collapsed": true,
        "id": "QJTv9Wxf3Pdj",
        "colab": {
          "base_uri": "https://localhost:8080/"
        },
        "outputId": "11d142c6-49df-4ab6-d7cb-06015e7e0465"
      },
      "source": [
        "type(52)"
      ],
      "execution_count": null,
      "outputs": [
        {
          "output_type": "execute_result",
          "data": {
            "text/plain": [
              "int"
            ]
          },
          "metadata": {},
          "execution_count": 3
        }
      ]
    },
    {
      "cell_type": "code",
      "source": [
        "type(3.1415926)"
      ],
      "metadata": {
        "colab": {
          "base_uri": "https://localhost:8080/"
        },
        "id": "Im94BLye9EPo",
        "outputId": "bd01ed84-9851-458b-c4f0-be0d9ca3474a"
      },
      "execution_count": null,
      "outputs": [
        {
          "output_type": "execute_result",
          "data": {
            "text/plain": [
              "float"
            ]
          },
          "metadata": {},
          "execution_count": 22
        }
      ]
    },
    {
      "cell_type": "code",
      "metadata": {
        "collapsed": true,
        "id": "Nb0hypfW3Pdj",
        "colab": {
          "base_uri": "https://localhost:8080/"
        },
        "outputId": "16b885fd-0ccb-4df6-80c8-b9b4d84dc458"
      },
      "source": [
        "type(\"potato\")"
      ],
      "execution_count": null,
      "outputs": [
        {
          "output_type": "execute_result",
          "data": {
            "text/plain": [
              "str"
            ]
          },
          "metadata": {},
          "execution_count": 23
        }
      ]
    },
    {
      "cell_type": "code",
      "metadata": {
        "collapsed": true,
        "id": "KsFRpQh93Pdj",
        "colab": {
          "base_uri": "https://localhost:8080/"
        },
        "outputId": "bc7de2f3-ea04-4796-eb8f-dde5dcc64008"
      },
      "source": [
        "type(\"52\")"
      ],
      "execution_count": null,
      "outputs": [
        {
          "output_type": "execute_result",
          "data": {
            "text/plain": [
              "str"
            ]
          },
          "metadata": {},
          "execution_count": 24
        }
      ]
    },
    {
      "cell_type": "markdown",
      "metadata": {
        "id": "QydUtsiZ3Pdk"
      },
      "source": [
        "### <font color=\"red\">Exercise 1A: More operators</font>\n",
        "\n",
        "Why stop at four when we have more? Try to `print` these out, and write comments (with `#` in front) to say what they do."
      ]
    },
    {
      "cell_type": "code",
      "metadata": {
        "collapsed": true,
        "id": "UpB7bFdP3Pdk"
      },
      "source": [
        "a = 5 ** 2\n",
        "b = 3 ** 3\n",
        "c = 4 ** 5\n",
        "d = 15 // 12\n",
        "e = 12 // 15\n",
        "f = 200 // 50\n",
        "g = 200 // 51\n",
        "h = 6 % 2\n",
        "i_need_better_variable_names = 5 % 2\n",
        "j = 9 % 5\n",
        "k = 6 % 6\n",
        "l = 0 % 7"
      ],
      "execution_count": null,
      "outputs": []
    },
    {
      "cell_type": "code",
      "metadata": {
        "id": "bwhUkwyt-wbX",
        "colab": {
          "base_uri": "https://localhost:8080/"
        },
        "outputId": "46e94380-9a2a-47c1-ccdd-25a73c0a5449"
      },
      "source": [
        "print(a,b,c)"
      ],
      "execution_count": null,
      "outputs": [
        {
          "output_type": "stream",
          "name": "stdout",
          "text": [
            "25 27 1024\n"
          ]
        }
      ]
    },
    {
      "cell_type": "code",
      "source": [
        "print(d, e, f, g)"
      ],
      "metadata": {
        "colab": {
          "base_uri": "https://localhost:8080/"
        },
        "id": "PONuMrgf9JFE",
        "outputId": "f70b899d-6528-45d9-9d4e-6129bb1fbb54"
      },
      "execution_count": null,
      "outputs": [
        {
          "output_type": "stream",
          "name": "stdout",
          "text": [
            "1 0 4 3\n"
          ]
        }
      ]
    },
    {
      "cell_type": "code",
      "source": [
        "print(h, i_need_better_variable_names, j, k, l)"
      ],
      "metadata": {
        "colab": {
          "base_uri": "https://localhost:8080/"
        },
        "id": "ylOJnP0u9K7j",
        "outputId": "472ea093-3e33-41d8-c1ba-cf6dd1262fdd"
      },
      "execution_count": null,
      "outputs": [
        {
          "output_type": "stream",
          "name": "stdout",
          "text": [
            "0 1 4 0 0\n"
          ]
        }
      ]
    },
    {
      "cell_type": "code",
      "source": [
        "#Answers:\n",
        "# ** is to the power of\n",
        "# // is floor division, or integer division, aka the quotient - we drop the remainder after division.\n",
        "# % is modulo or modulus, the remainder after division"
      ],
      "metadata": {
        "id": "IKVWDCrn9UmR"
      },
      "execution_count": null,
      "outputs": []
    },
    {
      "cell_type": "markdown",
      "metadata": {
        "id": "2qiMKL_j3Pdl"
      },
      "source": [
        "### <font color=\"red\">Exercise 1B: Calculate and print</font>\n",
        "\n",
        "What if I want to calculate the age of someone who's 3x my age?\n",
        "\n",
        "Edit the variables below, and print: \"3 times my age is 108\"."
      ]
    },
    {
      "cell_type": "code",
      "metadata": {
        "id": "KYWsGOsr3Pdl"
      },
      "source": [
        "age=99  #CHANGE ME\n",
        "n=5001  #CHANGE ME\n",
        "print(n,\"times my age is\",age) #this line needs fixing! FIXME!"
      ],
      "execution_count": null,
      "outputs": []
    },
    {
      "cell_type": "code",
      "source": [
        "#Answer:\n",
        "\n",
        "age=36\n",
        "n=3\n",
        "print(n,\"times my age is\",age*n)"
      ],
      "metadata": {
        "id": "Kr-e_vlo9mmQ"
      },
      "execution_count": null,
      "outputs": []
    },
    {
      "cell_type": "markdown",
      "metadata": {
        "id": "2DluZyOE3Pdl"
      },
      "source": [
        "### <font color=\"red\">Exercise 1C: Seconds in a year</font>\n",
        "\n",
        "Let's use Python as a glorified calculator again. Below is some code to help you get started--can you figure out how many seconds there are in a year?"
      ]
    },
    {
      "cell_type": "code",
      "metadata": {
        "id": "L34Ij5jm3Pdm"
      },
      "source": [
        "num_seconds_in_minute = 60\n",
        "num_minutes_in_hour = 0 # FIXME\n",
        "num_hours_in_day = 0 # FIXME\n",
        "num_days_in_year = 0 #FIXME\n",
        "total = ____ * ____  # FIXME\n",
        "print(\"The number of seconds in a year is\",total)"
      ],
      "execution_count": null,
      "outputs": []
    },
    {
      "cell_type": "code",
      "source": [
        "#Answer:\n",
        "\n",
        "num_seconds_in_minute = 60\n",
        "num_minutes_in_hour = 60\n",
        "num_hours_in_day = 24\n",
        "num_days_in_year = 365.25\n",
        "total = num_seconds_in_minute * num_minutes_in_hour * num_hours_in_day * num_days_in_year\n",
        "\n",
        "print(\"The number of seconds in a year is\",total)"
      ],
      "metadata": {
        "id": "pXyqrTuT9qTN"
      },
      "execution_count": null,
      "outputs": []
    },
    {
      "cell_type": "markdown",
      "metadata": {
        "id": "GFHZvnTy3Pdm"
      },
      "source": [
        "### <font color=\"red\">Exercise 1D: Pixels</font>\n",
        "\n",
        "You are given the width and height of a screen in pixels. Calculate the total number of pixels on the screen and store them in a variable called `numberOfPixels`."
      ]
    },
    {
      "cell_type": "code",
      "metadata": {
        "id": "v102g90M3Pdm"
      },
      "source": [
        "height = 1920\n",
        "width = 1080\n",
        "\n",
        "# Your code here\n",
        "\n",
        "# Some code to print out the results\n",
        "print(\"For a screen with height\", height, \"pixels\")\n",
        "print(\"And width\", width, \"pixels\")\n",
        "print(\"The total number of pixels is\", numberOfPixels)"
      ],
      "execution_count": null,
      "outputs": []
    },
    {
      "cell_type": "code",
      "source": [
        "# Answer:\n",
        "\n",
        "height = 1920\n",
        "width = 1080\n",
        "numberOfPixels = height * width\n",
        "\n",
        "print(\"For a screen with height\", height, \"pixels\")\n",
        "print(\"And width\", width, \"pixels\")\n",
        "print(\"The total number of pixels is\", numberOfPixels)"
      ],
      "metadata": {
        "id": "FM1ZjLY09r7O"
      },
      "execution_count": null,
      "outputs": []
    },
    {
      "cell_type": "markdown",
      "metadata": {
        "id": "efl8c6qv3Pdn"
      },
      "source": [
        "### <font color=\"red\">Exercise 1E: Boys and girls</font>\n",
        "\n",
        "Calculate the percentage of boys (`percentBoys`) and the percentage of girls (`percentGirls`) in a class, and print it out."
      ]
    },
    {
      "cell_type": "code",
      "metadata": {
        "collapsed": true,
        "id": "6mzwDemf3Pdn"
      },
      "source": [
        "numberOfBoys = 60\n",
        "numberOfGirls = 20\n",
        "\n",
        "# Your code here"
      ],
      "execution_count": null,
      "outputs": []
    },
    {
      "cell_type": "code",
      "source": [
        "#Answer:\n",
        "numberOfBoys = 60\n",
        "numberOfGirls = 20\n",
        "total = numberOfBoys + numberOfGirls\n",
        "\n",
        "percentBoys = 100 * numberOfBoys / total\n",
        "percentGirls = 100 * numberOfGirls / total\n",
        "print(percentBoys)\n",
        "print(\"% of boys is...\", int(percentBoys), \"%\")\n",
        "print(\"% of girls is...\", str(int(percentGirls)) + \"%\")"
      ],
      "metadata": {
        "id": "t8gd0hDO9wmQ"
      },
      "execution_count": null,
      "outputs": []
    },
    {
      "cell_type": "markdown",
      "metadata": {
        "id": "yqqJR_rG3Pdo"
      },
      "source": [
        "<hr>"
      ]
    },
    {
      "cell_type": "markdown",
      "metadata": {
        "id": "1Ra6dySn3Pdo"
      },
      "source": [
        "## Functions"
      ]
    },
    {
      "cell_type": "markdown",
      "metadata": {
        "id": "ceMXNokR3Pdp"
      },
      "source": [
        "A function is a piece of reusable code that lets you run it again and again, but possibly with different parameters. Try running this function below with some different parameters:"
      ]
    },
    {
      "cell_type": "code",
      "metadata": {
        "collapsed": true,
        "id": "69MCqL5c3Pdp"
      },
      "source": [
        "def dogYearCalculator(age):\n",
        "    print(\"Your age is\", age)\n",
        "    print(\"Your age in dog years is \", 7 * age)"
      ],
      "execution_count": null,
      "outputs": []
    },
    {
      "cell_type": "code",
      "metadata": {
        "id": "keDqzvrn3Pdp"
      },
      "source": [
        "dogYearCalculator(10)"
      ],
      "execution_count": null,
      "outputs": []
    },
    {
      "cell_type": "code",
      "metadata": {
        "id": "mkyH1wJ63Pdp"
      },
      "source": [
        "dogYearCalculator(40)"
      ],
      "execution_count": null,
      "outputs": []
    },
    {
      "cell_type": "markdown",
      "metadata": {
        "collapsed": false,
        "id": "qw3Hzzwc3Pdp"
      },
      "source": [
        "There are some useful built-in functions, too! You've been using `print`, a function that prints things out. Let's now use it to print the results of other functions:"
      ]
    },
    {
      "cell_type": "code",
      "metadata": {
        "id": "MjlySfX93Pdp"
      },
      "source": [
        "max(4, 6, 2)"
      ],
      "execution_count": null,
      "outputs": []
    },
    {
      "cell_type": "code",
      "metadata": {
        "id": "L9IGcZ8q3Pdq"
      },
      "source": [
        "min(1, 2, -10)"
      ],
      "execution_count": null,
      "outputs": []
    },
    {
      "cell_type": "code",
      "metadata": {
        "id": "pmOpIyro3Pdq"
      },
      "source": [
        "round(3.596)"
      ],
      "execution_count": null,
      "outputs": []
    },
    {
      "cell_type": "code",
      "metadata": {
        "id": "8wy47rvp3Pdr"
      },
      "source": [
        "len(\"banana\") # len is short for \"length\""
      ],
      "execution_count": null,
      "outputs": []
    },
    {
      "cell_type": "code",
      "metadata": {
        "id": "h81Lb9bA3Pdr"
      },
      "source": [],
      "execution_count": null,
      "outputs": []
    },
    {
      "cell_type": "code",
      "metadata": {
        "collapsed": true,
        "id": "GWnn4ozJ3Pdr"
      },
      "source": [],
      "execution_count": null,
      "outputs": []
    },
    {
      "cell_type": "markdown",
      "metadata": {
        "id": "jALHnYH03Pdr"
      },
      "source": [
        "Some functions are in _modules_, e.g. the `math` module. To get started, you have to first `import math`, then try the functions within. Here is some gratuitious trigonometry:"
      ]
    },
    {
      "cell_type": "code",
      "metadata": {
        "collapsed": true,
        "id": "TsKmH1jg3Pdr"
      },
      "source": [
        "import math"
      ],
      "execution_count": null,
      "outputs": []
    },
    {
      "cell_type": "code",
      "metadata": {
        "id": "XKyfqiKB3Pds"
      },
      "source": [
        "print(\"Pi is\", math.pi)"
      ],
      "execution_count": null,
      "outputs": []
    },
    {
      "cell_type": "code",
      "metadata": {
        "id": "hHJJf-PQ3Pds"
      },
      "source": [
        "print(\"Cosine Pi is\", math.cos(math.pi))"
      ],
      "execution_count": null,
      "outputs": []
    },
    {
      "cell_type": "code",
      "metadata": {
        "id": "CviaiiFQ3Pds"
      },
      "source": [
        "help(math)"
      ],
      "execution_count": null,
      "outputs": []
    },
    {
      "cell_type": "code",
      "metadata": {
        "id": "9SfWhZrX3Pds"
      },
      "source": [
        "import math as m # if you're tired of typing \"math\", you can import it as a shorter name. So many letters saved!\n",
        "print(m.pi)"
      ],
      "execution_count": null,
      "outputs": []
    },
    {
      "cell_type": "markdown",
      "metadata": {
        "id": "4J-vAVhF3Pds"
      },
      "source": [
        "### <font color=\"red\">Exercise 2A: Errors</font>\n",
        "\n",
        "If you make a typo, Python will give you an error. Some may look cryptic, but you can try to figure out what they're telling you based on the line of the error. Try running the below, and identifying the errors in the code."
      ]
    },
    {
      "cell_type": "code",
      "metadata": {
        "id": "vMYHv4943Pds"
      },
      "source": [
        "name = \"Banana\"                                              #Answer: missing a closing quotation"
      ],
      "execution_count": null,
      "outputs": []
    },
    {
      "cell_type": "code",
      "metadata": {
        "id": "pRvJJaQt3Pdt"
      },
      "source": [
        "age = 55\n",
        "weeksPerYear = 56\n",
        "weeks_lived = age * weeksPerYear                            #Answer: weeksPerYear is not defined"
      ],
      "execution_count": null,
      "outputs": []
    },
    {
      "cell_type": "code",
      "metadata": {
        "id": "cUTqni9p3Pdt",
        "colab": {
          "base_uri": "https://localhost:8080/"
        },
        "outputId": "78c3a949-bbcf-46c3-a48d-e771261a4d12"
      },
      "source": [
        "print(\"Hello\")                                              #Answer: print() function is mispelled"
      ],
      "execution_count": null,
      "outputs": [
        {
          "output_type": "stream",
          "name": "stdout",
          "text": [
            "Hello\n"
          ]
        }
      ]
    },
    {
      "cell_type": "markdown",
      "metadata": {
        "id": "3q-TMfGK3Pdu"
      },
      "source": [
        "### <font color=\"red\">Exercise 2B: Cube</font>\n",
        "\n",
        "Write a function, `cube(n)`, that takes in a number, `n`, and prints out the cubed result."
      ]
    },
    {
      "cell_type": "code",
      "metadata": {
        "id": "AzoI8Ps03Pdu"
      },
      "source": [
        "def cube(n):\n",
        "    result = 0 # FIXME\n",
        "    print(\"The result is\",result)\n",
        "\n",
        "cube(3) # this line is to test your code"
      ],
      "execution_count": null,
      "outputs": []
    },
    {
      "cell_type": "code",
      "source": [
        "#Answer:\n",
        "\n",
        "def cube(n):\n",
        "    result = n ** 3\n",
        "    print(\"The result is\",result)\n",
        "\n",
        "cube(3)\n",
        "cube(4)\n",
        "cube(5)"
      ],
      "metadata": {
        "id": "PwQClw6i-OAU"
      },
      "execution_count": null,
      "outputs": []
    },
    {
      "cell_type": "markdown",
      "metadata": {
        "id": "TqjVttyzdzx7"
      },
      "source": [
        "### <font color=\"red\">Exercise 2C: Using functions</font>\n",
        "\n",
        "Before running the code below, try predicting what each `print` statement will tell you. Can you explain what's going on with the `max` function call, between `rich` and `poor`?"
      ]
    },
    {
      "cell_type": "code",
      "metadata": {
        "id": "kPpWE-0fdzx-",
        "colab": {
          "base_uri": "https://localhost:8080/",
          "height": 36
        },
        "outputId": "20808d87-9245-4517-f56a-96514d531d89"
      },
      "source": [
        "rich = \"gold\"\n",
        "poor = \"tin\"\n",
        "max(rich, poor)"
      ],
      "execution_count": null,
      "outputs": [
        {
          "output_type": "execute_result",
          "data": {
            "application/vnd.google.colaboratory.intrinsic+json": {
              "type": "string"
            },
            "text/plain": [
              "'tin'"
            ]
          },
          "metadata": {},
          "execution_count": 1
        }
      ]
    },
    {
      "cell_type": "code",
      "metadata": {
        "collapsed": true,
        "id": "yQmq2ASo3Pdv"
      },
      "source": [
        "# Python considers strings greater than one another based off the character they begin with. It uses the following order:\n",
        "# 0123456789ABCDEFGHIJKLMNOPQRSTUVWXYZabcdefghijklmnopqrstuvwxyz\n",
        "# This ordering is based on the hexadecimal Unicode code point for each character\n",
        "# e.g. capital A is 0041, capital B is 0042, lowercase a is 0061, lowercase b is 0062, etc.\n",
        "# Full table can be found here: https://www.ibm.com/docs/en/i/7.2?topic=tables-unicode-lowercase-uppercase-conversion-mapping-table"
      ],
      "execution_count": null,
      "outputs": []
    },
    {
      "cell_type": "code",
      "source": [
        "# For example:\n",
        "max(\"a\",\"A\", \"1\")"
      ],
      "metadata": {
        "id": "SY1Tr3S8-bMd"
      },
      "execution_count": null,
      "outputs": []
    },
    {
      "cell_type": "markdown",
      "metadata": {
        "id": "HwW0oKcW3Pdv"
      },
      "source": [
        "<hr>"
      ]
    },
    {
      "cell_type": "markdown",
      "metadata": {
        "id": "CgOCvp7M3Pdv"
      },
      "source": [
        "## Lists\n",
        "\n",
        "So far, we've stored information in single variables. This would be unwieldy if we're dealing with a lot of data, e.g. weather readings over a year--imagine declaring variables `rainfall1`, `rainfall2`, `rainfall3`, etc.\n",
        "\n",
        "We're going to introduce **lists** here--a way to store multiple pieces of data in one variable. The first list here is a list of pressure values, defined within square brackets `[]`, separated by commas:"
      ]
    },
    {
      "cell_type": "code",
      "metadata": {
        "collapsed": true,
        "id": "ayJu8vYC3Pdw"
      },
      "source": [
        "rainfall = [0.24, 1.25, 0.28, 2.22, 3.23, 7.47]"
      ],
      "execution_count": null,
      "outputs": []
    },
    {
      "cell_type": "code",
      "metadata": {
        "id": "hRk-0EVx3Pdw",
        "colab": {
          "base_uri": "https://localhost:8080/"
        },
        "outputId": "0ce148bb-fcf6-46ea-a5c0-7d25d21fc321"
      },
      "source": [
        "max(rainfall)"
      ],
      "execution_count": null,
      "outputs": [
        {
          "output_type": "execute_result",
          "data": {
            "text/plain": [
              "7.47"
            ]
          },
          "metadata": {},
          "execution_count": 22
        }
      ]
    },
    {
      "cell_type": "code",
      "metadata": {
        "id": "sL6096cd3Pdw",
        "colab": {
          "base_uri": "https://localhost:8080/"
        },
        "outputId": "4df95f7b-a81e-4554-ac03-ff937067b8e6"
      },
      "source": [
        "len(rainfall)"
      ],
      "execution_count": null,
      "outputs": [
        {
          "output_type": "execute_result",
          "data": {
            "text/plain": [
              "6"
            ]
          },
          "metadata": {},
          "execution_count": 23
        }
      ]
    },
    {
      "cell_type": "markdown",
      "metadata": {
        "id": "NAtT4dz43Pdx"
      },
      "source": [
        "You can also access individual elements in a list, by using the **square bracket notation** -- add a square bracket after your variable name, then have a number in it with the **index** of the element you want to access. Computer scientists count from 0, so if you want the first item, it's at index 0; second item is at index 1."
      ]
    },
    {
      "cell_type": "code",
      "metadata": {
        "id": "xfSLeOVY3Pdx",
        "colab": {
          "base_uri": "https://localhost:8080/"
        },
        "outputId": "c9b32488-85f8-4bcd-d977-daac362328a7"
      },
      "source": [
        "rainfall[0]"
      ],
      "execution_count": null,
      "outputs": [
        {
          "output_type": "execute_result",
          "data": {
            "text/plain": [
              "0.24"
            ]
          },
          "metadata": {},
          "execution_count": 24
        }
      ]
    },
    {
      "cell_type": "code",
      "metadata": {
        "id": "bi_CIG1k3Pdx",
        "colab": {
          "base_uri": "https://localhost:8080/"
        },
        "outputId": "900c5464-6dc7-4e03-9242-80675e577582"
      },
      "source": [
        "rainfall[1]"
      ],
      "execution_count": null,
      "outputs": [
        {
          "output_type": "execute_result",
          "data": {
            "text/plain": [
              "1.25"
            ]
          },
          "metadata": {},
          "execution_count": 25
        }
      ]
    },
    {
      "cell_type": "code",
      "metadata": {
        "id": "jhv4Zcm63Pdx",
        "colab": {
          "base_uri": "https://localhost:8080/"
        },
        "outputId": "1baf0d38-1a05-43bd-ce15-1ee3afba0ee3"
      },
      "source": [
        "rainfall[-1]"
      ],
      "execution_count": null,
      "outputs": [
        {
          "output_type": "execute_result",
          "data": {
            "text/plain": [
              "7.47"
            ]
          },
          "metadata": {},
          "execution_count": 26
        }
      ]
    },
    {
      "cell_type": "markdown",
      "metadata": {
        "id": "Fntrk_fx3Pdx"
      },
      "source": [
        "There are some list functions you can use. How do you find out about them? [Search](https://encrypted.google.com/search?q=python+list+functions)!"
      ]
    },
    {
      "cell_type": "code",
      "metadata": {
        "collapsed": true,
        "id": "tQiJVDi73Pdx"
      },
      "source": [
        "rainfall.append(9.99)\n",
        "rainfall"
      ],
      "execution_count": null,
      "outputs": []
    },
    {
      "cell_type": "code",
      "metadata": {
        "id": "iAGRYlL83Pdx"
      },
      "source": [
        "rainfall.insert(3, 3.33)\n",
        "rainfall"
      ],
      "execution_count": null,
      "outputs": []
    },
    {
      "cell_type": "code",
      "metadata": {
        "id": "4suH-RcD3Pdx"
      },
      "source": [],
      "execution_count": null,
      "outputs": []
    },
    {
      "cell_type": "code",
      "metadata": {
        "id": "wUHkLXOP3Pdx"
      },
      "source": [],
      "execution_count": null,
      "outputs": []
    },
    {
      "cell_type": "markdown",
      "metadata": {
        "collapsed": false,
        "id": "feWBdjYp3Pdy"
      },
      "source": [
        "Here's something you can do with lists: **slice** them using the slice operator, a colon. Instead of providing a single number in the index, get back part of the list by providing a range of numbers, for example:"
      ]
    },
    {
      "cell_type": "code",
      "metadata": {
        "id": "oateFSxp3Pdy"
      },
      "source": [
        "rainfall[1:4]"
      ],
      "execution_count": null,
      "outputs": []
    },
    {
      "cell_type": "code",
      "source": [
        "rainfall[:2]"
      ],
      "metadata": {
        "id": "TY4ShGfC-0UG"
      },
      "execution_count": null,
      "outputs": []
    },
    {
      "cell_type": "code",
      "source": [
        "rainfall[3:]"
      ],
      "metadata": {
        "id": "WgIBG6Gh-3Zm"
      },
      "execution_count": null,
      "outputs": []
    },
    {
      "cell_type": "markdown",
      "metadata": {
        "id": "dWKi8v243Pdy"
      },
      "source": [
        "### <font color=\"red\">Exercise 3A: I got a list, here's the order of my list that it's in</font>\n",
        "\n",
        "Here's a list. Can you do the following manipulations to it?\n",
        "\n",
        "* Append “apple” and 76 to the list.\n",
        "* Insert the value “cat” at index 3.\n",
        "* Insert the value 99 at the start of the list.\n",
        "* Find the index of “hello”.\n",
        "* Count the number of 76s in the list.\n",
        "* Remove the first occurrence of 76 from the list.\n",
        "\n",
        "Print out your final list to check your answer."
      ]
    },
    {
      "cell_type": "code",
      "metadata": {
        "collapsed": true,
        "id": "rlnGw74T3Pdy"
      },
      "source": [
        "myList = [76, 92.3, 'hello', True, 4, 76]\n",
        "# Space for your working here"
      ],
      "execution_count": null,
      "outputs": []
    },
    {
      "cell_type": "code",
      "metadata": {
        "collapsed": true,
        "id": "gYEli8-53Pdy"
      },
      "source": [
        "#Answer:\n",
        "\n",
        "myList = [76, 92.3, 'hello', True, 4, 76]\n",
        "\n",
        "myList.append(\"apple\")\n",
        "myList.append(76)\n",
        "print(myList)\n",
        "\n",
        "myList.insert(3, \"cat\")\n",
        "print(myList)\n",
        "\n",
        "print(\"The index of 'hello' is\", myList.index(\"hello\"))\n",
        "print(\"The number of 76s in the list is\", myList.count(76))\n",
        "\n",
        "myList.remove(76)\n",
        "print(myList)"
      ],
      "execution_count": null,
      "outputs": []
    },
    {
      "cell_type": "markdown",
      "metadata": {
        "id": "y2Di17T63Pdz"
      },
      "source": [
        "### <font color=\"red\">Exercise 3B: Fill in the blanks</font>\n",
        "\n",
        "Fill in the blanks so that the program below produces the output shown:\n",
        "```\n",
        "first time: [1, 3, 5]\n",
        "second time: [3, 5]\n",
        "```"
      ]
    },
    {
      "cell_type": "code",
      "metadata": {
        "collapsed": true,
        "id": "wGNCWb0v3Pdz"
      },
      "source": [
        "values = []\n",
        "values.____(1)  #hint: we need to add values to the list somehow!\n",
        "values.____(3)\n",
        "values.____(5)\n",
        "print('first time:', values)\n",
        "values = values[____]  #hint: use list slicing!\n",
        "print('second time:', values)"
      ],
      "execution_count": null,
      "outputs": []
    },
    {
      "cell_type": "code",
      "source": [
        "#Answer:\n",
        "\n",
        "values = []\n",
        "values.append(1)\n",
        "values.append(3)\n",
        "values.append(5)\n",
        "print('first time:', values)\n",
        "values = values[1:]\n",
        "print('second time:', values)"
      ],
      "metadata": {
        "id": "CIDdTHfZ_CuW"
      },
      "execution_count": null,
      "outputs": []
    },
    {
      "cell_type": "markdown",
      "metadata": {
        "id": "s7SK8Hy13Pdz"
      },
      "source": [
        "<hr>"
      ]
    },
    {
      "cell_type": "markdown",
      "metadata": {
        "id": "KHaIzPrf3Pd0"
      },
      "source": [
        "## Loops\n",
        "\n",
        "Now that we have lists, we want to be able to work on the data within them at one swoop, i.e. not have to edit `item[0]`, `item[1]`, `item[2]` one by one. For this, we can use a loop.\n",
        "\n",
        "A loop starts with `for`, ends with a colon, and subsequent lines are indented:"
      ]
    },
    {
      "cell_type": "code",
      "metadata": {
        "id": "nhW0xSfT3Pd0"
      },
      "source": [
        "stuff = [\"potatoes\", \"bananas\", \"pie\"]\n",
        "\n",
        "for thing in stuff:\n",
        "    print(thing)"
      ],
      "execution_count": null,
      "outputs": []
    },
    {
      "cell_type": "code",
      "metadata": {
        "id": "gkBLnYoR3Pd1"
      },
      "source": [
        "# We can call the looping variable any name really. E.g.:\n",
        "for any_name_really in stuff:\n",
        "    print(any_name_really)"
      ],
      "execution_count": null,
      "outputs": []
    },
    {
      "cell_type": "code",
      "metadata": {
        "id": "CpAClRFz3Pd1"
      },
      "source": [
        "# Many statements in a loop? Sure. Just make sure they're indented--have a tab before them.\n",
        "for i in stuff:\n",
        "    print(\"I like\", i)\n",
        "    print(\"I really really like\",i)\n",
        "    print(\"Mmmmmmm\")"
      ],
      "execution_count": null,
      "outputs": []
    },
    {
      "cell_type": "code",
      "metadata": {
        "id": "M1lx44E73Pd1"
      },
      "source": [
        "#use the range() function to automatically create a list\n",
        "# range(10) creates a list from 0 to 9\n",
        "# range(20) creates a list from 0 to 19\n",
        "# range() has some optional parameters you can explore too:  range(start, stop, step) where start by default is 0 and step by default is 1\n",
        "for i in range(10):\n",
        "    print(\"banana\",i)"
      ],
      "execution_count": null,
      "outputs": []
    },
    {
      "cell_type": "code",
      "metadata": {
        "id": "IuZtiIhn3Pd1"
      },
      "source": [],
      "execution_count": null,
      "outputs": []
    },
    {
      "cell_type": "code",
      "metadata": {
        "id": "cUCr9I5l3Pd1"
      },
      "source": [],
      "execution_count": null,
      "outputs": []
    },
    {
      "cell_type": "markdown",
      "metadata": {
        "id": "eXaFEyVx3Pd1"
      },
      "source": [
        "### <font color=\"red\">Exercise 4A: Multiply everything</font>\n",
        "\n",
        "Given a list of values, print out 2x of everything. E.g. [1, 2, 3] will print out:\n",
        "```\n",
        "2\n",
        "4\n",
        "6\n",
        "```"
      ]
    },
    {
      "cell_type": "code",
      "metadata": {
        "id": "yPNT9bgt3Pd2"
      },
      "source": [
        "values = [1,2,3,4]\n",
        "\n",
        "for i in values:\n",
        "    print(i) #FIXME"
      ],
      "execution_count": null,
      "outputs": []
    },
    {
      "cell_type": "code",
      "source": [
        "#Answer:\n",
        "\n",
        "values = [1,2,3,4]\n",
        "for i in values:\n",
        "    print(i * 2)"
      ],
      "metadata": {
        "id": "zyWksbezBfqw"
      },
      "execution_count": null,
      "outputs": []
    },
    {
      "cell_type": "markdown",
      "metadata": {
        "id": "nZu_WsJ13Pd2"
      },
      "source": [
        "### <font color=\"red\">Exercise 4B: Square everything</font>\n",
        "\n",
        "Given a list of values, print out the square of everything. E.g. [1, 2, 3] will print out:\n",
        "```\n",
        "1\n",
        "4\n",
        "9\n",
        "```"
      ]
    },
    {
      "cell_type": "code",
      "metadata": {
        "collapsed": true,
        "id": "ELnr7GNi3Pd3"
      },
      "source": [
        "values = [1,2,3,4]\n",
        "for i in values:\n",
        "    print(i) #FIXME"
      ],
      "execution_count": null,
      "outputs": []
    },
    {
      "cell_type": "code",
      "source": [
        "#Answer:\n",
        "\n",
        "values = [1,2,3,4]\n",
        "for i in values:\n",
        "    print(i ** 2)"
      ],
      "metadata": {
        "id": "nm6SJfkuBi3L"
      },
      "execution_count": null,
      "outputs": []
    },
    {
      "cell_type": "markdown",
      "metadata": {
        "id": "W02osUiK3Pd3"
      },
      "source": [
        "### <font color=\"red\">Exercise 4C: Print this Christmas tree using a loop</font>"
      ]
    },
    {
      "cell_type": "raw",
      "metadata": {
        "id": "DcuFZrqA3Pd3"
      },
      "source": [
        "Your code should print out the following result:\n",
        "\n",
        "```\n",
        "*\n",
        "**\n",
        "***\n",
        "****\n",
        "```"
      ]
    },
    {
      "cell_type": "code",
      "metadata": {
        "id": "oGxnuWDH3Pd4"
      },
      "source": [
        "# some starter code\n",
        "for i in range(4):\n",
        "    print(\"*\")"
      ],
      "execution_count": null,
      "outputs": []
    },
    {
      "cell_type": "code",
      "source": [
        "# Answer\n",
        "\n",
        "for i in range(4):\n",
        "    print(\"*\" * (i))"
      ],
      "metadata": {
        "id": "l-RWGu9XBoAl"
      },
      "execution_count": null,
      "outputs": []
    },
    {
      "cell_type": "code",
      "source": [
        "# Even better answer\n",
        "\n",
        "#Symmetrical Christmas Tree:\n",
        "h=4\n",
        "for i in range(h):\n",
        "    print(\" \"*(h-(i+1))  +  \"*\"*(2*i+1))"
      ],
      "metadata": {
        "id": "ozhk-sWOBqsn"
      },
      "execution_count": null,
      "outputs": []
    },
    {
      "cell_type": "markdown",
      "metadata": {
        "id": "gnPdcNzw3Pd4"
      },
      "source": [
        "<hr>"
      ]
    },
    {
      "cell_type": "markdown",
      "metadata": {
        "id": "kfDTugLA3Pd4"
      },
      "source": [
        "## Conditionals\n",
        "\n",
        "To have Python make decisions for us, we use `if` statements. These control whether blocks of code are run or not. Structurally, they're similar to `for` loops; you start with an `if`, end with a colon, and indent the block of code you want to run conditionally:"
      ]
    },
    {
      "cell_type": "markdown",
      "metadata": {
        "id": "wgnYyArJ3Pd6"
      },
      "source": [
        "`else` can be used following an `if`, to specify an alternative course of action\n"
      ]
    },
    {
      "cell_type": "markdown",
      "metadata": {
        "collapsed": false,
        "id": "lkF_DAE63Pd6"
      },
      "source": [
        "and `elif` can be used to define more conditions"
      ]
    },
    {
      "cell_type": "code",
      "metadata": {
        "id": "67LFgbnC3Pd5"
      },
      "source": [
        "temp = 35\n",
        "\n",
        "if temp > 30:\n",
        "    print(\"Wah! Too hot!\")\n",
        "elif temp > 25:\n",
        "    print(\"Still too hot to go outside\")\n",
        "else:\n",
        "    print(\"Safe to go outside\")"
      ],
      "execution_count": null,
      "outputs": []
    },
    {
      "cell_type": "code",
      "metadata": {
        "id": "qQiypBFG3Pd6"
      },
      "source": [
        "temp = 35\n",
        "humidity = 95\n",
        "\n",
        "if temp > 30 and humidity > 90:\n",
        "    print(\"It's hot and humid outside\")\n",
        "\n",
        "if temp > 30 or humidity > 90:\n",
        "    print(\"It's either hot or humid outside (or both)\")"
      ],
      "execution_count": null,
      "outputs": []
    },
    {
      "cell_type": "markdown",
      "metadata": {
        "id": "xZUf5I193Pd6"
      },
      "source": [
        "That seemed rather pointless, because we _knew_ what the values were before we ran the loop. Conditionals become more useful when dealing with data we don't define ourselves, e.g. when the data comes in a list:"
      ]
    },
    {
      "cell_type": "code",
      "metadata": {
        "id": "ZNiU1tcQ3Pd6"
      },
      "source": [
        "rainfall = [0.24, 1.25, 0.28, 2.22, 3.23, 7.47]\n",
        "\n",
        "for number in rainfall:\n",
        "    if number > 3.0:\n",
        "        print(number, \"that's a LOT of rain\")\n",
        "    elif number > 1.5:\n",
        "        print(number, \"that's a decent amount of rain\")\n",
        "    else:\n",
        "        print(number, \"that's not too much rain\")"
      ],
      "execution_count": null,
      "outputs": []
    },
    {
      "cell_type": "code",
      "metadata": {
        "id": "kn5yq74t3Pd6"
      },
      "source": [],
      "execution_count": null,
      "outputs": []
    },
    {
      "cell_type": "code",
      "metadata": {
        "id": "6w5IrPq13Pd6"
      },
      "source": [],
      "execution_count": null,
      "outputs": []
    },
    {
      "cell_type": "markdown",
      "metadata": {
        "id": "loE4QIIt3Pd7"
      },
      "source": [
        "### <font color=\"red\">Exercise 5A: Print this list, but numbered</font>\n",
        "\n",
        "Given a list of values, print them out, but with numbering. E.g.:\n",
        "```\n",
        "Day 1 reading: 0.44\n",
        "Day 2 reading: 0.01\n",
        "Day 3 reading: 0.24\n",
        "```"
      ]
    },
    {
      "cell_type": "markdown",
      "metadata": {
        "id": "9U05oPAZ3Pd7"
      },
      "source": [
        "Note: this first exercise doesn't use conditionals, but the following ones will!"
      ]
    },
    {
      "cell_type": "code",
      "metadata": {
        "collapsed": true,
        "id": "YFocfh-23Pd8"
      },
      "source": [
        "readings = [0.44, 0.01, 0.24]\n",
        "index = 1 # hint!\n",
        "\n",
        "for r in readings:\n",
        "    print(r) # FIXME"
      ],
      "execution_count": null,
      "outputs": []
    },
    {
      "cell_type": "code",
      "source": [
        "# Answer:\n",
        "\n",
        "readings = [0.44, 0.01, 0.24]\n",
        "index = 1 # hint!\n",
        "\n",
        "for r in readings:\n",
        "    print(\"Day\",index,\"reading:\",r)\n",
        "    index = index + 1"
      ],
      "metadata": {
        "id": "m0Nm7bY2CssJ"
      },
      "execution_count": null,
      "outputs": []
    },
    {
      "cell_type": "markdown",
      "metadata": {
        "id": "1IcMj-tZ3Pd8"
      },
      "source": [
        "### <font color=\"red\">Exercise 5B: Panic if something is too low</font>\n",
        "\n",
        "Same as above, but insert a huge warning if the value is below 0.1:\n",
        "```\n",
        "Day 1 reading: 0.44\n",
        "Day 2 reading: 0.01 . WHAT! THIS IS TOO LOW!\n",
        "Day 3 reading: 0.24\n",
        "```"
      ]
    },
    {
      "cell_type": "code",
      "metadata": {
        "id": "lwU9b8i23Pd8"
      },
      "source": [
        "readings = [0.44, 0.01, 0.24, 0.02]\n",
        "index = 1 # hint!\n",
        "\n",
        "for r in readings:\n",
        "    print(r) # FIXME"
      ],
      "execution_count": null,
      "outputs": []
    },
    {
      "cell_type": "code",
      "source": [
        "#Answer:\n",
        "\n",
        "readings = [0.44, 0.01, 0.24, 0.02]\n",
        "index = 1\n",
        "\n",
        "for r in readings:\n",
        "    if (r < 0.1):\n",
        "        print(\"Day\",index,\"reading:\",r,\"  WHAT! THIS IS TOO LOW!\")\n",
        "    else:\n",
        "        print(\"Day\",index,\"reading:\",r)\n",
        "    index = index + 1"
      ],
      "metadata": {
        "id": "Tr5SYcv-CvPh"
      },
      "execution_count": null,
      "outputs": []
    },
    {
      "cell_type": "markdown",
      "source": [
        "# FizzBuzz Challenge\n",
        "\n",
        "For each number from 1 to 100:\n",
        "*    if the number is divisible by 3, print Fizz\n",
        "*    if the number is divisible by 5, print Buzz\n",
        "*    if it is divisible by both, print FizzBuzz\n",
        "*    if the number is not divisible by either, print the number itself.\n"
      ],
      "metadata": {
        "id": "fILF0go-PwZZ"
      }
    },
    {
      "cell_type": "code",
      "source": [
        "def FizzBuzz(num):\n",
        "  if num % 3 == 0:\n",
        "    if num % 5 == 0:\n",
        "      return (\"FizzBuzz\")\n",
        "    else:\n",
        "      return \"Fizz\"\n",
        "  elif num % 5 == 0:\n",
        "    return \"Buzz\"\n",
        "  else: return num"
      ],
      "metadata": {
        "id": "-x3PCKsVPyNS"
      },
      "execution_count": null,
      "outputs": []
    },
    {
      "cell_type": "code",
      "source": [
        "for i in range(1,101):\n",
        "  print(FizzBuzz(i))"
      ],
      "metadata": {
        "colab": {
          "base_uri": "https://localhost:8080/"
        },
        "id": "A0QlOSOsEpfh",
        "outputId": "f7bef40f-b80c-4dcc-e9b2-72c7baca897e"
      },
      "execution_count": null,
      "outputs": [
        {
          "output_type": "stream",
          "name": "stdout",
          "text": [
            "1\n",
            "2\n",
            "Fizz\n",
            "4\n",
            "Buzz\n",
            "Fizz\n",
            "7\n",
            "8\n",
            "Fizz\n",
            "Buzz\n",
            "11\n",
            "Fizz\n",
            "13\n",
            "14\n",
            "FizzBuzz\n",
            "16\n",
            "17\n",
            "Fizz\n",
            "19\n",
            "Buzz\n",
            "Fizz\n",
            "22\n",
            "23\n",
            "Fizz\n",
            "Buzz\n",
            "26\n",
            "Fizz\n",
            "28\n",
            "29\n",
            "FizzBuzz\n",
            "31\n",
            "32\n",
            "Fizz\n",
            "34\n",
            "Buzz\n",
            "Fizz\n",
            "37\n",
            "38\n",
            "Fizz\n",
            "Buzz\n",
            "41\n",
            "Fizz\n",
            "43\n",
            "44\n",
            "FizzBuzz\n",
            "46\n",
            "47\n",
            "Fizz\n",
            "49\n",
            "Buzz\n",
            "Fizz\n",
            "52\n",
            "53\n",
            "Fizz\n",
            "Buzz\n",
            "56\n",
            "Fizz\n",
            "58\n",
            "59\n",
            "FizzBuzz\n",
            "61\n",
            "62\n",
            "Fizz\n",
            "64\n",
            "Buzz\n",
            "Fizz\n",
            "67\n",
            "68\n",
            "Fizz\n",
            "Buzz\n",
            "71\n",
            "Fizz\n",
            "73\n",
            "74\n",
            "FizzBuzz\n",
            "76\n",
            "77\n",
            "Fizz\n",
            "79\n",
            "Buzz\n",
            "Fizz\n",
            "82\n",
            "83\n",
            "Fizz\n",
            "Buzz\n",
            "86\n",
            "Fizz\n",
            "88\n",
            "89\n",
            "FizzBuzz\n",
            "91\n",
            "92\n",
            "Fizz\n",
            "94\n",
            "Buzz\n",
            "Fizz\n",
            "97\n",
            "98\n",
            "Fizz\n",
            "Buzz\n"
          ]
        }
      ]
    },
    {
      "cell_type": "markdown",
      "metadata": {
        "collapsed": true,
        "id": "Xn6Jldl83Pd9"
      },
      "source": [
        "<hr>"
      ]
    },
    {
      "cell_type": "markdown",
      "metadata": {
        "collapsed": true,
        "id": "k_5epyhf3Pd9"
      },
      "source": [
        "## Further reading\n",
        "\n",
        "Want to learn more? We recommend the following:\n",
        "\n",
        "* [How to think like a Computer Scientist](https://openbookproject.net/thinkcs/python/english3e/), an interactive online book\n",
        "* [Automate the Boring Stuff with Python](https://automatetheboringstuff.com/), for your lifehacks. Also available on Udemy as video."
      ]
    }
  ]
}