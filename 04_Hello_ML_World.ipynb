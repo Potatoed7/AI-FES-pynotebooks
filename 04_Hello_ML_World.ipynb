{
  "cells": [
    {
      "cell_type": "markdown",
      "metadata": {
        "id": "view-in-github"
      },
      "source": [
        "<a href=\"https://colab.research.google.com/github/tinkercademy/ml-notebooks/blob/main/Machine Learning in Pytorch/01_Hello_ML_World.ipynb\" target=\"_parent\"><img src=\"https://colab.research.google.com/assets/colab-badge.svg\" alt=\"Open In Colab\"/></a>"
      ]
    },
    {
      "cell_type": "markdown",
      "metadata": {
        "id": "ZIAkIlfmCe1B"
      },
      "source": [
        "# The Hello World of Deep Learning with Neural Networks"
      ]
    },
    {
      "cell_type": "markdown",
      "metadata": {
        "id": "fA93WUy1zzWf"
      },
      "source": [
        "Adapted from https://codelabs.tf.wiki/codelabs/tensorflow-lab1-helloworld/#0.\n",
        "\n",
        "Like every first app you should start with something super simple that shows the overall scaffolding for how your code works.\n",
        "\n",
        "In the case of creating neural networks, the sample I like to use is one where it learns the relationship between two numbers. So, for example, if you were writing code for a function like this in Python, you know the 'rules' (and so do I):\n",
        "\n",
        "\n",
        "```python\n",
        "def my_function(x):\n",
        "    y = (3 * x) + 1\n",
        "    return y\n",
        "\n",
        "print(my_function(10)) # this prints 31\n",
        "```\n",
        "\n",
        "So how would you train a neural network to do the equivalent task? Using data! By feeding it with a set of `x`s, and a set of `y`s, it should be able to figure out the relationship between them.\n",
        "\n",
        "Let's step through this piece by piece.\n"
      ]
    },
    {
      "cell_type": "markdown",
      "source": [
        "## Imports\n",
        "\n",
        "Let's start with our imports. Here we are importing numpy and part of the sklearn library. Specifically, we're importing a section that will allow us to use a Stochastic Gradient Descent (SGD) model."
      ],
      "metadata": {
        "id": "PAtozz2ic-t2"
      }
    },
    {
      "cell_type": "code",
      "source": [
        "import numpy as np\n",
        "from sklearn.linear_model import SGDRegressor"
      ],
      "metadata": {
        "id": "PKta8SxGdQU-"
      },
      "execution_count": null,
      "outputs": []
    },
    {
      "cell_type": "markdown",
      "source": [
        "## Define and Compile the Neural Network\n",
        "\n",
        "Next we will specify the model to use. You can look up information on the [SGDRegressor model](https://scikit-learn.org/stable/modules/generated/sklearn.linear_model.SGDRegressor.html) in the documentation. It gives us basic information (as well as a lot of details that may be way beyond our grasp at the moment):\n",
        "\n",
        "*    Linear model fitted by minimizing a regularized empirical loss with SGD.\n",
        "*    SGD stands for Stochastic Gradient Descent: the gradient of the loss is estimated each sample at a time and the model is updated along the way with a decreasing strength schedule (aka learning rate).\n",
        "\n",
        "We can also view many of the parameters that we can customise. For now we'll only specify two:\n",
        "*    max_iter = the number of max iterations, which defines the maximum number of passes over the training data (aka epochs). This essentially defines how long should the model train itself.\n",
        "*    tol = tolerance, which determines the stopping criterion. In other words, this parameter allows us to stop the training once the model is accurate enough for our needs. A higher tolerance will stop the model sooner, while a lower tolerance will require more training to satisfy the stopping requirement."
      ],
      "metadata": {
        "id": "3PHBRVcEdVko"
      }
    },
    {
      "cell_type": "code",
      "source": [
        "model = SGDRegressor(max_iter=1000, tol=1e-3)"
      ],
      "metadata": {
        "id": "PWod_dJRdU7e"
      },
      "execution_count": null,
      "outputs": []
    },
    {
      "cell_type": "markdown",
      "source": [
        "## Providing the Data\n",
        "\n",
        "Next up we'll feed in some data. In this case we are taking 6 `x`s and 6 `y`s. The _actual_ relationship between these is `y = 3x + 1`, which you can infer with a bit of mental math. We will be submitting our data in numpy arrays:"
      ],
      "metadata": {
        "id": "MUcavcvYg0jl"
      }
    },
    {
      "cell_type": "code",
      "source": [
        "xs = np.array([-1.0, 0.0, 1.0, 2.0, 3.0, 4.0]).reshape(-1, 1)\n",
        "ys = np.array([-2.0, 1.0, 4.0, 7.0, 10.0, 13.0])"
      ],
      "metadata": {
        "id": "i58pngZIdU-l"
      },
      "execution_count": null,
      "outputs": []
    },
    {
      "cell_type": "markdown",
      "source": [
        "# Training the model\n",
        "\n",
        "Next we must train the model. In sklearn, we can easily use the .fit() method. If you've seen lots of math for machine learning, here's where it's usually used, but in this case it's nicely encapsulated in functions for you. But what happens here -- let's explain...\n",
        "\n",
        "We know that in our function, the relationship between the numbers is `y=3x+1`.\n",
        "\n",
        "When the computer is trying to 'learn' that, it makes a guess...maybe `y=10x+10`? A **loss function** measures the guessed answers against the known correct answers and measures how well or how badly it did.\n",
        "\n",
        "It then uses an **optimizer function** to make another guess. Based on how the loss function went, it will try to minimize the loss. At that point maybe it will come up with something like `y=5x+5`, which, while still pretty bad, is closer to the correct result (i.e. the loss is lower).\n",
        "\n",
        "It will repeat this for the number of **epochs** (here, a maximum of 500 as specified above, or until a specific loss threshold is reached).\n",
        "\n",
        "In sklearn, all this happens behind the scenes: you don't need to specify any of these options (unless you want to! For example, there's a loss parameter if you want to use a specific loss function).The computer goes through a loop where it: makes a guess, measures how good or bad it is (aka the loss), uses an opimizer to make another guess etc. Once again, it will loop through these steps for the number of epochs you specify."
      ],
      "metadata": {
        "id": "d9rUv_U1g1pH"
      }
    },
    {
      "cell_type": "code",
      "source": [
        "model.fit(xs, ys)"
      ],
      "metadata": {
        "id": "yaL_JO12dRlt",
        "colab": {
          "base_uri": "https://localhost:8080/",
          "height": 74
        },
        "outputId": "40d090d6-d104-49cd-a41e-7fa473bc7adc"
      },
      "execution_count": null,
      "outputs": [
        {
          "output_type": "execute_result",
          "data": {
            "text/plain": [
              "SGDRegressor()"
            ],
            "text/html": [
              "<style>#sk-container-id-3 {color: black;background-color: white;}#sk-container-id-3 pre{padding: 0;}#sk-container-id-3 div.sk-toggleable {background-color: white;}#sk-container-id-3 label.sk-toggleable__label {cursor: pointer;display: block;width: 100%;margin-bottom: 0;padding: 0.3em;box-sizing: border-box;text-align: center;}#sk-container-id-3 label.sk-toggleable__label-arrow:before {content: \"▸\";float: left;margin-right: 0.25em;color: #696969;}#sk-container-id-3 label.sk-toggleable__label-arrow:hover:before {color: black;}#sk-container-id-3 div.sk-estimator:hover label.sk-toggleable__label-arrow:before {color: black;}#sk-container-id-3 div.sk-toggleable__content {max-height: 0;max-width: 0;overflow: hidden;text-align: left;background-color: #f0f8ff;}#sk-container-id-3 div.sk-toggleable__content pre {margin: 0.2em;color: black;border-radius: 0.25em;background-color: #f0f8ff;}#sk-container-id-3 input.sk-toggleable__control:checked~div.sk-toggleable__content {max-height: 200px;max-width: 100%;overflow: auto;}#sk-container-id-3 input.sk-toggleable__control:checked~label.sk-toggleable__label-arrow:before {content: \"▾\";}#sk-container-id-3 div.sk-estimator input.sk-toggleable__control:checked~label.sk-toggleable__label {background-color: #d4ebff;}#sk-container-id-3 div.sk-label input.sk-toggleable__control:checked~label.sk-toggleable__label {background-color: #d4ebff;}#sk-container-id-3 input.sk-hidden--visually {border: 0;clip: rect(1px 1px 1px 1px);clip: rect(1px, 1px, 1px, 1px);height: 1px;margin: -1px;overflow: hidden;padding: 0;position: absolute;width: 1px;}#sk-container-id-3 div.sk-estimator {font-family: monospace;background-color: #f0f8ff;border: 1px dotted black;border-radius: 0.25em;box-sizing: border-box;margin-bottom: 0.5em;}#sk-container-id-3 div.sk-estimator:hover {background-color: #d4ebff;}#sk-container-id-3 div.sk-parallel-item::after {content: \"\";width: 100%;border-bottom: 1px solid gray;flex-grow: 1;}#sk-container-id-3 div.sk-label:hover label.sk-toggleable__label {background-color: #d4ebff;}#sk-container-id-3 div.sk-serial::before {content: \"\";position: absolute;border-left: 1px solid gray;box-sizing: border-box;top: 0;bottom: 0;left: 50%;z-index: 0;}#sk-container-id-3 div.sk-serial {display: flex;flex-direction: column;align-items: center;background-color: white;padding-right: 0.2em;padding-left: 0.2em;position: relative;}#sk-container-id-3 div.sk-item {position: relative;z-index: 1;}#sk-container-id-3 div.sk-parallel {display: flex;align-items: stretch;justify-content: center;background-color: white;position: relative;}#sk-container-id-3 div.sk-item::before, #sk-container-id-3 div.sk-parallel-item::before {content: \"\";position: absolute;border-left: 1px solid gray;box-sizing: border-box;top: 0;bottom: 0;left: 50%;z-index: -1;}#sk-container-id-3 div.sk-parallel-item {display: flex;flex-direction: column;z-index: 1;position: relative;background-color: white;}#sk-container-id-3 div.sk-parallel-item:first-child::after {align-self: flex-end;width: 50%;}#sk-container-id-3 div.sk-parallel-item:last-child::after {align-self: flex-start;width: 50%;}#sk-container-id-3 div.sk-parallel-item:only-child::after {width: 0;}#sk-container-id-3 div.sk-dashed-wrapped {border: 1px dashed gray;margin: 0 0.4em 0.5em 0.4em;box-sizing: border-box;padding-bottom: 0.4em;background-color: white;}#sk-container-id-3 div.sk-label label {font-family: monospace;font-weight: bold;display: inline-block;line-height: 1.2em;}#sk-container-id-3 div.sk-label-container {text-align: center;}#sk-container-id-3 div.sk-container {/* jupyter's `normalize.less` sets `[hidden] { display: none; }` but bootstrap.min.css set `[hidden] { display: none !important; }` so we also need the `!important` here to be able to override the default hidden behavior on the sphinx rendered scikit-learn.org. See: https://github.com/scikit-learn/scikit-learn/issues/21755 */display: inline-block !important;position: relative;}#sk-container-id-3 div.sk-text-repr-fallback {display: none;}</style><div id=\"sk-container-id-3\" class=\"sk-top-container\"><div class=\"sk-text-repr-fallback\"><pre>SGDRegressor()</pre><b>In a Jupyter environment, please rerun this cell to show the HTML representation or trust the notebook. <br />On GitHub, the HTML representation is unable to render, please try loading this page with nbviewer.org.</b></div><div class=\"sk-container\" hidden><div class=\"sk-item\"><div class=\"sk-estimator sk-toggleable\"><input class=\"sk-toggleable__control sk-hidden--visually\" id=\"sk-estimator-id-3\" type=\"checkbox\" checked><label for=\"sk-estimator-id-3\" class=\"sk-toggleable__label sk-toggleable__label-arrow\">SGDRegressor</label><div class=\"sk-toggleable__content\"><pre>SGDRegressor()</pre></div></div></div></div></div>"
            ]
          },
          "metadata": {},
          "execution_count": 11
        }
      ]
    },
    {
      "cell_type": "markdown",
      "source": [
        "Ok, now you have a model that has been trained to learn the relationshop between X and Y. You can use the **model.predict** method to have it figure out the Y for a previously unknown X. So, for example, if X = 10, what do you think Y will be? Take a guess before you run this code:"
      ],
      "metadata": {
        "id": "VJQIQCG0hndE"
      }
    },
    {
      "cell_type": "code",
      "source": [
        "model.predict([[10]])"
      ],
      "metadata": {
        "id": "VHrP2ydVhnAQ",
        "colab": {
          "base_uri": "https://localhost:8080/"
        },
        "outputId": "e5dd63d4-5556-4627-8892-0c1f39d1a441"
      },
      "execution_count": null,
      "outputs": [
        {
          "output_type": "execute_result",
          "data": {
            "text/plain": [
              "array([30.77602401])"
            ]
          },
          "metadata": {},
          "execution_count": 12
        }
      ]
    },
    {
      "cell_type": "markdown",
      "metadata": {
        "id": "btF2CSFH2iEX"
      },
      "source": [
        "You might have thought 31, right? But it ended up not being exactly 31. Why do you think that is?\n",
        "\n",
        "Remember that neural networks deal with probabilities, so given the data that we fed the NN with, it calculated that there is a very high probability that the relationship between `x` and `y` is `y=3x+1`, but with only 6 data points we can't know for sure. As a result, the result for 10 is very close to 31, but not necessarily 31.\n",
        "\n",
        "As you work with neural networks, you'll see this pattern recurring. You will almost always deal with probabilities, not certainties, and will do a little bit of coding to figure out what the result is based on the probabilities, particularly when it comes to classification.\n"
      ]
    },
    {
      "cell_type": "markdown",
      "metadata": {
        "id": "HQNyq7TsmWog"
      },
      "source": [
        "# Exercise\n"
      ]
    },
    {
      "cell_type": "markdown",
      "metadata": {
        "id": "aMo3CEazmgKy"
      },
      "source": [
        "In this exercise you'll try to build a neural network that predicts the price of a house according to a simple formula.\n",
        "\n",
        "So, imagine if house pricing was as easy as a house costs 50k + 50k per bedroom, so that a 1 bedroom house costs 100k, a 2 bedroom house costs 150k etc.\n",
        "\n",
        "How would you create a neural network that learns this relationship so that it would predict a 7 bedroom house as costing close to 400k etc. (This part is where we see a hilarious amount of deviation from Singapore housing prices.)\n",
        "\n",
        "Hint: Your network might work better if you scale the house price down. You don't have to give the answer 400...it might be better to create something that predicts the number 4, and then your answer is in the 'hundreds of thousands' etc.\n",
        "\n",
        "Adapt the code below:"
      ]
    },
    {
      "cell_type": "code",
      "source": [
        "import numpy as np\n",
        "\n",
        "print(np.array([1.0, 2.0, 3.0, 4.0, 5.0]).shape)\n",
        "print(np.array([1.0, 2.0, 3.0, 4.0, 5.0]).reshape(-1, 1))\n",
        "\n"
      ],
      "metadata": {
        "colab": {
          "base_uri": "https://localhost:8080/"
        },
        "id": "Y3NJoKkrlpmk",
        "outputId": "aee7441b-8450-4ffd-a04e-1b88a2933800"
      },
      "execution_count": null,
      "outputs": [
        {
          "output_type": "stream",
          "name": "stdout",
          "text": [
            "(5,)\n",
            "[[1.]\n",
            " [2.]\n",
            " [3.]\n",
            " [4.]\n",
            " [5.]]\n"
          ]
        }
      ]
    },
    {
      "cell_type": "code",
      "source": [
        "import numpy as np\n",
        "from sklearn.linear_model import SGDRegressor\n",
        "\n",
        "xs = np.array([1.0, 2.0, 3.0, 4.0]).reshape(-1, 1)\n",
        "ys = np.array([10, 15, 20, 25])\n",
        "\n",
        "model = SGDRegressor(max_iter=9999, tol=1e-8) # FIX ME\n",
        "\n",
        "model.fit(xs, ys)\n",
        "\n",
        "# Make a prediction for a 7-bedroom house here\n",
        "# Your answer should be close to $400,000\n",
        "print(model.predict([[7]]) * 10000)\n",
        "print(model.predict([[8]]) * 10000)\n",
        "print(model.predict([[9]]) * 10000)\n",
        "print(model.predict([[10]]) * 10000)"
      ],
      "metadata": {
        "id": "xFOYSwrpjdn1",
        "colab": {
          "base_uri": "https://localhost:8080/"
        },
        "outputId": "793a6797-42f5-4c9e-caaa-0e26e4f6f26c"
      },
      "execution_count": null,
      "outputs": [
        {
          "output_type": "stream",
          "name": "stdout",
          "text": [
            "[400139.21427312]\n",
            "[450173.99781921]\n",
            "[500208.78136529]\n",
            "[550243.56491137]\n"
          ]
        }
      ]
    },
    {
      "cell_type": "code",
      "execution_count": null,
      "metadata": {
        "id": "KQz8F4LtVwCz",
        "colab": {
          "base_uri": "https://localhost:8080/"
        },
        "outputId": "8ad6caa7-896c-4b99-94bc-84928989ca49"
      },
      "outputs": [
        {
          "output_type": "execute_result",
          "data": {
            "text/plain": [
              "array([399996.03134624])"
            ]
          },
          "metadata": {},
          "execution_count": 66
        }
      ],
      "source": []
    },
    {
      "cell_type": "markdown",
      "source": [
        "# Takeaways\n",
        "\n",
        "*    The **scikit-learn** (sklearn) library hides most of the complexities in machine learning and allows us to simply call functions to perform tasks.\n",
        "*    You can practice using sklearn with real data to solve problems.\n",
        "*    Once you're comfortable with the basics, you can begin to explore customising the various parameters. This allows us to fine-tune and optimise our models.\n",
        "\n"
      ],
      "metadata": {
        "id": "Gtp5bxmHmaYr"
      }
    },
    {
      "cell_type": "code",
      "source": [],
      "metadata": {
        "id": "xfYJYoVunIqW"
      },
      "execution_count": null,
      "outputs": []
    }
  ],
  "metadata": {
    "colab": {
      "provenance": []
    },
    "kernelspec": {
      "display_name": "Python 3.9.13 ('base')",
      "language": "python",
      "name": "python3"
    },
    "language_info": {
      "codemirror_mode": {
        "name": "ipython",
        "version": 3
      },
      "file_extension": ".py",
      "mimetype": "text/x-python",
      "name": "python",
      "nbconvert_exporter": "python",
      "pygments_lexer": "ipython3",
      "version": "3.9.13"
    },
    "vscode": {
      "interpreter": {
        "hash": "ad2bdc8ecc057115af97d19610ffacc2b4e99fae6737bb82f5d7fb13d2f2c186"
      }
    }
  },
  "nbformat": 4,
  "nbformat_minor": 0
}