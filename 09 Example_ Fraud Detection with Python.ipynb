{
  "cells": [
    {
      "cell_type": "markdown",
      "metadata": {
        "id": "oqJp8hLEfu77"
      },
      "source": [
        "##### **Tinkercademy note:**\n",
        "\n",
        "This notebook is adapted (albeit heavily) from the work of [Trenton McKinney][1]. The full, original notebook can be found [here][2].\n",
        "\n",
        "\n",
        "  [1]: https://trenton3983.github.io/\n",
        "  [2]: https://github.com/trenton3983/DataCamp/blob/master/2019-07-19_fraud_detection_python.ipynb"
      ]
    },
    {
      "cell_type": "markdown",
      "metadata": {
        "id": "c5lUep3Rfu79"
      },
      "source": [
        "# Introduction to Fraud Detection in Python\n",
        "\n",
        "Organizations around the world [lose an estimated 5% of their annual revenues to fraud][1], according to a survey of Certified Fraud Examiners (CFEs). This notebook explores ways to use Python machine learning models  to help detect fraud in financial datasets.\n",
        "\n",
        "Fraud can come in many forms:\n",
        "\n",
        "* Insurance fraud\n",
        "* Credit card fraud\n",
        "* Identity theft\n",
        "* Money laundering\n",
        "* Tax evasion\n",
        "\n",
        "Yet, detecting fraud is challenging because it is so uncommon (usually less than 0.01% of all transactions) and perpetrators often attempt to cover up their misdoings. Current options to detect fraud include:\n",
        "* Reference checking - using flagged lists of criminals from authorities and comparing against the customer list\n",
        "* Rule-based systems - these simply follow a pre-programmed script to classify transactions using manually set thresholds.\n",
        "    * Might block transactions from specific postal codes/locations, from cards used too frequently.\n",
        "    * Will catch fraud, but also will generate many false alarms.\n",
        "    * While simple to set up, they are also inflexible and won't adapt without manual change.\n",
        "    * Does not provide a confidence level of predictions (ML models will give a confidence score)\n",
        "\n",
        "* Supervised learning ML algorithms\n",
        "    * We provide a training dataset of known fraud cases to teach the model what features fraud cases tend to exhibit.\n",
        "\n",
        "* Unsupervised learning ML algorithms\n",
        "    * Without any labeled data (i.e. a training dataset), these algorithms try to identify unusual outliers in the dataset that may represent fraudulent transactions.\n",
        "    * Abnormal behaviour doesn't guarantee fraud, so these often need human review.\n",
        "\n",
        "  [1]: https://www.acfe.com/about-the-acfe/newsroom-for-media/press-releases/press-release-detail?s=ACFE-Estimates-Organizations-Lose-5-percent-to-Fraud"
      ]
    },
    {
      "cell_type": "markdown",
      "source": [
        "**Working with Google Colaboratory**\n",
        "\n",
        "We are currently using **Google Colaboratory** to view a **Jupyter Notebook**. These notebooks can contain both text and Python code - which is invaluable for explaining or presenting code and/or analysis. You might notice the notebook is separated into cells. Each cell contains either text or Python code. To run a cell (i.e. execute Python code), you can select the cell and press **Shift + Enter**. You can also click the \"**Play**\" button that appears on the lefthand side of the cell when your mouse hovers over it.\n",
        "\n",
        "For today, you (thankfully!) don't have to worry about any of the Python code. We'll explain what it does as we go through the steps - this notebook also contains written explanations of each step along the way as well. You might recognise some of the steps and metrics from our previous explorations as well! But the overall goal of this notebook is to showcase another way to utlise artificial intelligence to automate a difficult, time-consuming, and costly task: **fraud detection**."
      ],
      "metadata": {
        "id": "cjnN7P8bErx9"
      }
    },
    {
      "cell_type": "markdown",
      "metadata": {
        "id": "yHQc6tjCfu7-"
      },
      "source": [
        "**Imports**\n",
        "\n",
        "We start by importing the libraries we will use during our analysis. We also define two custom functions that will later be used to prep and plot our data."
      ]
    },
    {
      "cell_type": "code",
      "execution_count": 1,
      "metadata": {
        "id": "7ijGW5vKfu7-"
      },
      "outputs": [],
      "source": [
        "import warnings\n",
        "warnings.filterwarnings('ignore')\n",
        "warnings.simplefilter('ignore')"
      ]
    },
    {
      "cell_type": "code",
      "execution_count": 3,
      "metadata": {
        "id": "8QL532bxfu7-"
      },
      "outputs": [],
      "source": [
        "import pandas as pd\n",
        "import matplotlib.pyplot as plt\n",
        "import numpy as np\n",
        "import csv\n",
        "from pathlib import Path\n",
        "from imblearn.over_sampling import SMOTE\n",
        "from imblearn.over_sampling import BorderlineSMOTE\n",
        "from imblearn.pipeline import Pipeline\n",
        "from sklearn.linear_model import LinearRegression, LogisticRegression\n",
        "from sklearn.model_selection import train_test_split, GridSearchCV\n",
        "from sklearn.tree import DecisionTreeClassifier\n",
        "from sklearn.metrics import r2_score, classification_report, confusion_matrix, accuracy_score, roc_auc_score, roc_curve, precision_recall_curve, average_precision_score\n",
        "from sklearn.metrics import homogeneity_score, silhouette_score\n",
        "from sklearn.ensemble import RandomForestClassifier, VotingClassifier\n",
        "from sklearn.preprocessing import MinMaxScaler\n",
        "from sklearn.cluster import MiniBatchKMeans, DBSCAN\n",
        "\n",
        "# Define a function to prep our data\n",
        "def prep_data(df: pd.DataFrame) -> (np.ndarray, np.ndarray):\n",
        "    \"\"\"\n",
        "    Convert the DataFrame into two variable\n",
        "    X: data columns (V1 - V28)\n",
        "    y: lable column\n",
        "    \"\"\"\n",
        "    X = df.iloc[:, 2:30].values\n",
        "    y = df.Class.values\n",
        "    return X, y\n",
        "\n",
        "# Define a function to create a scatter plot of our data and labels\n",
        "def plot_data(X: np.ndarray, y: np.ndarray):\n",
        "    plt.scatter(X[y == 0, 0], X[y == 0, 1], label=\"Class #0\", alpha=0.5, linewidth=0.15)\n",
        "    plt.scatter(X[y == 1, 0], X[y == 1, 1], label=\"Class #1\", alpha=0.5, linewidth=0.15, c='r')\n",
        "    plt.legend()\n",
        "    return plt.show()"
      ]
    },
    {
      "cell_type": "markdown",
      "metadata": {
        "id": "KS1YAfn5fu8A"
      },
      "source": [
        "**File Names**\n",
        "\n",
        "We also set our filenames and store them in variables. By declaring these at the top of our notebook, we can easily run the same analysis on new dat sets simply by updating the names."
      ]
    },
    {
      "cell_type": "code",
      "execution_count": 4,
      "metadata": {
        "id": "XYkmVsfOfu8A"
      },
      "outputs": [],
      "source": [
        "cc_file1 = 'https://raw.githubusercontent.com/iamamangosteen/aimlrpa/main/credit_card_fraud_txs.csv'\n",
        "cc_file2 = 'https://raw.githubusercontent.com/iamamangosteen/aimlrpa/main/credit_card_fraud_txs2.csv'\n",
        "banktxs = 'https://raw.githubusercontent.com/iamamangosteen/aimlrpa/main/bank_txs.csv'"
      ]
    },
    {
      "cell_type": "markdown",
      "metadata": {
        "id": "R3jZCY1Gfu7_"
      },
      "source": [
        "**Pandas Configuration Options**"
      ]
    },
    {
      "cell_type": "code",
      "execution_count": 5,
      "metadata": {
        "id": "x1BBrZwvfu7_"
      },
      "outputs": [],
      "source": [
        "#pd.set_option('display.max_columns', 700)\n",
        "#pd.set_option('display.max_rows', 400)\n",
        "#pd.set_option('display.min_rows', 10)\n",
        "#pd.set_option('display.expand_frame_repr', True)"
      ]
    },
    {
      "cell_type": "markdown",
      "metadata": {
        "id": "81QT_WA1fu8A"
      },
      "source": [
        "# Preparing your data"
      ]
    },
    {
      "cell_type": "markdown",
      "metadata": {
        "id": "JVgotsL4fu8B"
      },
      "source": [
        "### Familiarising Ourself With the Dataset\n",
        "\n",
        "We'll be working with `creditcard_sampledata.csv`, a dataset containing credit card transaction data. Whenever working with a new dataset, a good first step is to familiarise yourself with the data set:\n",
        "\n",
        "*   Our dataset has 5000 rows of data.\n",
        "*   Each row represents a transaction - there are 28 columns of anonymous variables (labeled Variable01 to Variable28).\n",
        "*   These represent things like: time of day, location, etc.\n",
        "*   Each row also has a column containing the Transaction Amount and a Class: 0 means the transaction was not fraudulent while 1 means the transaction was fraudulent."
      ]
    },
    {
      "cell_type": "code",
      "execution_count": 7,
      "metadata": {
        "id": "hLSZQ6Cwfu8B"
      },
      "outputs": [],
      "source": [
        "#import the file into a dataframe, i.e. a \"spreadsheet\" in Python\n",
        "df = pd.read_csv(cc_file1)"
      ]
    },
    {
      "cell_type": "code",
      "execution_count": null,
      "metadata": {
        "colab": {
          "base_uri": "https://localhost:8080/",
          "height": 487
        },
        "id": "ZGnOF3LAfu8B",
        "outputId": "02a3a228-3e59-4810-c323-45ed21282577"
      },
      "outputs": [
        {
          "output_type": "execute_result",
          "data": {
            "text/plain": [
              "      Variable01  Variable02  Variable03  Variable04  Variable05  Variable06  \\\n",
              "0           1.74       -1.38       -1.05       -0.39       -1.15       -1.10   \n",
              "1           0.70       -1.82        0.56       -0.28       -1.75        0.12   \n",
              "2           0.85       -0.76        0.99        0.21       -1.24        0.06   \n",
              "3           0.11        0.79       -2.01       -1.85        3.47        2.89   \n",
              "4           1.13        0.28        0.19        1.02       -0.13       -0.63   \n",
              "...          ...         ...         ...         ...         ...         ...   \n",
              "4995        1.22        1.99       -3.68        4.63        0.07       -0.92   \n",
              "4996       -1.79        1.95       -2.81        0.10       -0.20        0.24   \n",
              "4997       -7.64        3.27       -7.37        5.16       -4.54       -1.76   \n",
              "4998       -1.19        1.73       -2.57        5.25       -0.33        1.46   \n",
              "4999       -9.39        8.10      -10.06        3.90       -6.65       -3.00   \n",
              "\n",
              "      Variable07  Variable08  Variable09  Variable10  ...  Variable21  \\\n",
              "0          -0.95       -0.02       -0.03        0.23  ...        0.35   \n",
              "1          -0.48        0.13       -0.67        0.47  ...        0.11   \n",
              "2          -0.60        0.28        1.24       -0.45  ...       -0.17   \n",
              "3           0.35        0.92       -0.18       -0.79  ...       -0.28   \n",
              "4           0.10       -0.15        0.14        0.03  ...        0.03   \n",
              "...          ...         ...         ...         ...  ...         ...   \n",
              "4995       -2.06        0.43       -1.81       -2.65  ...        0.34   \n",
              "4996       -3.06       -2.20       -0.64       -5.38  ...       -0.08   \n",
              "4997       -6.49        3.44       -3.63       -6.26  ...        1.49   \n",
              "4998        0.71       -0.14       -2.11       -0.42  ...       -0.44   \n",
              "4999       -7.33        5.11       -2.79       -6.43  ...        0.91   \n",
              "\n",
              "      Variable22  Variable23  Variable24  Variable25  Variable26  Variable27  \\\n",
              "0           0.89        0.03        0.42       -0.42       -0.17       -0.01   \n",
              "1          -0.26       -0.13        0.24        0.07       -0.45       -0.02   \n",
              "2          -0.40        0.08        0.12        0.00        0.79       -0.04   \n",
              "3          -0.72        0.12        0.51       -0.45        0.18        0.25   \n",
              "4           0.13       -0.15       -0.17        0.72       -0.27        0.02   \n",
              "...          ...         ...         ...         ...         ...         ...   \n",
              "4995       -0.15       -0.02       -0.31        0.23        0.11        0.57   \n",
              "4996        0.58       -0.08       -0.50        0.33       -0.59        0.14   \n",
              "4997       -0.01       -0.80        0.37       -1.12       -0.61       -0.83   \n",
              "4998       -0.77        0.41       -0.08       -0.52        0.01       -0.23   \n",
              "4999       -0.81        0.17       -0.06        0.56       -0.23        1.23   \n",
              "\n",
              "      Variable28  Amount  Class  \n",
              "0           0.01  215.46      0  \n",
              "1           0.07  324.63      0  \n",
              "2           0.02   56.38      0  \n",
              "3           0.08    0.78      0  \n",
              "4           0.02    7.05      0  \n",
              "...          ...     ...    ...  \n",
              "4995        0.22    1.03      1  \n",
              "4996        0.03   44.50      1  \n",
              "4997        0.43   87.66      1  \n",
              "4998       -0.84  363.54      1  \n",
              "4999        0.20  117.99      1  \n",
              "\n",
              "[5000 rows x 30 columns]"
            ],
            "text/html": [
              "\n",
              "  <div id=\"df-dc63d6e4-5552-43d4-a6c1-f79bda4d26d2\">\n",
              "    <div class=\"colab-df-container\">\n",
              "      <div>\n",
              "<style scoped>\n",
              "    .dataframe tbody tr th:only-of-type {\n",
              "        vertical-align: middle;\n",
              "    }\n",
              "\n",
              "    .dataframe tbody tr th {\n",
              "        vertical-align: top;\n",
              "    }\n",
              "\n",
              "    .dataframe thead th {\n",
              "        text-align: right;\n",
              "    }\n",
              "</style>\n",
              "<table border=\"1\" class=\"dataframe\">\n",
              "  <thead>\n",
              "    <tr style=\"text-align: right;\">\n",
              "      <th></th>\n",
              "      <th>Variable01</th>\n",
              "      <th>Variable02</th>\n",
              "      <th>Variable03</th>\n",
              "      <th>Variable04</th>\n",
              "      <th>Variable05</th>\n",
              "      <th>Variable06</th>\n",
              "      <th>Variable07</th>\n",
              "      <th>Variable08</th>\n",
              "      <th>Variable09</th>\n",
              "      <th>Variable10</th>\n",
              "      <th>...</th>\n",
              "      <th>Variable21</th>\n",
              "      <th>Variable22</th>\n",
              "      <th>Variable23</th>\n",
              "      <th>Variable24</th>\n",
              "      <th>Variable25</th>\n",
              "      <th>Variable26</th>\n",
              "      <th>Variable27</th>\n",
              "      <th>Variable28</th>\n",
              "      <th>Amount</th>\n",
              "      <th>Class</th>\n",
              "    </tr>\n",
              "  </thead>\n",
              "  <tbody>\n",
              "    <tr>\n",
              "      <th>0</th>\n",
              "      <td>1.74</td>\n",
              "      <td>-1.38</td>\n",
              "      <td>-1.05</td>\n",
              "      <td>-0.39</td>\n",
              "      <td>-1.15</td>\n",
              "      <td>-1.10</td>\n",
              "      <td>-0.95</td>\n",
              "      <td>-0.02</td>\n",
              "      <td>-0.03</td>\n",
              "      <td>0.23</td>\n",
              "      <td>...</td>\n",
              "      <td>0.35</td>\n",
              "      <td>0.89</td>\n",
              "      <td>0.03</td>\n",
              "      <td>0.42</td>\n",
              "      <td>-0.42</td>\n",
              "      <td>-0.17</td>\n",
              "      <td>-0.01</td>\n",
              "      <td>0.01</td>\n",
              "      <td>215.46</td>\n",
              "      <td>0</td>\n",
              "    </tr>\n",
              "    <tr>\n",
              "      <th>1</th>\n",
              "      <td>0.70</td>\n",
              "      <td>-1.82</td>\n",
              "      <td>0.56</td>\n",
              "      <td>-0.28</td>\n",
              "      <td>-1.75</td>\n",
              "      <td>0.12</td>\n",
              "      <td>-0.48</td>\n",
              "      <td>0.13</td>\n",
              "      <td>-0.67</td>\n",
              "      <td>0.47</td>\n",
              "      <td>...</td>\n",
              "      <td>0.11</td>\n",
              "      <td>-0.26</td>\n",
              "      <td>-0.13</td>\n",
              "      <td>0.24</td>\n",
              "      <td>0.07</td>\n",
              "      <td>-0.45</td>\n",
              "      <td>-0.02</td>\n",
              "      <td>0.07</td>\n",
              "      <td>324.63</td>\n",
              "      <td>0</td>\n",
              "    </tr>\n",
              "    <tr>\n",
              "      <th>2</th>\n",
              "      <td>0.85</td>\n",
              "      <td>-0.76</td>\n",
              "      <td>0.99</td>\n",
              "      <td>0.21</td>\n",
              "      <td>-1.24</td>\n",
              "      <td>0.06</td>\n",
              "      <td>-0.60</td>\n",
              "      <td>0.28</td>\n",
              "      <td>1.24</td>\n",
              "      <td>-0.45</td>\n",
              "      <td>...</td>\n",
              "      <td>-0.17</td>\n",
              "      <td>-0.40</td>\n",
              "      <td>0.08</td>\n",
              "      <td>0.12</td>\n",
              "      <td>0.00</td>\n",
              "      <td>0.79</td>\n",
              "      <td>-0.04</td>\n",
              "      <td>0.02</td>\n",
              "      <td>56.38</td>\n",
              "      <td>0</td>\n",
              "    </tr>\n",
              "    <tr>\n",
              "      <th>3</th>\n",
              "      <td>0.11</td>\n",
              "      <td>0.79</td>\n",
              "      <td>-2.01</td>\n",
              "      <td>-1.85</td>\n",
              "      <td>3.47</td>\n",
              "      <td>2.89</td>\n",
              "      <td>0.35</td>\n",
              "      <td>0.92</td>\n",
              "      <td>-0.18</td>\n",
              "      <td>-0.79</td>\n",
              "      <td>...</td>\n",
              "      <td>-0.28</td>\n",
              "      <td>-0.72</td>\n",
              "      <td>0.12</td>\n",
              "      <td>0.51</td>\n",
              "      <td>-0.45</td>\n",
              "      <td>0.18</td>\n",
              "      <td>0.25</td>\n",
              "      <td>0.08</td>\n",
              "      <td>0.78</td>\n",
              "      <td>0</td>\n",
              "    </tr>\n",
              "    <tr>\n",
              "      <th>4</th>\n",
              "      <td>1.13</td>\n",
              "      <td>0.28</td>\n",
              "      <td>0.19</td>\n",
              "      <td>1.02</td>\n",
              "      <td>-0.13</td>\n",
              "      <td>-0.63</td>\n",
              "      <td>0.10</td>\n",
              "      <td>-0.15</td>\n",
              "      <td>0.14</td>\n",
              "      <td>0.03</td>\n",
              "      <td>...</td>\n",
              "      <td>0.03</td>\n",
              "      <td>0.13</td>\n",
              "      <td>-0.15</td>\n",
              "      <td>-0.17</td>\n",
              "      <td>0.72</td>\n",
              "      <td>-0.27</td>\n",
              "      <td>0.02</td>\n",
              "      <td>0.02</td>\n",
              "      <td>7.05</td>\n",
              "      <td>0</td>\n",
              "    </tr>\n",
              "    <tr>\n",
              "      <th>...</th>\n",
              "      <td>...</td>\n",
              "      <td>...</td>\n",
              "      <td>...</td>\n",
              "      <td>...</td>\n",
              "      <td>...</td>\n",
              "      <td>...</td>\n",
              "      <td>...</td>\n",
              "      <td>...</td>\n",
              "      <td>...</td>\n",
              "      <td>...</td>\n",
              "      <td>...</td>\n",
              "      <td>...</td>\n",
              "      <td>...</td>\n",
              "      <td>...</td>\n",
              "      <td>...</td>\n",
              "      <td>...</td>\n",
              "      <td>...</td>\n",
              "      <td>...</td>\n",
              "      <td>...</td>\n",
              "      <td>...</td>\n",
              "      <td>...</td>\n",
              "    </tr>\n",
              "    <tr>\n",
              "      <th>4995</th>\n",
              "      <td>1.22</td>\n",
              "      <td>1.99</td>\n",
              "      <td>-3.68</td>\n",
              "      <td>4.63</td>\n",
              "      <td>0.07</td>\n",
              "      <td>-0.92</td>\n",
              "      <td>-2.06</td>\n",
              "      <td>0.43</td>\n",
              "      <td>-1.81</td>\n",
              "      <td>-2.65</td>\n",
              "      <td>...</td>\n",
              "      <td>0.34</td>\n",
              "      <td>-0.15</td>\n",
              "      <td>-0.02</td>\n",
              "      <td>-0.31</td>\n",
              "      <td>0.23</td>\n",
              "      <td>0.11</td>\n",
              "      <td>0.57</td>\n",
              "      <td>0.22</td>\n",
              "      <td>1.03</td>\n",
              "      <td>1</td>\n",
              "    </tr>\n",
              "    <tr>\n",
              "      <th>4996</th>\n",
              "      <td>-1.79</td>\n",
              "      <td>1.95</td>\n",
              "      <td>-2.81</td>\n",
              "      <td>0.10</td>\n",
              "      <td>-0.20</td>\n",
              "      <td>0.24</td>\n",
              "      <td>-3.06</td>\n",
              "      <td>-2.20</td>\n",
              "      <td>-0.64</td>\n",
              "      <td>-5.38</td>\n",
              "      <td>...</td>\n",
              "      <td>-0.08</td>\n",
              "      <td>0.58</td>\n",
              "      <td>-0.08</td>\n",
              "      <td>-0.50</td>\n",
              "      <td>0.33</td>\n",
              "      <td>-0.59</td>\n",
              "      <td>0.14</td>\n",
              "      <td>0.03</td>\n",
              "      <td>44.50</td>\n",
              "      <td>1</td>\n",
              "    </tr>\n",
              "    <tr>\n",
              "      <th>4997</th>\n",
              "      <td>-7.64</td>\n",
              "      <td>3.27</td>\n",
              "      <td>-7.37</td>\n",
              "      <td>5.16</td>\n",
              "      <td>-4.54</td>\n",
              "      <td>-1.76</td>\n",
              "      <td>-6.49</td>\n",
              "      <td>3.44</td>\n",
              "      <td>-3.63</td>\n",
              "      <td>-6.26</td>\n",
              "      <td>...</td>\n",
              "      <td>1.49</td>\n",
              "      <td>-0.01</td>\n",
              "      <td>-0.80</td>\n",
              "      <td>0.37</td>\n",
              "      <td>-1.12</td>\n",
              "      <td>-0.61</td>\n",
              "      <td>-0.83</td>\n",
              "      <td>0.43</td>\n",
              "      <td>87.66</td>\n",
              "      <td>1</td>\n",
              "    </tr>\n",
              "    <tr>\n",
              "      <th>4998</th>\n",
              "      <td>-1.19</td>\n",
              "      <td>1.73</td>\n",
              "      <td>-2.57</td>\n",
              "      <td>5.25</td>\n",
              "      <td>-0.33</td>\n",
              "      <td>1.46</td>\n",
              "      <td>0.71</td>\n",
              "      <td>-0.14</td>\n",
              "      <td>-2.11</td>\n",
              "      <td>-0.42</td>\n",
              "      <td>...</td>\n",
              "      <td>-0.44</td>\n",
              "      <td>-0.77</td>\n",
              "      <td>0.41</td>\n",
              "      <td>-0.08</td>\n",
              "      <td>-0.52</td>\n",
              "      <td>0.01</td>\n",
              "      <td>-0.23</td>\n",
              "      <td>-0.84</td>\n",
              "      <td>363.54</td>\n",
              "      <td>1</td>\n",
              "    </tr>\n",
              "    <tr>\n",
              "      <th>4999</th>\n",
              "      <td>-9.39</td>\n",
              "      <td>8.10</td>\n",
              "      <td>-10.06</td>\n",
              "      <td>3.90</td>\n",
              "      <td>-6.65</td>\n",
              "      <td>-3.00</td>\n",
              "      <td>-7.33</td>\n",
              "      <td>5.11</td>\n",
              "      <td>-2.79</td>\n",
              "      <td>-6.43</td>\n",
              "      <td>...</td>\n",
              "      <td>0.91</td>\n",
              "      <td>-0.81</td>\n",
              "      <td>0.17</td>\n",
              "      <td>-0.06</td>\n",
              "      <td>0.56</td>\n",
              "      <td>-0.23</td>\n",
              "      <td>1.23</td>\n",
              "      <td>0.20</td>\n",
              "      <td>117.99</td>\n",
              "      <td>1</td>\n",
              "    </tr>\n",
              "  </tbody>\n",
              "</table>\n",
              "<p>5000 rows × 30 columns</p>\n",
              "</div>\n",
              "      <button class=\"colab-df-convert\" onclick=\"convertToInteractive('df-dc63d6e4-5552-43d4-a6c1-f79bda4d26d2')\"\n",
              "              title=\"Convert this dataframe to an interactive table.\"\n",
              "              style=\"display:none;\">\n",
              "        \n",
              "  <svg xmlns=\"http://www.w3.org/2000/svg\" height=\"24px\"viewBox=\"0 0 24 24\"\n",
              "       width=\"24px\">\n",
              "    <path d=\"M0 0h24v24H0V0z\" fill=\"none\"/>\n",
              "    <path d=\"M18.56 5.44l.94 2.06.94-2.06 2.06-.94-2.06-.94-.94-2.06-.94 2.06-2.06.94zm-11 1L8.5 8.5l.94-2.06 2.06-.94-2.06-.94L8.5 2.5l-.94 2.06-2.06.94zm10 10l.94 2.06.94-2.06 2.06-.94-2.06-.94-.94-2.06-.94 2.06-2.06.94z\"/><path d=\"M17.41 7.96l-1.37-1.37c-.4-.4-.92-.59-1.43-.59-.52 0-1.04.2-1.43.59L10.3 9.45l-7.72 7.72c-.78.78-.78 2.05 0 2.83L4 21.41c.39.39.9.59 1.41.59.51 0 1.02-.2 1.41-.59l7.78-7.78 2.81-2.81c.8-.78.8-2.07 0-2.86zM5.41 20L4 18.59l7.72-7.72 1.47 1.35L5.41 20z\"/>\n",
              "  </svg>\n",
              "      </button>\n",
              "      \n",
              "  <style>\n",
              "    .colab-df-container {\n",
              "      display:flex;\n",
              "      flex-wrap:wrap;\n",
              "      gap: 12px;\n",
              "    }\n",
              "\n",
              "    .colab-df-convert {\n",
              "      background-color: #E8F0FE;\n",
              "      border: none;\n",
              "      border-radius: 50%;\n",
              "      cursor: pointer;\n",
              "      display: none;\n",
              "      fill: #1967D2;\n",
              "      height: 32px;\n",
              "      padding: 0 0 0 0;\n",
              "      width: 32px;\n",
              "    }\n",
              "\n",
              "    .colab-df-convert:hover {\n",
              "      background-color: #E2EBFA;\n",
              "      box-shadow: 0px 1px 2px rgba(60, 64, 67, 0.3), 0px 1px 3px 1px rgba(60, 64, 67, 0.15);\n",
              "      fill: #174EA6;\n",
              "    }\n",
              "\n",
              "    [theme=dark] .colab-df-convert {\n",
              "      background-color: #3B4455;\n",
              "      fill: #D2E3FC;\n",
              "    }\n",
              "\n",
              "    [theme=dark] .colab-df-convert:hover {\n",
              "      background-color: #434B5C;\n",
              "      box-shadow: 0px 1px 3px 1px rgba(0, 0, 0, 0.15);\n",
              "      filter: drop-shadow(0px 1px 2px rgba(0, 0, 0, 0.3));\n",
              "      fill: #FFFFFF;\n",
              "    }\n",
              "  </style>\n",
              "\n",
              "      <script>\n",
              "        const buttonEl =\n",
              "          document.querySelector('#df-dc63d6e4-5552-43d4-a6c1-f79bda4d26d2 button.colab-df-convert');\n",
              "        buttonEl.style.display =\n",
              "          google.colab.kernel.accessAllowed ? 'block' : 'none';\n",
              "\n",
              "        async function convertToInteractive(key) {\n",
              "          const element = document.querySelector('#df-dc63d6e4-5552-43d4-a6c1-f79bda4d26d2');\n",
              "          const dataTable =\n",
              "            await google.colab.kernel.invokeFunction('convertToInteractive',\n",
              "                                                     [key], {});\n",
              "          if (!dataTable) return;\n",
              "\n",
              "          const docLinkHtml = 'Like what you see? Visit the ' +\n",
              "            '<a target=\"_blank\" href=https://colab.research.google.com/notebooks/data_table.ipynb>data table notebook</a>'\n",
              "            + ' to learn more about interactive tables.';\n",
              "          element.innerHTML = '';\n",
              "          dataTable['output_type'] = 'display_data';\n",
              "          await google.colab.output.renderOutput(dataTable, element);\n",
              "          const docLink = document.createElement('div');\n",
              "          docLink.innerHTML = docLinkHtml;\n",
              "          element.appendChild(docLink);\n",
              "        }\n",
              "      </script>\n",
              "    </div>\n",
              "  </div>\n",
              "  "
            ]
          },
          "metadata": {},
          "execution_count": 6
        }
      ],
      "source": [
        "df"
      ]
    },
    {
      "cell_type": "code",
      "execution_count": 8,
      "metadata": {
        "colab": {
          "base_uri": "https://localhost:8080/"
        },
        "id": "t715hRF6fu8C",
        "outputId": "9de927fe-fd8c-44a1-b334-357e2d930b20"
      },
      "outputs": [
        {
          "output_type": "stream",
          "name": "stdout",
          "text": [
            "Number of legitimate transactions: 4950\n",
            "Number of fraudulent transactions: 50\n"
          ]
        }
      ],
      "source": [
        "# Count the occurrences of fraud and no fraud and print them\n",
        "occ = df['Class'].value_counts()\n",
        "print(\"Number of legitimate transactions:\", occ[0])\n",
        "print(\"Number of fraudulent transactions:\", occ[1])"
      ]
    },
    {
      "cell_type": "code",
      "execution_count": 9,
      "metadata": {
        "colab": {
          "base_uri": "https://localhost:8080/"
        },
        "id": "tUw-BpvQfu8C",
        "outputId": "5d3c52c5-b2db-423e-f846-70ec9260e5a9"
      },
      "outputs": [
        {
          "output_type": "stream",
          "name": "stdout",
          "text": [
            "Percent of fraudulent cases: 1.0\n",
            "Percent of non-fraudulent cases: 99.0\n"
          ]
        }
      ],
      "source": [
        "# Print the ratio of fraud cases\n",
        "ratio_cases = occ/len(df.index)\n",
        "print(f'Percent of fraudulent cases: {round(ratio_cases[1]*100,2)}')\n",
        "print(f'Percent of non-fraudulent cases: {round(ratio_cases[0]*100,2)}')"
      ]
    },
    {
      "cell_type": "code",
      "source": [
        "# Plot our data\n",
        "plt.scatter(df.Variable01[df.Class == 0], df.Variable02[df.Class == 0], label=\"Class #0\", alpha=0.5, linewidth=0.15)\n",
        "plt.scatter(df.Variable01[df.Class == 1], df.Variable02[df.Class == 1], label=\"Class #1\", alpha=0.5, linewidth=0.15, c='r')\n",
        "plt.legend()\n",
        "plt.show()"
      ],
      "metadata": {
        "colab": {
          "base_uri": "https://localhost:8080/",
          "height": 430
        },
        "id": "WdiMfWhgT1Xf",
        "outputId": "1daa8a9c-eeb2-44fe-ac15-a325863a4f1a"
      },
      "execution_count": null,
      "outputs": [
        {
          "output_type": "display_data",
          "data": {
            "text/plain": [
              "<Figure size 640x480 with 1 Axes>"
            ],
            "image/png": "[encoded data removed]"
          },
          "metadata": {}
        }
      ]
    },
    {
      "cell_type": "markdown",
      "source": [
        "You might notice right away that fraud cases are a very tiny minority (50 cases of fraud out of 5000 total cases). The visualisation quickly confirms this, and serves as a great way to convey our results to others. However, with our knowledge of machine learning bias, we know we need training classes of roughly equivalent size. So the very first thing we need to fix is this imbalance."
      ],
      "metadata": {
        "id": "NWRzJ19aTU_c"
      }
    },
    {
      "cell_type": "markdown",
      "metadata": {
        "id": "mjiV8WFyfu8D"
      },
      "source": [
        "## Data Resampling\n",
        "\n",
        "Resampling can help model performance in cases of imbalanced data sets. Note that you should only ever resample your **training** dataset, not your **test** dataset. There are multiple ways to perform resampling:\n",
        "* Undersampling - reducing the size of the majority class down to the size of the minority class\n",
        "* Oversampling - duplicating the minority class until it's the same size as the majority class\n",
        "* SMOTE (Synthetic Minority Oversampling Technique) - a method of generating more data points for the minority class without duplicating. Instead, it attempts to identify common features and generates similar \"synthetic\" data points.\n",
        "\n",
        "![oversampling and undersampling](https://raw.githubusercontent.com/iamamangosteen/aimlrpa/main/resampling.png)\n",
        "\n",
        "Disadvantages:\n",
        "* with undersampling, a lot of information is thrown away\n",
        "* with oversampling, the model will be trained on a lot of duplicates\n",
        "\n",
        "![SMOTE](https://github.com/iamamangosteen/aimlrpa/blob/main/smote.png?raw=true)\n",
        "\n",
        "Disadvantages:\n",
        "* with SMOTE, we are assuming all fraud cases have similar, distinct features, which may not always be true. Thus, at it's worst, it can make it harder for the model to detect actual fraud."
      ]
    },
    {
      "cell_type": "markdown",
      "metadata": {
        "id": "Wy1Yz4c9fu8E"
      },
      "source": [
        "### Using Synthetic Minority Oversampling Technique (SMOTE)\n",
        "\n",
        "For this analysis, we'll use SMOTE on our dataset to balance our classes. Remember, SMOTE does not create exact copies of observations, but rather **creates new, synthetic, samples** that are quite similar to the existing observations in the minority class."
      ]
    },
    {
      "cell_type": "code",
      "execution_count": 10,
      "metadata": {
        "id": "79Ch23bIfu8E",
        "colab": {
          "base_uri": "https://localhost:8080/",
          "height": 430
        },
        "outputId": "16dadb76-e32f-4a42-f10c-9bd95938a9c1"
      },
      "outputs": [
        {
          "output_type": "display_data",
          "data": {
            "text/plain": [
              "<Figure size 640x480 with 1 Axes>"
            ],
            "image/png": "[encoded data removed]"
          },
          "metadata": {}
        }
      ],
      "source": [
        "# Run the prep_data function\n",
        "X, y = prep_data(df)\n",
        "\n",
        "# Define the resampling method\n",
        "method = SMOTE()\n",
        "\n",
        "# Create the resampled feature set\n",
        "X_resampled, y_resampled = method.fit_resample(X, y)\n",
        "\n",
        "# Plot the resampled data\n",
        "plot_data(X_resampled, y_resampled)"
      ]
    },
    {
      "cell_type": "markdown",
      "metadata": {
        "id": "8SL4E6AOfu8F"
      },
      "source": [
        "You can see now the minority class has **many** more observations. We can confirm this by counting the number of observations before and after SMOTE:"
      ]
    },
    {
      "cell_type": "code",
      "source": [
        "# Count the occurrences of fraud and no fraud in the original dataset\n",
        "newocc = pd.value_counts(pd.Series(y))\n",
        "print(\"Number of legitimate transactions (original dataset):\", newocc[0])\n",
        "print(\"Number of fraudulent transactions (original dataset):\", newocc[1])"
      ],
      "metadata": {
        "colab": {
          "base_uri": "https://localhost:8080/"
        },
        "id": "aRhOJRZmat9F",
        "outputId": "2713dc94-5bc0-4efa-99d6-6ad7adebc7fa"
      },
      "execution_count": 11,
      "outputs": [
        {
          "output_type": "stream",
          "name": "stdout",
          "text": [
            "Number of legitimate transactions (original dataset): 4950\n",
            "Number of fraudulent transactions (original dataset): 50\n"
          ]
        }
      ]
    },
    {
      "cell_type": "code",
      "source": [
        "# Count the occurrences of fraud and no fraud in our newly modified dataset\n",
        "newocc = pd.value_counts(pd.Series(y_resampled))\n",
        "print(\"Number of legitimate transactions (after SMOTE):\", newocc[0])\n",
        "print(\"Number of fraudulent transactions (after SMOTE):\", newocc[1])"
      ],
      "metadata": {
        "colab": {
          "base_uri": "https://localhost:8080/"
        },
        "id": "NIOd5HC8auXh",
        "outputId": "0637ab74-2f5d-43d2-b467-a96251ca4171"
      },
      "execution_count": 12,
      "outputs": [
        {
          "output_type": "stream",
          "name": "stdout",
          "text": [
            "Number of legitimate transactions (after SMOTE): 4950\n",
            "Number of fraudulent transactions (after SMOTE): 4950\n"
          ]
        }
      ]
    },
    {
      "cell_type": "markdown",
      "metadata": {
        "id": "WQbmc6hUfu8G"
      },
      "source": [
        "# Exploring the traditional method of fraud detection\n",
        "\n",
        "Let's first try to detect fraud using the old rule-based method. We'll take a look at the statistical means of fraud and non-fraud cases in our dataset. We'll then use the differences in those values to determine thresholds with which we will use to detect fraud.\n",
        "\n",
        "\n",
        "\n",
        "\n",
        "\n",
        "**Instructions**\n",
        "\n",
        "* Use `groupby()` to group `df` on `Class` and obtain the mean of the features.\n",
        "* Create the condition `V1` smaller than -3, and `V3` smaller than -5 as a condition to flag fraud cases.\n",
        "* As a measure of performance, use the `crosstab` function from `pandas` to compare our flagged fraud cases to actual fraud cases."
      ]
    },
    {
      "cell_type": "code",
      "execution_count": 13,
      "metadata": {
        "id": "X4MpWxtHfu8H",
        "colab": {
          "base_uri": "https://localhost:8080/",
          "height": 193
        },
        "outputId": "ecdc4112-2190-4de0-b67e-59d98984fc78"
      },
      "outputs": [
        {
          "output_type": "execute_result",
          "data": {
            "text/plain": [
              "       Variable01  Variable02  Variable03  Variable04  Variable05  Variable06  \\\n",
              "Class                                                                           \n",
              "0        0.037711    0.014903    0.043897   -0.044347   -0.014541   -0.034978   \n",
              "1       -4.956800    3.251400   -7.075400    4.760000   -3.254800   -1.587800   \n",
              "\n",
              "       Variable07  Variable08  Variable09  Variable10  ...  Variable20  \\\n",
              "Class                                                  ...               \n",
              "0        0.017602   -0.014236   -0.004202    0.005238  ...   -0.005354   \n",
              "1       -5.749000    1.384800   -2.521200   -5.850600  ...    0.191000   \n",
              "\n",
              "       Variable21  Variable22  Variable23  Variable24  Variable25  Variable26  \\\n",
              "Class                                                                           \n",
              "0       -0.006895   -0.012329   -0.002511   -0.000689   -0.001198   -0.006487   \n",
              "1        0.671200    0.101600   -0.059000   -0.026000   -0.065000   -0.020400   \n",
              "\n",
              "       Variable27  Variable28      Amount  \n",
              "Class                                      \n",
              "0       -0.010788    0.002968   85.878788  \n",
              "1        0.387400    0.016600  112.472600  \n",
              "\n",
              "[2 rows x 29 columns]"
            ],
            "text/html": [
              "\n",
              "  <div id=\"df-2c9179de-67df-40e6-aa13-734b608291cc\" class=\"colab-df-container\">\n",
              "    <div>\n",
              "<style scoped>\n",
              "    .dataframe tbody tr th:only-of-type {\n",
              "        vertical-align: middle;\n",
              "    }\n",
              "\n",
              "    .dataframe tbody tr th {\n",
              "        vertical-align: top;\n",
              "    }\n",
              "\n",
              "    .dataframe thead th {\n",
              "        text-align: right;\n",
              "    }\n",
              "</style>\n",
              "<table border=\"1\" class=\"dataframe\">\n",
              "  <thead>\n",
              "    <tr style=\"text-align: right;\">\n",
              "      <th></th>\n",
              "      <th>Variable01</th>\n",
              "      <th>Variable02</th>\n",
              "      <th>Variable03</th>\n",
              "      <th>Variable04</th>\n",
              "      <th>Variable05</th>\n",
              "      <th>Variable06</th>\n",
              "      <th>Variable07</th>\n",
              "      <th>Variable08</th>\n",
              "      <th>Variable09</th>\n",
              "      <th>Variable10</th>\n",
              "      <th>...</th>\n",
              "      <th>Variable20</th>\n",
              "      <th>Variable21</th>\n",
              "      <th>Variable22</th>\n",
              "      <th>Variable23</th>\n",
              "      <th>Variable24</th>\n",
              "      <th>Variable25</th>\n",
              "      <th>Variable26</th>\n",
              "      <th>Variable27</th>\n",
              "      <th>Variable28</th>\n",
              "      <th>Amount</th>\n",
              "    </tr>\n",
              "    <tr>\n",
              "      <th>Class</th>\n",
              "      <th></th>\n",
              "      <th></th>\n",
              "      <th></th>\n",
              "      <th></th>\n",
              "      <th></th>\n",
              "      <th></th>\n",
              "      <th></th>\n",
              "      <th></th>\n",
              "      <th></th>\n",
              "      <th></th>\n",
              "      <th></th>\n",
              "      <th></th>\n",
              "      <th></th>\n",
              "      <th></th>\n",
              "      <th></th>\n",
              "      <th></th>\n",
              "      <th></th>\n",
              "      <th></th>\n",
              "      <th></th>\n",
              "      <th></th>\n",
              "      <th></th>\n",
              "    </tr>\n",
              "  </thead>\n",
              "  <tbody>\n",
              "    <tr>\n",
              "      <th>0</th>\n",
              "      <td>0.037711</td>\n",
              "      <td>0.014903</td>\n",
              "      <td>0.043897</td>\n",
              "      <td>-0.044347</td>\n",
              "      <td>-0.014541</td>\n",
              "      <td>-0.034978</td>\n",
              "      <td>0.017602</td>\n",
              "      <td>-0.014236</td>\n",
              "      <td>-0.004202</td>\n",
              "      <td>0.005238</td>\n",
              "      <td>...</td>\n",
              "      <td>-0.005354</td>\n",
              "      <td>-0.006895</td>\n",
              "      <td>-0.012329</td>\n",
              "      <td>-0.002511</td>\n",
              "      <td>-0.000689</td>\n",
              "      <td>-0.001198</td>\n",
              "      <td>-0.006487</td>\n",
              "      <td>-0.010788</td>\n",
              "      <td>0.002968</td>\n",
              "      <td>85.878788</td>\n",
              "    </tr>\n",
              "    <tr>\n",
              "      <th>1</th>\n",
              "      <td>-4.956800</td>\n",
              "      <td>3.251400</td>\n",
              "      <td>-7.075400</td>\n",
              "      <td>4.760000</td>\n",
              "      <td>-3.254800</td>\n",
              "      <td>-1.587800</td>\n",
              "      <td>-5.749000</td>\n",
              "      <td>1.384800</td>\n",
              "      <td>-2.521200</td>\n",
              "      <td>-5.850600</td>\n",
              "      <td>...</td>\n",
              "      <td>0.191000</td>\n",
              "      <td>0.671200</td>\n",
              "      <td>0.101600</td>\n",
              "      <td>-0.059000</td>\n",
              "      <td>-0.026000</td>\n",
              "      <td>-0.065000</td>\n",
              "      <td>-0.020400</td>\n",
              "      <td>0.387400</td>\n",
              "      <td>0.016600</td>\n",
              "      <td>112.472600</td>\n",
              "    </tr>\n",
              "  </tbody>\n",
              "</table>\n",
              "<p>2 rows × 29 columns</p>\n",
              "</div>\n",
              "    <div class=\"colab-df-buttons\">\n",
              "\n",
              "  <div class=\"colab-df-container\">\n",
              "    <button class=\"colab-df-convert\" onclick=\"convertToInteractive('df-2c9179de-67df-40e6-aa13-734b608291cc')\"\n",
              "            title=\"Convert this dataframe to an interactive table.\"\n",
              "            style=\"display:none;\">\n",
              "\n",
              "  <svg xmlns=\"http://www.w3.org/2000/svg\" height=\"24px\" viewBox=\"0 -960 960 960\">\n",
              "    <path d=\"M120-120v-720h720v720H120Zm60-500h600v-160H180v160Zm220 220h160v-160H400v160Zm0 220h160v-160H400v160ZM180-400h160v-160H180v160Zm440 0h160v-160H620v160ZM180-180h160v-160H180v160Zm440 0h160v-160H620v160Z\"/>\n",
              "  </svg>\n",
              "    </button>\n",
              "\n",
              "  <style>\n",
              "    .colab-df-container {\n",
              "      display:flex;\n",
              "      gap: 12px;\n",
              "    }\n",
              "\n",
              "    .colab-df-convert {\n",
              "      background-color: #E8F0FE;\n",
              "      border: none;\n",
              "      border-radius: 50%;\n",
              "      cursor: pointer;\n",
              "      display: none;\n",
              "      fill: #1967D2;\n",
              "      height: 32px;\n",
              "      padding: 0 0 0 0;\n",
              "      width: 32px;\n",
              "    }\n",
              "\n",
              "    .colab-df-convert:hover {\n",
              "      background-color: #E2EBFA;\n",
              "      box-shadow: 0px 1px 2px rgba(60, 64, 67, 0.3), 0px 1px 3px 1px rgba(60, 64, 67, 0.15);\n",
              "      fill: #174EA6;\n",
              "    }\n",
              "\n",
              "    .colab-df-buttons div {\n",
              "      margin-bottom: 4px;\n",
              "    }\n",
              "\n",
              "    [theme=dark] .colab-df-convert {\n",
              "      background-color: #3B4455;\n",
              "      fill: #D2E3FC;\n",
              "    }\n",
              "\n",
              "    [theme=dark] .colab-df-convert:hover {\n",
              "      background-color: #434B5C;\n",
              "      box-shadow: 0px 1px 3px 1px rgba(0, 0, 0, 0.15);\n",
              "      filter: drop-shadow(0px 1px 2px rgba(0, 0, 0, 0.3));\n",
              "      fill: #FFFFFF;\n",
              "    }\n",
              "  </style>\n",
              "\n",
              "    <script>\n",
              "      const buttonEl =\n",
              "        document.querySelector('#df-2c9179de-67df-40e6-aa13-734b608291cc button.colab-df-convert');\n",
              "      buttonEl.style.display =\n",
              "        google.colab.kernel.accessAllowed ? 'block' : 'none';\n",
              "\n",
              "      async function convertToInteractive(key) {\n",
              "        const element = document.querySelector('#df-2c9179de-67df-40e6-aa13-734b608291cc');\n",
              "        const dataTable =\n",
              "          await google.colab.kernel.invokeFunction('convertToInteractive',\n",
              "                                                    [key], {});\n",
              "        if (!dataTable) return;\n",
              "\n",
              "        const docLinkHtml = 'Like what you see? Visit the ' +\n",
              "          '<a target=\"_blank\" href=https://colab.research.google.com/notebooks/data_table.ipynb>data table notebook</a>'\n",
              "          + ' to learn more about interactive tables.';\n",
              "        element.innerHTML = '';\n",
              "        dataTable['output_type'] = 'display_data';\n",
              "        await google.colab.output.renderOutput(dataTable, element);\n",
              "        const docLink = document.createElement('div');\n",
              "        docLink.innerHTML = docLinkHtml;\n",
              "        element.appendChild(docLink);\n",
              "      }\n",
              "    </script>\n",
              "  </div>\n",
              "\n",
              "\n",
              "<div id=\"df-d9de811d-23ee-4f6f-80cf-6e9b5d625f8b\">\n",
              "  <button class=\"colab-df-quickchart\" onclick=\"quickchart('df-d9de811d-23ee-4f6f-80cf-6e9b5d625f8b')\"\n",
              "            title=\"Suggest charts\"\n",
              "            style=\"display:none;\">\n",
              "\n",
              "<svg xmlns=\"http://www.w3.org/2000/svg\" height=\"24px\"viewBox=\"0 0 24 24\"\n",
              "     width=\"24px\">\n",
              "    <g>\n",
              "        <path d=\"M19 3H5c-1.1 0-2 .9-2 2v14c0 1.1.9 2 2 2h14c1.1 0 2-.9 2-2V5c0-1.1-.9-2-2-2zM9 17H7v-7h2v7zm4 0h-2V7h2v10zm4 0h-2v-4h2v4z\"/>\n",
              "    </g>\n",
              "</svg>\n",
              "  </button>\n",
              "\n",
              "<style>\n",
              "  .colab-df-quickchart {\n",
              "      --bg-color: #E8F0FE;\n",
              "      --fill-color: #1967D2;\n",
              "      --hover-bg-color: #E2EBFA;\n",
              "      --hover-fill-color: #174EA6;\n",
              "      --disabled-fill-color: #AAA;\n",
              "      --disabled-bg-color: #DDD;\n",
              "  }\n",
              "\n",
              "  [theme=dark] .colab-df-quickchart {\n",
              "      --bg-color: #3B4455;\n",
              "      --fill-color: #D2E3FC;\n",
              "      --hover-bg-color: #434B5C;\n",
              "      --hover-fill-color: #FFFFFF;\n",
              "      --disabled-bg-color: #3B4455;\n",
              "      --disabled-fill-color: #666;\n",
              "  }\n",
              "\n",
              "  .colab-df-quickchart {\n",
              "    background-color: var(--bg-color);\n",
              "    border: none;\n",
              "    border-radius: 50%;\n",
              "    cursor: pointer;\n",
              "    display: none;\n",
              "    fill: var(--fill-color);\n",
              "    height: 32px;\n",
              "    padding: 0;\n",
              "    width: 32px;\n",
              "  }\n",
              "\n",
              "  .colab-df-quickchart:hover {\n",
              "    background-color: var(--hover-bg-color);\n",
              "    box-shadow: 0 1px 2px rgba(60, 64, 67, 0.3), 0 1px 3px 1px rgba(60, 64, 67, 0.15);\n",
              "    fill: var(--button-hover-fill-color);\n",
              "  }\n",
              "\n",
              "  .colab-df-quickchart-complete:disabled,\n",
              "  .colab-df-quickchart-complete:disabled:hover {\n",
              "    background-color: var(--disabled-bg-color);\n",
              "    fill: var(--disabled-fill-color);\n",
              "    box-shadow: none;\n",
              "  }\n",
              "\n",
              "  .colab-df-spinner {\n",
              "    border: 2px solid var(--fill-color);\n",
              "    border-color: transparent;\n",
              "    border-bottom-color: var(--fill-color);\n",
              "    animation:\n",
              "      spin 1s steps(1) infinite;\n",
              "  }\n",
              "\n",
              "  @keyframes spin {\n",
              "    0% {\n",
              "      border-color: transparent;\n",
              "      border-bottom-color: var(--fill-color);\n",
              "      border-left-color: var(--fill-color);\n",
              "    }\n",
              "    20% {\n",
              "      border-color: transparent;\n",
              "      border-left-color: var(--fill-color);\n",
              "      border-top-color: var(--fill-color);\n",
              "    }\n",
              "    30% {\n",
              "      border-color: transparent;\n",
              "      border-left-color: var(--fill-color);\n",
              "      border-top-color: var(--fill-color);\n",
              "      border-right-color: var(--fill-color);\n",
              "    }\n",
              "    40% {\n",
              "      border-color: transparent;\n",
              "      border-right-color: var(--fill-color);\n",
              "      border-top-color: var(--fill-color);\n",
              "    }\n",
              "    60% {\n",
              "      border-color: transparent;\n",
              "      border-right-color: var(--fill-color);\n",
              "    }\n",
              "    80% {\n",
              "      border-color: transparent;\n",
              "      border-right-color: var(--fill-color);\n",
              "      border-bottom-color: var(--fill-color);\n",
              "    }\n",
              "    90% {\n",
              "      border-color: transparent;\n",
              "      border-bottom-color: var(--fill-color);\n",
              "    }\n",
              "  }\n",
              "</style>\n",
              "\n",
              "  <script>\n",
              "    async function quickchart(key) {\n",
              "      const quickchartButtonEl =\n",
              "        document.querySelector('#' + key + ' button');\n",
              "      quickchartButtonEl.disabled = true;  // To prevent multiple clicks.\n",
              "      quickchartButtonEl.classList.add('colab-df-spinner');\n",
              "      try {\n",
              "        const charts = await google.colab.kernel.invokeFunction(\n",
              "            'suggestCharts', [key], {});\n",
              "      } catch (error) {\n",
              "        console.error('Error during call to suggestCharts:', error);\n",
              "      }\n",
              "      quickchartButtonEl.classList.remove('colab-df-spinner');\n",
              "      quickchartButtonEl.classList.add('colab-df-quickchart-complete');\n",
              "    }\n",
              "    (() => {\n",
              "      let quickchartButtonEl =\n",
              "        document.querySelector('#df-d9de811d-23ee-4f6f-80cf-6e9b5d625f8b button');\n",
              "      quickchartButtonEl.style.display =\n",
              "        google.colab.kernel.accessAllowed ? 'block' : 'none';\n",
              "    })();\n",
              "  </script>\n",
              "</div>\n",
              "\n",
              "    </div>\n",
              "  </div>\n"
            ],
            "application/vnd.google.colaboratory.intrinsic+json": {
              "type": "dataframe"
            }
          },
          "metadata": {},
          "execution_count": 13
        }
      ],
      "source": [
        "#Print out the mean values for each feature for non-fraud cases (0) and fraud cases (1)\n",
        "df.groupby('Class').mean()"
      ]
    },
    {
      "cell_type": "markdown",
      "source": [
        "* Notice how there's quite a wide variation in the means of some features?\n",
        "* Let's use features V1 and V3 as an example.\n",
        "* We'll set a rule that if feature V1 is less than -3 and feature V3 is less than -5, we will classify the transaction as fraudulent.\n",
        "* We'll then print out a confusion matrix to view the results. Let's see how well it performs:"
      ],
      "metadata": {
        "id": "kQFSINyJfxrQ"
      }
    },
    {
      "cell_type": "code",
      "execution_count": 14,
      "metadata": {
        "id": "QTkTrtsifu8H",
        "colab": {
          "base_uri": "https://localhost:8080/",
          "height": 143
        },
        "outputId": "ba55531e-fa4b-4b91-f028-716c49383330"
      },
      "outputs": [
        {
          "output_type": "execute_result",
          "data": {
            "text/plain": [
              "Flagged Fraud     0   1\n",
              "Actual Fraud           \n",
              "0              4934  16\n",
              "1                30  20"
            ],
            "text/html": [
              "\n",
              "  <div id=\"df-6ee99598-74bf-429b-b78e-79b5bddf3898\" class=\"colab-df-container\">\n",
              "    <div>\n",
              "<style scoped>\n",
              "    .dataframe tbody tr th:only-of-type {\n",
              "        vertical-align: middle;\n",
              "    }\n",
              "\n",
              "    .dataframe tbody tr th {\n",
              "        vertical-align: top;\n",
              "    }\n",
              "\n",
              "    .dataframe thead th {\n",
              "        text-align: right;\n",
              "    }\n",
              "</style>\n",
              "<table border=\"1\" class=\"dataframe\">\n",
              "  <thead>\n",
              "    <tr style=\"text-align: right;\">\n",
              "      <th>Flagged Fraud</th>\n",
              "      <th>0</th>\n",
              "      <th>1</th>\n",
              "    </tr>\n",
              "    <tr>\n",
              "      <th>Actual Fraud</th>\n",
              "      <th></th>\n",
              "      <th></th>\n",
              "    </tr>\n",
              "  </thead>\n",
              "  <tbody>\n",
              "    <tr>\n",
              "      <th>0</th>\n",
              "      <td>4934</td>\n",
              "      <td>16</td>\n",
              "    </tr>\n",
              "    <tr>\n",
              "      <th>1</th>\n",
              "      <td>30</td>\n",
              "      <td>20</td>\n",
              "    </tr>\n",
              "  </tbody>\n",
              "</table>\n",
              "</div>\n",
              "    <div class=\"colab-df-buttons\">\n",
              "\n",
              "  <div class=\"colab-df-container\">\n",
              "    <button class=\"colab-df-convert\" onclick=\"convertToInteractive('df-6ee99598-74bf-429b-b78e-79b5bddf3898')\"\n",
              "            title=\"Convert this dataframe to an interactive table.\"\n",
              "            style=\"display:none;\">\n",
              "\n",
              "  <svg xmlns=\"http://www.w3.org/2000/svg\" height=\"24px\" viewBox=\"0 -960 960 960\">\n",
              "    <path d=\"M120-120v-720h720v720H120Zm60-500h600v-160H180v160Zm220 220h160v-160H400v160Zm0 220h160v-160H400v160ZM180-400h160v-160H180v160Zm440 0h160v-160H620v160ZM180-180h160v-160H180v160Zm440 0h160v-160H620v160Z\"/>\n",
              "  </svg>\n",
              "    </button>\n",
              "\n",
              "  <style>\n",
              "    .colab-df-container {\n",
              "      display:flex;\n",
              "      gap: 12px;\n",
              "    }\n",
              "\n",
              "    .colab-df-convert {\n",
              "      background-color: #E8F0FE;\n",
              "      border: none;\n",
              "      border-radius: 50%;\n",
              "      cursor: pointer;\n",
              "      display: none;\n",
              "      fill: #1967D2;\n",
              "      height: 32px;\n",
              "      padding: 0 0 0 0;\n",
              "      width: 32px;\n",
              "    }\n",
              "\n",
              "    .colab-df-convert:hover {\n",
              "      background-color: #E2EBFA;\n",
              "      box-shadow: 0px 1px 2px rgba(60, 64, 67, 0.3), 0px 1px 3px 1px rgba(60, 64, 67, 0.15);\n",
              "      fill: #174EA6;\n",
              "    }\n",
              "\n",
              "    .colab-df-buttons div {\n",
              "      margin-bottom: 4px;\n",
              "    }\n",
              "\n",
              "    [theme=dark] .colab-df-convert {\n",
              "      background-color: #3B4455;\n",
              "      fill: #D2E3FC;\n",
              "    }\n",
              "\n",
              "    [theme=dark] .colab-df-convert:hover {\n",
              "      background-color: #434B5C;\n",
              "      box-shadow: 0px 1px 3px 1px rgba(0, 0, 0, 0.15);\n",
              "      filter: drop-shadow(0px 1px 2px rgba(0, 0, 0, 0.3));\n",
              "      fill: #FFFFFF;\n",
              "    }\n",
              "  </style>\n",
              "\n",
              "    <script>\n",
              "      const buttonEl =\n",
              "        document.querySelector('#df-6ee99598-74bf-429b-b78e-79b5bddf3898 button.colab-df-convert');\n",
              "      buttonEl.style.display =\n",
              "        google.colab.kernel.accessAllowed ? 'block' : 'none';\n",
              "\n",
              "      async function convertToInteractive(key) {\n",
              "        const element = document.querySelector('#df-6ee99598-74bf-429b-b78e-79b5bddf3898');\n",
              "        const dataTable =\n",
              "          await google.colab.kernel.invokeFunction('convertToInteractive',\n",
              "                                                    [key], {});\n",
              "        if (!dataTable) return;\n",
              "\n",
              "        const docLinkHtml = 'Like what you see? Visit the ' +\n",
              "          '<a target=\"_blank\" href=https://colab.research.google.com/notebooks/data_table.ipynb>data table notebook</a>'\n",
              "          + ' to learn more about interactive tables.';\n",
              "        element.innerHTML = '';\n",
              "        dataTable['output_type'] = 'display_data';\n",
              "        await google.colab.output.renderOutput(dataTable, element);\n",
              "        const docLink = document.createElement('div');\n",
              "        docLink.innerHTML = docLinkHtml;\n",
              "        element.appendChild(docLink);\n",
              "      }\n",
              "    </script>\n",
              "  </div>\n",
              "\n",
              "\n",
              "<div id=\"df-65057fe6-d5d9-4447-aed0-18364f940d88\">\n",
              "  <button class=\"colab-df-quickchart\" onclick=\"quickchart('df-65057fe6-d5d9-4447-aed0-18364f940d88')\"\n",
              "            title=\"Suggest charts\"\n",
              "            style=\"display:none;\">\n",
              "\n",
              "<svg xmlns=\"http://www.w3.org/2000/svg\" height=\"24px\"viewBox=\"0 0 24 24\"\n",
              "     width=\"24px\">\n",
              "    <g>\n",
              "        <path d=\"M19 3H5c-1.1 0-2 .9-2 2v14c0 1.1.9 2 2 2h14c1.1 0 2-.9 2-2V5c0-1.1-.9-2-2-2zM9 17H7v-7h2v7zm4 0h-2V7h2v10zm4 0h-2v-4h2v4z\"/>\n",
              "    </g>\n",
              "</svg>\n",
              "  </button>\n",
              "\n",
              "<style>\n",
              "  .colab-df-quickchart {\n",
              "      --bg-color: #E8F0FE;\n",
              "      --fill-color: #1967D2;\n",
              "      --hover-bg-color: #E2EBFA;\n",
              "      --hover-fill-color: #174EA6;\n",
              "      --disabled-fill-color: #AAA;\n",
              "      --disabled-bg-color: #DDD;\n",
              "  }\n",
              "\n",
              "  [theme=dark] .colab-df-quickchart {\n",
              "      --bg-color: #3B4455;\n",
              "      --fill-color: #D2E3FC;\n",
              "      --hover-bg-color: #434B5C;\n",
              "      --hover-fill-color: #FFFFFF;\n",
              "      --disabled-bg-color: #3B4455;\n",
              "      --disabled-fill-color: #666;\n",
              "  }\n",
              "\n",
              "  .colab-df-quickchart {\n",
              "    background-color: var(--bg-color);\n",
              "    border: none;\n",
              "    border-radius: 50%;\n",
              "    cursor: pointer;\n",
              "    display: none;\n",
              "    fill: var(--fill-color);\n",
              "    height: 32px;\n",
              "    padding: 0;\n",
              "    width: 32px;\n",
              "  }\n",
              "\n",
              "  .colab-df-quickchart:hover {\n",
              "    background-color: var(--hover-bg-color);\n",
              "    box-shadow: 0 1px 2px rgba(60, 64, 67, 0.3), 0 1px 3px 1px rgba(60, 64, 67, 0.15);\n",
              "    fill: var(--button-hover-fill-color);\n",
              "  }\n",
              "\n",
              "  .colab-df-quickchart-complete:disabled,\n",
              "  .colab-df-quickchart-complete:disabled:hover {\n",
              "    background-color: var(--disabled-bg-color);\n",
              "    fill: var(--disabled-fill-color);\n",
              "    box-shadow: none;\n",
              "  }\n",
              "\n",
              "  .colab-df-spinner {\n",
              "    border: 2px solid var(--fill-color);\n",
              "    border-color: transparent;\n",
              "    border-bottom-color: var(--fill-color);\n",
              "    animation:\n",
              "      spin 1s steps(1) infinite;\n",
              "  }\n",
              "\n",
              "  @keyframes spin {\n",
              "    0% {\n",
              "      border-color: transparent;\n",
              "      border-bottom-color: var(--fill-color);\n",
              "      border-left-color: var(--fill-color);\n",
              "    }\n",
              "    20% {\n",
              "      border-color: transparent;\n",
              "      border-left-color: var(--fill-color);\n",
              "      border-top-color: var(--fill-color);\n",
              "    }\n",
              "    30% {\n",
              "      border-color: transparent;\n",
              "      border-left-color: var(--fill-color);\n",
              "      border-top-color: var(--fill-color);\n",
              "      border-right-color: var(--fill-color);\n",
              "    }\n",
              "    40% {\n",
              "      border-color: transparent;\n",
              "      border-right-color: var(--fill-color);\n",
              "      border-top-color: var(--fill-color);\n",
              "    }\n",
              "    60% {\n",
              "      border-color: transparent;\n",
              "      border-right-color: var(--fill-color);\n",
              "    }\n",
              "    80% {\n",
              "      border-color: transparent;\n",
              "      border-right-color: var(--fill-color);\n",
              "      border-bottom-color: var(--fill-color);\n",
              "    }\n",
              "    90% {\n",
              "      border-color: transparent;\n",
              "      border-bottom-color: var(--fill-color);\n",
              "    }\n",
              "  }\n",
              "</style>\n",
              "\n",
              "  <script>\n",
              "    async function quickchart(key) {\n",
              "      const quickchartButtonEl =\n",
              "        document.querySelector('#' + key + ' button');\n",
              "      quickchartButtonEl.disabled = true;  // To prevent multiple clicks.\n",
              "      quickchartButtonEl.classList.add('colab-df-spinner');\n",
              "      try {\n",
              "        const charts = await google.colab.kernel.invokeFunction(\n",
              "            'suggestCharts', [key], {});\n",
              "      } catch (error) {\n",
              "        console.error('Error during call to suggestCharts:', error);\n",
              "      }\n",
              "      quickchartButtonEl.classList.remove('colab-df-spinner');\n",
              "      quickchartButtonEl.classList.add('colab-df-quickchart-complete');\n",
              "    }\n",
              "    (() => {\n",
              "      let quickchartButtonEl =\n",
              "        document.querySelector('#df-65057fe6-d5d9-4447-aed0-18364f940d88 button');\n",
              "      quickchartButtonEl.style.display =\n",
              "        google.colab.kernel.accessAllowed ? 'block' : 'none';\n",
              "    })();\n",
              "  </script>\n",
              "</div>\n",
              "\n",
              "    </div>\n",
              "  </div>\n"
            ],
            "application/vnd.google.colaboratory.intrinsic+json": {
              "type": "dataframe",
              "summary": "{\n  \"name\": \"pd\",\n  \"rows\": 2,\n  \"fields\": [\n    {\n      \"column\": \"Actual Fraud\",\n      \"properties\": {\n        \"dtype\": \"number\",\n        \"std\": 0,\n        \"min\": 0,\n        \"max\": 1,\n        \"num_unique_values\": 2,\n        \"samples\": [\n          1,\n          0\n        ],\n        \"semantic_type\": \"\",\n        \"description\": \"\"\n      }\n    },\n    {\n      \"column\": 0,\n      \"properties\": {\n        \"dtype\": \"number\",\n        \"std\": 3467,\n        \"min\": 30,\n        \"max\": 4934,\n        \"num_unique_values\": 2,\n        \"samples\": [\n          30,\n          4934\n        ],\n        \"semantic_type\": \"\",\n        \"description\": \"\"\n      }\n    },\n    {\n      \"column\": 1,\n      \"properties\": {\n        \"dtype\": \"number\",\n        \"std\": 2,\n        \"min\": 16,\n        \"max\": 20,\n        \"num_unique_values\": 2,\n        \"samples\": [\n          20,\n          16\n        ],\n        \"semantic_type\": \"\",\n        \"description\": \"\"\n      }\n    }\n  ]\n}"
            }
          },
          "metadata": {},
          "execution_count": 14
        }
      ],
      "source": [
        "df['flag_as_fraud'] = np.where(np.logical_and(df.Variable01 < -3, df.Variable03 < -5), 1, 0)\n",
        "\n",
        "pd.crosstab(df.Class, df.flag_as_fraud, rownames=['Actual Fraud'], colnames=['Flagged Fraud'])"
      ]
    },
    {
      "cell_type": "markdown",
      "metadata": {
        "id": "g1vAyWBYfu8H"
      },
      "source": [
        "**With this rule, 20 out of 50 fraud cases are detected, 30 are not detected, and 16 false positives are identified.**"
      ]
    },
    {
      "cell_type": "markdown",
      "source": [
        "You can try out other rules yourself by modifying the below code, for example:\n",
        "* `df.Variable04 > 4` sets a rule that requires feature Variable04 to be greater than 4\n",
        "* `df.Variable07 < -4` sets a rule that requires feature Variable07 to be less than -4"
      ],
      "metadata": {
        "id": "RuWMJU0cgXqx"
      }
    },
    {
      "cell_type": "code",
      "source": [
        "df['flag_as_fraud'] = np.where(np.logical_and(df.Variable04 > 4, df.Variable07 < -4), 1, 0)"
      ],
      "metadata": {
        "id": "vo14z24mrEQf"
      },
      "execution_count": null,
      "outputs": []
    },
    {
      "cell_type": "code",
      "source": [
        "pd.crosstab(df.Class, df.flag_as_fraud, rownames=['Actual Fraud'], colnames=['Flagged Fraud'])"
      ],
      "metadata": {
        "colab": {
          "base_uri": "https://localhost:8080/",
          "height": 143
        },
        "id": "X73nOhj7rMl0",
        "outputId": "0481d6f0-4813-4482-cc64-1550d421d80b"
      },
      "execution_count": null,
      "outputs": [
        {
          "output_type": "execute_result",
          "data": {
            "text/plain": [
              "Flagged Fraud     0   1\n",
              "Actual Fraud           \n",
              "0              4948   2\n",
              "1                31  19"
            ],
            "text/html": [
              "\n",
              "  <div id=\"df-577e67d7-2723-49f4-a73b-bd46803c6e2b\">\n",
              "    <div class=\"colab-df-container\">\n",
              "      <div>\n",
              "<style scoped>\n",
              "    .dataframe tbody tr th:only-of-type {\n",
              "        vertical-align: middle;\n",
              "    }\n",
              "\n",
              "    .dataframe tbody tr th {\n",
              "        vertical-align: top;\n",
              "    }\n",
              "\n",
              "    .dataframe thead th {\n",
              "        text-align: right;\n",
              "    }\n",
              "</style>\n",
              "<table border=\"1\" class=\"dataframe\">\n",
              "  <thead>\n",
              "    <tr style=\"text-align: right;\">\n",
              "      <th>Flagged Fraud</th>\n",
              "      <th>0</th>\n",
              "      <th>1</th>\n",
              "    </tr>\n",
              "    <tr>\n",
              "      <th>Actual Fraud</th>\n",
              "      <th></th>\n",
              "      <th></th>\n",
              "    </tr>\n",
              "  </thead>\n",
              "  <tbody>\n",
              "    <tr>\n",
              "      <th>0</th>\n",
              "      <td>4948</td>\n",
              "      <td>2</td>\n",
              "    </tr>\n",
              "    <tr>\n",
              "      <th>1</th>\n",
              "      <td>31</td>\n",
              "      <td>19</td>\n",
              "    </tr>\n",
              "  </tbody>\n",
              "</table>\n",
              "</div>\n",
              "      <button class=\"colab-df-convert\" onclick=\"convertToInteractive('df-577e67d7-2723-49f4-a73b-bd46803c6e2b')\"\n",
              "              title=\"Convert this dataframe to an interactive table.\"\n",
              "              style=\"display:none;\">\n",
              "        \n",
              "  <svg xmlns=\"http://www.w3.org/2000/svg\" height=\"24px\"viewBox=\"0 0 24 24\"\n",
              "       width=\"24px\">\n",
              "    <path d=\"M0 0h24v24H0V0z\" fill=\"none\"/>\n",
              "    <path d=\"M18.56 5.44l.94 2.06.94-2.06 2.06-.94-2.06-.94-.94-2.06-.94 2.06-2.06.94zm-11 1L8.5 8.5l.94-2.06 2.06-.94-2.06-.94L8.5 2.5l-.94 2.06-2.06.94zm10 10l.94 2.06.94-2.06 2.06-.94-2.06-.94-.94-2.06-.94 2.06-2.06.94z\"/><path d=\"M17.41 7.96l-1.37-1.37c-.4-.4-.92-.59-1.43-.59-.52 0-1.04.2-1.43.59L10.3 9.45l-7.72 7.72c-.78.78-.78 2.05 0 2.83L4 21.41c.39.39.9.59 1.41.59.51 0 1.02-.2 1.41-.59l7.78-7.78 2.81-2.81c.8-.78.8-2.07 0-2.86zM5.41 20L4 18.59l7.72-7.72 1.47 1.35L5.41 20z\"/>\n",
              "  </svg>\n",
              "      </button>\n",
              "      \n",
              "  <style>\n",
              "    .colab-df-container {\n",
              "      display:flex;\n",
              "      flex-wrap:wrap;\n",
              "      gap: 12px;\n",
              "    }\n",
              "\n",
              "    .colab-df-convert {\n",
              "      background-color: #E8F0FE;\n",
              "      border: none;\n",
              "      border-radius: 50%;\n",
              "      cursor: pointer;\n",
              "      display: none;\n",
              "      fill: #1967D2;\n",
              "      height: 32px;\n",
              "      padding: 0 0 0 0;\n",
              "      width: 32px;\n",
              "    }\n",
              "\n",
              "    .colab-df-convert:hover {\n",
              "      background-color: #E2EBFA;\n",
              "      box-shadow: 0px 1px 2px rgba(60, 64, 67, 0.3), 0px 1px 3px 1px rgba(60, 64, 67, 0.15);\n",
              "      fill: #174EA6;\n",
              "    }\n",
              "\n",
              "    [theme=dark] .colab-df-convert {\n",
              "      background-color: #3B4455;\n",
              "      fill: #D2E3FC;\n",
              "    }\n",
              "\n",
              "    [theme=dark] .colab-df-convert:hover {\n",
              "      background-color: #434B5C;\n",
              "      box-shadow: 0px 1px 3px 1px rgba(0, 0, 0, 0.15);\n",
              "      filter: drop-shadow(0px 1px 2px rgba(0, 0, 0, 0.3));\n",
              "      fill: #FFFFFF;\n",
              "    }\n",
              "  </style>\n",
              "\n",
              "      <script>\n",
              "        const buttonEl =\n",
              "          document.querySelector('#df-577e67d7-2723-49f4-a73b-bd46803c6e2b button.colab-df-convert');\n",
              "        buttonEl.style.display =\n",
              "          google.colab.kernel.accessAllowed ? 'block' : 'none';\n",
              "\n",
              "        async function convertToInteractive(key) {\n",
              "          const element = document.querySelector('#df-577e67d7-2723-49f4-a73b-bd46803c6e2b');\n",
              "          const dataTable =\n",
              "            await google.colab.kernel.invokeFunction('convertToInteractive',\n",
              "                                                     [key], {});\n",
              "          if (!dataTable) return;\n",
              "\n",
              "          const docLinkHtml = 'Like what you see? Visit the ' +\n",
              "            '<a target=\"_blank\" href=https://colab.research.google.com/notebooks/data_table.ipynb>data table notebook</a>'\n",
              "            + ' to learn more about interactive tables.';\n",
              "          element.innerHTML = '';\n",
              "          dataTable['output_type'] = 'display_data';\n",
              "          await google.colab.output.renderOutput(dataTable, element);\n",
              "          const docLink = document.createElement('div');\n",
              "          docLink.innerHTML = docLinkHtml;\n",
              "          element.appendChild(docLink);\n",
              "        }\n",
              "      </script>\n",
              "    </div>\n",
              "  </div>\n",
              "  "
            ]
          },
          "metadata": {},
          "execution_count": 16
        }
      ]
    },
    {
      "cell_type": "markdown",
      "source": [
        "**With this alternative rule, 19 out of 50 fraud cases are detected, 31 are not detected, and 2 false positives are identified.**"
      ],
      "metadata": {
        "id": "YkGtEC07rfdW"
      }
    },
    {
      "cell_type": "markdown",
      "metadata": {
        "id": "Byxp-EFYfu8L"
      },
      "source": [
        "**Decision Trees**\n",
        "\n",
        "What we've done here is essentially create a very simple decision tree. (i.e. if Variable04 is greater than 4 AND Variable07 is less than -4 then flag as fraud, otherwise do not flag as fraud)\n",
        "\n",
        "![decision tree](https://raw.githubusercontent.com/iamamangosteen/aimlrpa/main/decisiontree-fraud.png)\n",
        "\n",
        "* Commonly used for fraud detection\n",
        "* Easily interpreted by analysts and the public at large\n",
        "* However, decision trees are prone to overfit the data, meaning they often will not do as well a job at catching future occurrences of fraud."
      ]
    },
    {
      "cell_type": "markdown",
      "metadata": {
        "id": "xX_0NmAlfu8H"
      },
      "source": [
        "### Using ML classification to catch fraud\n",
        "\n",
        "Do you think we can beat those results? Next we'll implement a simple **Logistic Regression** machine learning model on our credit card data instead.\n",
        "\n",
        "**Steps:**\n",
        "\n",
        "* Split `X` and `y` into training and test datasets, using 80% for training while keeping 20% of the data for testing.\n",
        "* Fit a model to the training data.\n",
        "* Use the model to predict classes of the test dataset (i.e. is each row fraudulent or not) by running `model.predict` on `X_test`.\n",
        "* Compare the results stored in `predicted` with the actual classes stored in  `y_test` and use the resulting confusion matrix to check how well your model performed."
      ]
    },
    {
      "cell_type": "code",
      "execution_count": 15,
      "metadata": {
        "colab": {
          "base_uri": "https://localhost:8080/"
        },
        "id": "3_l9mvDWfu8H",
        "outputId": "4afd4ca0-611f-421e-c4ef-45ec939c295e"
      },
      "outputs": [
        {
          "output_type": "stream",
          "name": "stdout",
          "text": [
            "Classification report:\n",
            "               precision    recall  f1-score   support\n",
            "\n",
            "           0       1.00      1.00      1.00       990\n",
            "           1       1.00      0.90      0.95        10\n",
            "\n",
            "    accuracy                           1.00      1000\n",
            "   macro avg       1.00      0.95      0.97      1000\n",
            "weighted avg       1.00      1.00      1.00      1000\n",
            "\n",
            "Confusion matrix:\n",
            " [[990   0]\n",
            " [  1   9]]\n"
          ]
        }
      ],
      "source": [
        "# Create the training and testing sets\n",
        "X_train, X_test, y_train, y_test = train_test_split(X, y, test_size=0.2, random_state=1)\n",
        "\n",
        "# Fit a logistic regression model to our data\n",
        "model = LogisticRegression(solver='liblinear')\n",
        "model.fit(X_train, y_train)\n",
        "\n",
        "# Obtain model predictions\n",
        "predicted = model.predict(X_test)\n",
        "\n",
        "# Print the classifcation report and confusion matrix\n",
        "print('Classification report:\\n', classification_report(y_test, predicted))\n",
        "conf_mat = confusion_matrix(y_true=y_test, y_pred=predicted)\n",
        "print('Confusion matrix:\\n', conf_mat)"
      ]
    },
    {
      "cell_type": "markdown",
      "metadata": {
        "id": "zmoEd6wnfu8K"
      },
      "source": [
        "We are now getting far fewer false positives and also catching a higher percentage of fraud cases, so it looks like a clear improvement.\n",
        "\n",
        "NOTE: Remember we are using only our test data to calculate the model results on, which is 20% of our dataset. So that's why our confusion matrix only has 1000 data points rather than the full 5000."
      ]
    },
    {
      "cell_type": "markdown",
      "metadata": {
        "id": "0D8XMwHIfu8K"
      },
      "source": [
        "### Logistic regression with SMOTE\n",
        "\n",
        "Let's try the same exact analysis, except now let's use our **SMOTE** resampling method to even out the sizes of our classes.\n",
        "\n",
        "**Instructions**\n",
        "\n",
        "* Choose the resampling model (in this case we're using `BorderlineSMOTE`)\n",
        "* Choose the regression model (in this case we're performing `LogisticRegression`)\n",
        "* Pass both of the above into a pipeline, which can be treated as a **single machine learning model**\n",
        "* Now perform the same steps as above: split into training and test datasets, fit a model, use the model to predict, and then compare the predicted classes to the actual classes."
      ]
    },
    {
      "cell_type": "code",
      "execution_count": 16,
      "metadata": {
        "id": "kfO-uH1bfu8K",
        "colab": {
          "base_uri": "https://localhost:8080/"
        },
        "outputId": "ae15d1a6-af66-43fd-992d-61aa221bdb60"
      },
      "outputs": [
        {
          "output_type": "stream",
          "name": "stdout",
          "text": [
            "Classification report:\n",
            "               precision    recall  f1-score   support\n",
            "\n",
            "           0       1.00      1.00      1.00       990\n",
            "           1       1.00      1.00      1.00        10\n",
            "\n",
            "    accuracy                           1.00      1000\n",
            "   macro avg       1.00      1.00      1.00      1000\n",
            "weighted avg       1.00      1.00      1.00      1000\n",
            "\n",
            "Confusion matrix:\n",
            " [[990   0]\n",
            " [  0  10]]\n"
          ]
        }
      ],
      "source": [
        "# Define which resampling method and which ML model to use in the pipeline\n",
        "resampling = BorderlineSMOTE()\n",
        "model = LogisticRegression(solver='liblinear')\n",
        "\n",
        "pipeline = Pipeline([('SMOTE', resampling), ('Logistic Regression', model)])\n",
        "\n",
        "# Split your data X and y, into a training and a test set and fit the pipeline onto the training data\n",
        "X_train, X_test, y_train, y_test = train_test_split(X, y, test_size=0.2, random_state=1)\n",
        "\n",
        "pipeline.fit(X_train, y_train)\n",
        "predicted = pipeline.predict(X_test)\n",
        "\n",
        "# Obtain the results from the classification report and confusion matrix\n",
        "print('Classification report:\\n', classification_report(y_test, predicted))\n",
        "conf_mat = confusion_matrix(y_true=y_test, y_pred=predicted)\n",
        "print('Confusion matrix:\\n', conf_mat)"
      ]
    },
    {
      "cell_type": "markdown",
      "metadata": {
        "id": "5h947Xrcfu8L"
      },
      "source": [
        "As you can see, the SMOTE slightly improves our results. We now manage to find all cases of fraud with no false positives. It's important to note resampling doesn't necessarily lead to better results. If fraud cases are very spread and scattered over the data, using SMOTE can introduce some bias. It will create nearest neighbors samples and label them as fraud, but they aren't necessarily also fraud cases, so the fake samples might confuse the model more than if we did not use resampling."
      ]
    },
    {
      "cell_type": "markdown",
      "source": [
        "<hr>"
      ],
      "metadata": {
        "id": "zf_Aa1JauSkh"
      }
    },
    {
      "cell_type": "markdown",
      "metadata": {
        "id": "cIHPh_Q_fu8L"
      },
      "source": [
        "# Fraud detection with Random Forests\n",
        "Previously we took a look at simple decision trees, which were a traditonal method to detect fraud. They are often better than nothing, but have downsides such as overfitting.\n",
        "\n",
        "Let's now look at a more advanced method that utilises multiple decision trees: **Random Forests**. These commprise of many decision trees, each of which decides whether or not a model should be labeled as fraud. Then, the Random Forest model will output a single classification besed on majority rule. Compared to an individual decision tree, random forests do not have the same overfitting concerns.\n",
        "\n",
        "![random forest](https://raw.githubusercontent.com/iamamangosteen/aimlrpa/main/randomforests.png)"
      ]
    },
    {
      "cell_type": "markdown",
      "metadata": {
        "id": "IE7iKuBqfu8L"
      },
      "source": [
        "### Natural Accuracy\n",
        "\n",
        "To generate a baseline model let's first calculate the **natural accuracy**, i.e. what would our accuracy be if we predicted every transaction as non-fraudulent. This is the accuracy that our model must improve on, otherwise our model isn't an improvement over doing nothing at all!\n",
        "\n",
        "**Steps**\n",
        "\n",
        "* Count the total number of observations in the dataset.\n",
        "* Count the non-fraudulent cases in our dataset.\n",
        "* Calculate the natural accuracy by dividing the non-fraudulent cases over the total observations.\n",
        "\n",
        "We previously did this for our first dataset, but we'll be using a new dataset here, so let's run through the steps again:"
      ]
    },
    {
      "cell_type": "code",
      "source": [
        "df2 = pd.read_csv(cc_file2)\n",
        "X, y = prep_data(df2)\n",
        "df2.Class.value_counts()"
      ],
      "metadata": {
        "colab": {
          "base_uri": "https://localhost:8080/"
        },
        "id": "KUb6HAUc4Ngy",
        "outputId": "1d4e8448-c5fa-42b7-ccea-61b292354ed0"
      },
      "execution_count": 17,
      "outputs": [
        {
          "output_type": "execute_result",
          "data": {
            "text/plain": [
              "0    6700\n",
              "1     300\n",
              "Name: Class, dtype: int64"
            ]
          },
          "metadata": {},
          "execution_count": 17
        }
      ]
    },
    {
      "cell_type": "code",
      "source": [
        "# Count the total number of observations from the length of y\n",
        "total_obs = len(y)\n",
        "\n",
        "# Count the total number of non-fraudulent observations\n",
        "non_fraud = [i for i in y if i == 0]\n",
        "count_non_fraud = non_fraud.count(0)\n",
        "\n",
        "percentage = count_non_fraud/total_obs * 100\n",
        "print(f'Accuracy: {percentage:0.2f}%')"
      ],
      "metadata": {
        "colab": {
          "base_uri": "https://localhost:8080/"
        },
        "id": "h5vesL354WR_",
        "outputId": "b0cfc7c1-3fe7-4865-8144-88802aea382c"
      },
      "execution_count": 18,
      "outputs": [
        {
          "output_type": "stream",
          "name": "stdout",
          "text": [
            "Accuracy: 95.71%\n"
          ]
        }
      ]
    },
    {
      "cell_type": "markdown",
      "metadata": {
        "id": "DZVU5o1mfu8M"
      },
      "source": [
        "**This tells us that by simply predicting that all cases are not fraud, we would be correct in 99.0% of the cases. So if we get an accuracy of less than this number, our model does not actually add any value in predicting how many cases are correct. Let's see how a random forest does in predicting fraud in our data.**"
      ]
    },
    {
      "cell_type": "markdown",
      "metadata": {
        "id": "6ljErvu7fu8M"
      },
      "source": [
        "### **Random Forest Classifier**\n",
        "\n",
        "Just like before, let's start by splitting the data into test and training datasets and defining the Random Forest model before fitting and testing the model.\n",
        "\n",
        "**Steps**\n",
        "\n",
        "* Split the dataset into training and test datasets.\n",
        "* Assign the random forest classifier to `model`. Setting `n_estimators=20` means that we build 20 decisions trees before taking the mode as the prediction.\n",
        "* Fit the model.\n",
        "* Use the model to generate predictions, then compare with actual classes to see how well the model performed.\n",
        "\n",
        "(Hopefully these steps are starting to look familiar! They're basically the same steps each time, just using different models.)"
      ]
    },
    {
      "cell_type": "code",
      "execution_count": 19,
      "metadata": {
        "id": "Rd0vFT5hfu8M",
        "colab": {
          "base_uri": "https://localhost:8080/"
        },
        "outputId": "a82ef638-939a-4c32-f8e0-eceb9d66c422"
      },
      "outputs": [
        {
          "output_type": "stream",
          "name": "stdout",
          "text": [
            "Accuracy Score:\n",
            "1.000\n"
          ]
        }
      ],
      "source": [
        "# Split your data into training and test set\n",
        "X_train, X_test, y_train, y_test = train_test_split(X, y, test_size=0.3, random_state=0)\n",
        "\n",
        "# Define the model as the random forest\n",
        "model = RandomForestClassifier(random_state=0, n_estimators=20)\n",
        "\n",
        "# Fit the model to our training set\n",
        "model.fit(X_train, y_train)\n",
        "\n",
        "# Obtain predictions from the test data\n",
        "predicted = model.predict(X_test)\n",
        "\n",
        "print(f'Accuracy Score:\\n{accuracy_score(y_test, predicted):0.3f}')"
      ]
    },
    {
      "cell_type": "markdown",
      "metadata": {
        "id": "wXnaSwMAfu8N"
      },
      "source": [
        "## Evaluating Performance\n",
        "\n",
        "What are some of the metrics we might use to evaluate our models? As mentioned before, simple accuracy is often not the best!\n",
        "\n",
        "* **Accuracy**: total number of successful positive and negative predictions\n",
        "* **Precision**: number of positive cases accurately predicted, i.e. out of all the patients that the model predicted as having diabetes, how many are actually diabetic?\n",
        "* **Recall**: number of predicted positive cases that are actually positive, i.e. among those who are actually positive, how many did the model identify?\n",
        "\n",
        "![accuracy precision recall](https://raw.githubusercontent.com/iamamangosteen/aimlrpa/main/accuracy-precision-recall.png)"
      ]
    },
    {
      "cell_type": "markdown",
      "metadata": {
        "id": "X6FeOmUK87B4"
      },
      "source": [
        "* **F-Score**: takes both precision and recall into account to try and balance both.\n",
        "\\begin{align}\n",
        "F-score = \\frac{2\\times{Precision}\\times{Recall}}{Precision\\times{Recall}} \\\\\n",
        "\\end{align}"
      ]
    },
    {
      "cell_type": "markdown",
      "source": [
        "* **Receiver Operating Characteristic (ROC) curve**: shows the true positive rate against the false positive rate at various threshold settings.\n",
        "\n",
        "<img src=\"https://raw.githubusercontent.com/iamamangosteen/aimlrpa/main/roc-curve.png\"  width=\"400\" height=\"400\">"
      ],
      "metadata": {
        "id": "zR7mWo8rEYev"
      }
    },
    {
      "cell_type": "markdown",
      "source": [
        "* **Confusion Matrices**: we've been using these throughout to get a quick glance at the model's performance."
      ],
      "metadata": {
        "id": "gB2a8h6FJgv6"
      }
    },
    {
      "cell_type": "code",
      "source": [
        "# Obtain the predictions from our random forest model\n",
        "predicted = model.predict(X_test)\n",
        "\n",
        "# Predict probabilities\n",
        "probs = model.predict_proba(X_test)\n",
        "\n",
        "# Print the ROC curve, classification report and confusion matrix\n",
        "print('ROC Score:')\n",
        "print(roc_auc_score(y_test, probs[:,1]))\n",
        "print('\\nClassification Report:')\n",
        "print(classification_report(y_test, predicted))\n",
        "print('\\nConfusion Matrix:')\n",
        "print(confusion_matrix(y_test, predicted))"
      ],
      "metadata": {
        "colab": {
          "base_uri": "https://localhost:8080/"
        },
        "id": "56DT1VzjFhwH",
        "outputId": "78b8fe41-21fa-46d7-bd89-d719d9213c73"
      },
      "execution_count": null,
      "outputs": [
        {
          "output_type": "stream",
          "name": "stdout",
          "text": [
            "ROC Score:\n",
            "0.9999970474300831\n",
            "\n",
            "Classification Report:\n",
            "              precision    recall  f1-score   support\n",
            "\n",
            "           0       1.00      1.00      1.00      2016\n",
            "           1       0.99      1.00      0.99        84\n",
            "\n",
            "    accuracy                           1.00      2100\n",
            "   macro avg       0.99      1.00      1.00      2100\n",
            "weighted avg       1.00      1.00      1.00      2100\n",
            "\n",
            "\n",
            "Confusion Matrix:\n",
            "[[2015    1]\n",
            " [   0   84]]\n"
          ]
        }
      ]
    },
    {
      "cell_type": "markdown",
      "source": [
        "Which metric you optimise will differ depending on your goals. For example, a credit card company wants to optimize for recall to catch as much fraud as possible because it's easy to block transactions, but very costly if a fradulent one gets through. An insurance company wants to optimize for precision to minimise false alarms due to the cost of investigating each case."
      ],
      "metadata": {
        "id": "fh56t4xLE2Io"
      }
    },
    {
      "cell_type": "markdown",
      "source": [
        "<hr>"
      ],
      "metadata": {
        "id": "yyJVDESUyboG"
      }
    },
    {
      "cell_type": "markdown",
      "metadata": {
        "id": "SnXA8Badfu8T"
      },
      "source": [
        "## Parameter optimization with GridSearchCV\n",
        "\n",
        "Now that we can measure performance, how can we improve our model? Typically, this involves tweaking the many parameters involved throughout the process. For example, our Random Forest model has all these paramters we can manually adjust:\n",
        "```\n",
        "model = RandomForestClassifier(n_estimators=10,\n",
        "                               criterion=’gini’,\n",
        "                               max_depth=None,\n",
        "                               min_samples_split=2,\n",
        "                               min_samples_leaf=1,\n",
        "                               max_features=’auto’,\n",
        "                               n_jobs=-1, class_weight=None)\n",
        "```\n",
        "It's certainly possible to manually tweak these parameters, but you can also use Python to identify the best tweaks to make to improve your model by using `GridSearchCV`.\n",
        "\n",
        "With `GridSearchCV` you define which performance metric to measure, and it will automatically tweak your parameters to optimise that metric. In this example, we'll optimise for Recall as we're interested in catching as many fraud cases as possible.\n",
        "\n",
        "**Steps**\n",
        "\n",
        "* Define in the parameter grid what parameters to test. Here we want to test:\n",
        "    * between 1 and 30 trees\n",
        "    * both `auto` and `log2` for max_features\n",
        "    * four different maximum depths\n",
        "    * both the `gini` and `entropy` split criterion\n",
        "* Define the model\n",
        "* Pass the model and the parameter grid into GridSearchCV and optimise for `recall`\n",
        "* Fit the model and it will output the best parameters to optimise `recall`"
      ]
    },
    {
      "cell_type": "code",
      "execution_count": null,
      "metadata": {
        "id": "qlYYlmPyfu8T",
        "colab": {
          "base_uri": "https://localhost:8080/"
        },
        "outputId": "3b7dea67-abad-42e8-8661-a80766c2297e"
      },
      "outputs": [
        {
          "output_type": "execute_result",
          "data": {
            "text/plain": [
              "{'criterion': 'gini',\n",
              " 'max_depth': 4,\n",
              " 'max_features': 'auto',\n",
              " 'n_estimators': 1}"
            ]
          },
          "metadata": {},
          "execution_count": 43
        }
      ],
      "source": [
        "# Define the parameter sets to test\n",
        "param_grid = {'n_estimators': [1, 30],\n",
        "              'max_features': ['auto', 'log2'],\n",
        "              'max_depth': [4, 8, 10, 12],\n",
        "              'criterion': ['gini', 'entropy']}\n",
        "\n",
        "# Define the model to use\n",
        "model = RandomForestClassifier(random_state=4)\n",
        "\n",
        "# Combine the parameter sets with the defined model\n",
        "CV_model = GridSearchCV(estimator=model, param_grid=param_grid, cv=5, scoring='recall', n_jobs=-1)\n",
        "\n",
        "# Fit the model to our training data and obtain best parameters\n",
        "CV_model.fit(X_train, y_train)\n",
        "CV_model.best_params_"
      ]
    },
    {
      "cell_type": "markdown",
      "source": [
        "We've determined the best parameters to optimise recall for our model are criterion set to `gini`, max_depth set to `4`, max_features set to `auto`, and n_estimators set to `1`. We can then test these new parameters by training a new model. We'll start by defining a function to get the model results, and then test the parameters:"
      ],
      "metadata": {
        "id": "ZZ83exXBOkA-"
      }
    },
    {
      "cell_type": "code",
      "source": [
        "def get_model_results(X_train: np.ndarray, y_train: np.ndarray,\n",
        "                      X_test: np.ndarray, y_test: np.ndarray, model):\n",
        "\n",
        "    # Fit your training model to your training set\n",
        "    model.fit(X_train, y_train)\n",
        "\n",
        "    # Obtain the predicted values and probabilities from the model\n",
        "    predicted = model.predict(X_test)\n",
        "\n",
        "    try:\n",
        "        probs = model.predict_proba(X_test)\n",
        "        print('ROC Score:')\n",
        "        print(roc_auc_score(y_test, probs[:,1]))\n",
        "    except AttributeError:\n",
        "        pass\n",
        "\n",
        "    # Print the ROC curve, classification report and confusion matrix\n",
        "    print('\\nClassification Report:')\n",
        "    print(classification_report(y_test, predicted))\n",
        "    print('\\nConfusion Matrix:')\n",
        "    print(confusion_matrix(y_test, predicted))"
      ],
      "metadata": {
        "id": "uqcs4aVOzLYf"
      },
      "execution_count": null,
      "outputs": []
    },
    {
      "cell_type": "code",
      "execution_count": null,
      "metadata": {
        "id": "8W3ar0g8fu8T",
        "colab": {
          "base_uri": "https://localhost:8080/"
        },
        "outputId": "ca807a84-801e-4745-b091-cca4be46d49f"
      },
      "outputs": [
        {
          "output_type": "stream",
          "name": "stdout",
          "text": [
            "ROC Score:\n",
            "1.0\n",
            "\n",
            "Classification Report:\n",
            "              precision    recall  f1-score   support\n",
            "\n",
            "           0       1.00      1.00      1.00      2016\n",
            "           1       1.00      1.00      1.00        84\n",
            "\n",
            "    accuracy                           1.00      2100\n",
            "   macro avg       1.00      1.00      1.00      2100\n",
            "weighted avg       1.00      1.00      1.00      2100\n",
            "\n",
            "\n",
            "Confusion Matrix:\n",
            "[[2016    0]\n",
            " [   0   84]]\n"
          ]
        }
      ],
      "source": [
        "# Input the optimal parameters in the model\n",
        "model = RandomForestClassifier(class_weight={0:1,1:12},\n",
        "                               criterion='gini',\n",
        "                               max_depth=4,\n",
        "                               max_features='auto',\n",
        "                               min_samples_leaf=10,\n",
        "                               n_estimators=1,\n",
        "                               n_jobs=-1,\n",
        "                               random_state=4)\n",
        "\n",
        "# Get results from your model\n",
        "get_model_results(X_train, y_train, X_test, y_test, model)"
      ]
    },
    {
      "cell_type": "markdown",
      "metadata": {
        "id": "hstL6Yiafu8T"
      },
      "source": [
        "Our model was already very accurate to begin with, so it's difficult to see a big change here. With more challenging models, we would hope that automatically optimising the parameters can improve the model. While our model is too accurate to demonstrate, you can often see the Precision-Recall tradeoff in action during this process: your true positives may increase, but your false positives may also increase. Once again, deciding how to optimise your model depends on your use case."
      ]
    },
    {
      "cell_type": "markdown",
      "metadata": {
        "id": "u-nqYW2Cfu8T"
      },
      "source": [
        "## Ensemble methods\n",
        "\n",
        "Another way to improve output is to use an **ensemble method** - creating multiple machine learning models and then combining (or averaging) them to create a single, final model. When Netflix held a competition to improve their machine learning recommendation algorithm, participants quickly learned that the best way to optimise their recommendation accuracy was to average many different models together.\n",
        "\n",
        "<img src=\"https://raw.githubusercontent.com/iamamangosteen/aimlrpa/main/ensemblemodels.png\">\n",
        "\n",
        "Ensemble models:\n",
        "* Often reduce the risk of overfitting\n",
        "* Ensure robust predictions, as different models may excel at different predictions"
      ]
    },
    {
      "cell_type": "markdown",
      "source": [
        "<hr>"
      ],
      "metadata": {
        "id": "-Lgb-Iqk09Yc"
      }
    },
    {
      "cell_type": "markdown",
      "source": [
        "<hr>"
      ],
      "metadata": {
        "id": "waQU9SR409kB"
      }
    },
    {
      "cell_type": "markdown",
      "source": [
        "<hr>"
      ],
      "metadata": {
        "id": "rGwDUcuZ09m6"
      }
    },
    {
      "cell_type": "markdown",
      "metadata": {
        "id": "LlQk4z-Afu8U"
      },
      "source": [
        "# Unsupervised Learning: Fraud detection using Unlabeled Data\n",
        "\n",
        "What can we do if we *don't* have training data, i.e. we don't have any examples of fraudulent transactions? Don't fret, we can still use machine learning, just in a different form.\n",
        "\n",
        "Unsupervised learning will automatically detect outliers in our dataset - transactions that differ from the norm. It's important to note that an unusual transaction does NOT automatically mean that the transaction is fraudulent. But it could mean that we want to flag it for manual review.\n",
        "\n",
        "In general, the goal here is not to automate decisions about whether transactions are fradulent or not - that decision should still be left to a human auditor! Instead we want to use machine learning to reduce the number of cases needed to review. In doing so, we can drastically improve efficiency - instead of reviewing all 30,000 cases, we might only need to review the 300 cases that have the highest probability of being fradulent."
      ]
    },
    {
      "cell_type": "markdown",
      "source": [
        "So far, we've been using numerical data sets that have already been prepared for us. But we often have datasets that contain non-numeric data, such as categories:\n",
        "\n",
        "<img src=\"https://raw.githubusercontent.com/iamamangosteen/aimlrpa/main/banktxs.png\">\n",
        "\n",
        "In order to deal with these datasets, we need to first convert this categorisation into numerical data. To do this, we'll create 12 new columns (one for each category). The values in these columns will be either 0 or 1 to indicate whether the transaction is from that category or not. We'll also convert the gender category to numerical data as well (where 0 = female and 1 = male)\n",
        "\n",
        "<img src=\"https://raw.githubusercontent.com/iamamangosteen/aimlrpa/main/banktxs2.png\">\n",
        "\n",
        "The resulting dataset contains both the category and gender information in numerical format, as well as the age bracket (e.g. 20-29 years old, 30-39 years old, etc.), the transaction amount, and whether the transaction is actually fraudulent. Other variables that might influence fraudulent transactions could be location, frequency, individual vs company cards, wealth levels of users, and more. Let's start by loading the dataset in and taking a look. The more we understand about the dataset, the better we can identify what constitutes normal vs abnormal transactions.\n",
        "\n",
        "**Note:** We'll pretend like the fraud column doesn't exist for the purposes of our unsupervised learning, but we will be using it to test our model later on. In a realistic unsupervised learning situation, you'd need to test on real world data and observe the results to see how well it performed."
      ],
      "metadata": {
        "id": "8Z3DXwemNCkY"
      }
    },
    {
      "cell_type": "code",
      "source": [
        "bank_df = pd.read_csv(banktxs)\n",
        "print(f\"Number of rows: {bank_df.shape[0]}\")\n",
        "print(f\"Number of cols: {bank_df.shape[1]}\")\n",
        "bank_df.head()"
      ],
      "metadata": {
        "colab": {
          "base_uri": "https://localhost:8080/",
          "height": 305
        },
        "id": "rhQrDxBqQMyA",
        "outputId": "6fc9d657-eed5-409e-c754-72de7b82e739"
      },
      "execution_count": null,
      "outputs": [
        {
          "output_type": "stream",
          "name": "stdout",
          "text": [
            "Number of rows: 7107\n",
            "Number of cols: 19\n"
          ]
        },
        {
          "output_type": "execute_result",
          "data": {
            "text/plain": [
              "  age_bracket gender_nonnumeric   category  amount  fraud  gender  beauty  \\\n",
              "0           3                 F  transport   48.72      0       0       0   \n",
              "1           4                 F     health   33.40      0       0       0   \n",
              "2           3                 F  transport   21.39      0       0       0   \n",
              "3           4                 M  transport   12.14      0       1       0   \n",
              "4           2                 M  transport   56.85      0       1       0   \n",
              "\n",
              "   fashion  food  health  home  hotels  leisure  other  restaurants  sports  \\\n",
              "0        0     0       0     0       0        0      0            0       0   \n",
              "1        0     0       1     0       0        0      0            0       0   \n",
              "2        0     0       0     0       0        0      0            0       0   \n",
              "3        0     0       0     0       0        0      0            0       0   \n",
              "4        0     0       0     0       0        0      0            0       0   \n",
              "\n",
              "   tech  transport  travel  \n",
              "0     0          1       0  \n",
              "1     0          0       0  \n",
              "2     0          1       0  \n",
              "3     0          1       0  \n",
              "4     0          1       0  "
            ],
            "text/html": [
              "\n",
              "  <div id=\"df-2a8e37c7-8eb7-4ddd-814b-38cedd4e3f1d\">\n",
              "    <div class=\"colab-df-container\">\n",
              "      <div>\n",
              "<style scoped>\n",
              "    .dataframe tbody tr th:only-of-type {\n",
              "        vertical-align: middle;\n",
              "    }\n",
              "\n",
              "    .dataframe tbody tr th {\n",
              "        vertical-align: top;\n",
              "    }\n",
              "\n",
              "    .dataframe thead th {\n",
              "        text-align: right;\n",
              "    }\n",
              "</style>\n",
              "<table border=\"1\" class=\"dataframe\">\n",
              "  <thead>\n",
              "    <tr style=\"text-align: right;\">\n",
              "      <th></th>\n",
              "      <th>age_bracket</th>\n",
              "      <th>gender_nonnumeric</th>\n",
              "      <th>category</th>\n",
              "      <th>amount</th>\n",
              "      <th>fraud</th>\n",
              "      <th>gender</th>\n",
              "      <th>beauty</th>\n",
              "      <th>fashion</th>\n",
              "      <th>food</th>\n",
              "      <th>health</th>\n",
              "      <th>home</th>\n",
              "      <th>hotels</th>\n",
              "      <th>leisure</th>\n",
              "      <th>other</th>\n",
              "      <th>restaurants</th>\n",
              "      <th>sports</th>\n",
              "      <th>tech</th>\n",
              "      <th>transport</th>\n",
              "      <th>travel</th>\n",
              "    </tr>\n",
              "  </thead>\n",
              "  <tbody>\n",
              "    <tr>\n",
              "      <th>0</th>\n",
              "      <td>3</td>\n",
              "      <td>F</td>\n",
              "      <td>transport</td>\n",
              "      <td>48.72</td>\n",
              "      <td>0</td>\n",
              "      <td>0</td>\n",
              "      <td>0</td>\n",
              "      <td>0</td>\n",
              "      <td>0</td>\n",
              "      <td>0</td>\n",
              "      <td>0</td>\n",
              "      <td>0</td>\n",
              "      <td>0</td>\n",
              "      <td>0</td>\n",
              "      <td>0</td>\n",
              "      <td>0</td>\n",
              "      <td>0</td>\n",
              "      <td>1</td>\n",
              "      <td>0</td>\n",
              "    </tr>\n",
              "    <tr>\n",
              "      <th>1</th>\n",
              "      <td>4</td>\n",
              "      <td>F</td>\n",
              "      <td>health</td>\n",
              "      <td>33.40</td>\n",
              "      <td>0</td>\n",
              "      <td>0</td>\n",
              "      <td>0</td>\n",
              "      <td>0</td>\n",
              "      <td>0</td>\n",
              "      <td>1</td>\n",
              "      <td>0</td>\n",
              "      <td>0</td>\n",
              "      <td>0</td>\n",
              "      <td>0</td>\n",
              "      <td>0</td>\n",
              "      <td>0</td>\n",
              "      <td>0</td>\n",
              "      <td>0</td>\n",
              "      <td>0</td>\n",
              "    </tr>\n",
              "    <tr>\n",
              "      <th>2</th>\n",
              "      <td>3</td>\n",
              "      <td>F</td>\n",
              "      <td>transport</td>\n",
              "      <td>21.39</td>\n",
              "      <td>0</td>\n",
              "      <td>0</td>\n",
              "      <td>0</td>\n",
              "      <td>0</td>\n",
              "      <td>0</td>\n",
              "      <td>0</td>\n",
              "      <td>0</td>\n",
              "      <td>0</td>\n",
              "      <td>0</td>\n",
              "      <td>0</td>\n",
              "      <td>0</td>\n",
              "      <td>0</td>\n",
              "      <td>0</td>\n",
              "      <td>1</td>\n",
              "      <td>0</td>\n",
              "    </tr>\n",
              "    <tr>\n",
              "      <th>3</th>\n",
              "      <td>4</td>\n",
              "      <td>M</td>\n",
              "      <td>transport</td>\n",
              "      <td>12.14</td>\n",
              "      <td>0</td>\n",
              "      <td>1</td>\n",
              "      <td>0</td>\n",
              "      <td>0</td>\n",
              "      <td>0</td>\n",
              "      <td>0</td>\n",
              "      <td>0</td>\n",
              "      <td>0</td>\n",
              "      <td>0</td>\n",
              "      <td>0</td>\n",
              "      <td>0</td>\n",
              "      <td>0</td>\n",
              "      <td>0</td>\n",
              "      <td>1</td>\n",
              "      <td>0</td>\n",
              "    </tr>\n",
              "    <tr>\n",
              "      <th>4</th>\n",
              "      <td>2</td>\n",
              "      <td>M</td>\n",
              "      <td>transport</td>\n",
              "      <td>56.85</td>\n",
              "      <td>0</td>\n",
              "      <td>1</td>\n",
              "      <td>0</td>\n",
              "      <td>0</td>\n",
              "      <td>0</td>\n",
              "      <td>0</td>\n",
              "      <td>0</td>\n",
              "      <td>0</td>\n",
              "      <td>0</td>\n",
              "      <td>0</td>\n",
              "      <td>0</td>\n",
              "      <td>0</td>\n",
              "      <td>0</td>\n",
              "      <td>1</td>\n",
              "      <td>0</td>\n",
              "    </tr>\n",
              "  </tbody>\n",
              "</table>\n",
              "</div>\n",
              "      <button class=\"colab-df-convert\" onclick=\"convertToInteractive('df-2a8e37c7-8eb7-4ddd-814b-38cedd4e3f1d')\"\n",
              "              title=\"Convert this dataframe to an interactive table.\"\n",
              "              style=\"display:none;\">\n",
              "        \n",
              "  <svg xmlns=\"http://www.w3.org/2000/svg\" height=\"24px\"viewBox=\"0 0 24 24\"\n",
              "       width=\"24px\">\n",
              "    <path d=\"M0 0h24v24H0V0z\" fill=\"none\"/>\n",
              "    <path d=\"M18.56 5.44l.94 2.06.94-2.06 2.06-.94-2.06-.94-.94-2.06-.94 2.06-2.06.94zm-11 1L8.5 8.5l.94-2.06 2.06-.94-2.06-.94L8.5 2.5l-.94 2.06-2.06.94zm10 10l.94 2.06.94-2.06 2.06-.94-2.06-.94-.94-2.06-.94 2.06-2.06.94z\"/><path d=\"M17.41 7.96l-1.37-1.37c-.4-.4-.92-.59-1.43-.59-.52 0-1.04.2-1.43.59L10.3 9.45l-7.72 7.72c-.78.78-.78 2.05 0 2.83L4 21.41c.39.39.9.59 1.41.59.51 0 1.02-.2 1.41-.59l7.78-7.78 2.81-2.81c.8-.78.8-2.07 0-2.86zM5.41 20L4 18.59l7.72-7.72 1.47 1.35L5.41 20z\"/>\n",
              "  </svg>\n",
              "      </button>\n",
              "      \n",
              "  <style>\n",
              "    .colab-df-container {\n",
              "      display:flex;\n",
              "      flex-wrap:wrap;\n",
              "      gap: 12px;\n",
              "    }\n",
              "\n",
              "    .colab-df-convert {\n",
              "      background-color: #E8F0FE;\n",
              "      border: none;\n",
              "      border-radius: 50%;\n",
              "      cursor: pointer;\n",
              "      display: none;\n",
              "      fill: #1967D2;\n",
              "      height: 32px;\n",
              "      padding: 0 0 0 0;\n",
              "      width: 32px;\n",
              "    }\n",
              "\n",
              "    .colab-df-convert:hover {\n",
              "      background-color: #E2EBFA;\n",
              "      box-shadow: 0px 1px 2px rgba(60, 64, 67, 0.3), 0px 1px 3px 1px rgba(60, 64, 67, 0.15);\n",
              "      fill: #174EA6;\n",
              "    }\n",
              "\n",
              "    [theme=dark] .colab-df-convert {\n",
              "      background-color: #3B4455;\n",
              "      fill: #D2E3FC;\n",
              "    }\n",
              "\n",
              "    [theme=dark] .colab-df-convert:hover {\n",
              "      background-color: #434B5C;\n",
              "      box-shadow: 0px 1px 3px 1px rgba(0, 0, 0, 0.15);\n",
              "      filter: drop-shadow(0px 1px 2px rgba(0, 0, 0, 0.3));\n",
              "      fill: #FFFFFF;\n",
              "    }\n",
              "  </style>\n",
              "\n",
              "      <script>\n",
              "        const buttonEl =\n",
              "          document.querySelector('#df-2a8e37c7-8eb7-4ddd-814b-38cedd4e3f1d button.colab-df-convert');\n",
              "        buttonEl.style.display =\n",
              "          google.colab.kernel.accessAllowed ? 'block' : 'none';\n",
              "\n",
              "        async function convertToInteractive(key) {\n",
              "          const element = document.querySelector('#df-2a8e37c7-8eb7-4ddd-814b-38cedd4e3f1d');\n",
              "          const dataTable =\n",
              "            await google.colab.kernel.invokeFunction('convertToInteractive',\n",
              "                                                     [key], {});\n",
              "          if (!dataTable) return;\n",
              "\n",
              "          const docLinkHtml = 'Like what you see? Visit the ' +\n",
              "            '<a target=\"_blank\" href=https://colab.research.google.com/notebooks/data_table.ipynb>data table notebook</a>'\n",
              "            + ' to learn more about interactive tables.';\n",
              "          element.innerHTML = '';\n",
              "          dataTable['output_type'] = 'display_data';\n",
              "          await google.colab.output.renderOutput(dataTable, element);\n",
              "          const docLink = document.createElement('div');\n",
              "          docLink.innerHTML = docLinkHtml;\n",
              "          element.appendChild(docLink);\n",
              "        }\n",
              "      </script>\n",
              "    </div>\n",
              "  </div>\n",
              "  "
            ]
          },
          "metadata": {},
          "execution_count": 107
        }
      ]
    },
    {
      "cell_type": "markdown",
      "source": [
        "### Basic Analysis\n",
        "\n",
        "**Grouping by Category**"
      ],
      "metadata": {
        "id": "Fdkq6zvAcDs3"
      }
    },
    {
      "cell_type": "code",
      "source": [
        "# Group by category and examine the mean of each category\n",
        "\n",
        "# This displays the average for each column across all 13 categories\n",
        "# e.g. the average transaction amount for the beauty category is $65.93\n",
        "# e.g. beauty transactions are fraudulent 6% of the time (in this dataset)\n",
        "bank_df.groupby(['category']).mean().T[0:2].T.round(2)"
      ],
      "metadata": {
        "colab": {
          "base_uri": "https://localhost:8080/",
          "height": 488
        },
        "id": "Ly8cPIP-RWdF",
        "outputId": "e23bffdb-e5aa-4148-8e85-c6259e958d4d"
      },
      "execution_count": null,
      "outputs": [
        {
          "output_type": "execute_result",
          "data": {
            "text/plain": [
              "             amount  fraud\n",
              "category                  \n",
              "beauty        65.93   0.06\n",
              "fashion       59.62   0.02\n",
              "food          34.88   0.00\n",
              "health       125.10   0.24\n",
              "home         122.94   0.21\n",
              "hotels       171.93   0.55\n",
              "leisure      229.56   1.00\n",
              "other        150.68   0.60\n",
              "restaurants   44.36   0.02\n",
              "sports       155.05   0.66\n",
              "tech         132.19   0.18\n",
              "transport     27.42   0.00\n",
              "travel       237.42   0.94"
            ],
            "text/html": [
              "\n",
              "  <div id=\"df-371bcbf2-ae54-4304-a63b-831b5032745e\">\n",
              "    <div class=\"colab-df-container\">\n",
              "      <div>\n",
              "<style scoped>\n",
              "    .dataframe tbody tr th:only-of-type {\n",
              "        vertical-align: middle;\n",
              "    }\n",
              "\n",
              "    .dataframe tbody tr th {\n",
              "        vertical-align: top;\n",
              "    }\n",
              "\n",
              "    .dataframe thead th {\n",
              "        text-align: right;\n",
              "    }\n",
              "</style>\n",
              "<table border=\"1\" class=\"dataframe\">\n",
              "  <thead>\n",
              "    <tr style=\"text-align: right;\">\n",
              "      <th></th>\n",
              "      <th>amount</th>\n",
              "      <th>fraud</th>\n",
              "    </tr>\n",
              "    <tr>\n",
              "      <th>category</th>\n",
              "      <th></th>\n",
              "      <th></th>\n",
              "    </tr>\n",
              "  </thead>\n",
              "  <tbody>\n",
              "    <tr>\n",
              "      <th>beauty</th>\n",
              "      <td>65.93</td>\n",
              "      <td>0.06</td>\n",
              "    </tr>\n",
              "    <tr>\n",
              "      <th>fashion</th>\n",
              "      <td>59.62</td>\n",
              "      <td>0.02</td>\n",
              "    </tr>\n",
              "    <tr>\n",
              "      <th>food</th>\n",
              "      <td>34.88</td>\n",
              "      <td>0.00</td>\n",
              "    </tr>\n",
              "    <tr>\n",
              "      <th>health</th>\n",
              "      <td>125.10</td>\n",
              "      <td>0.24</td>\n",
              "    </tr>\n",
              "    <tr>\n",
              "      <th>home</th>\n",
              "      <td>122.94</td>\n",
              "      <td>0.21</td>\n",
              "    </tr>\n",
              "    <tr>\n",
              "      <th>hotels</th>\n",
              "      <td>171.93</td>\n",
              "      <td>0.55</td>\n",
              "    </tr>\n",
              "    <tr>\n",
              "      <th>leisure</th>\n",
              "      <td>229.56</td>\n",
              "      <td>1.00</td>\n",
              "    </tr>\n",
              "    <tr>\n",
              "      <th>other</th>\n",
              "      <td>150.68</td>\n",
              "      <td>0.60</td>\n",
              "    </tr>\n",
              "    <tr>\n",
              "      <th>restaurants</th>\n",
              "      <td>44.36</td>\n",
              "      <td>0.02</td>\n",
              "    </tr>\n",
              "    <tr>\n",
              "      <th>sports</th>\n",
              "      <td>155.05</td>\n",
              "      <td>0.66</td>\n",
              "    </tr>\n",
              "    <tr>\n",
              "      <th>tech</th>\n",
              "      <td>132.19</td>\n",
              "      <td>0.18</td>\n",
              "    </tr>\n",
              "    <tr>\n",
              "      <th>transport</th>\n",
              "      <td>27.42</td>\n",
              "      <td>0.00</td>\n",
              "    </tr>\n",
              "    <tr>\n",
              "      <th>travel</th>\n",
              "      <td>237.42</td>\n",
              "      <td>0.94</td>\n",
              "    </tr>\n",
              "  </tbody>\n",
              "</table>\n",
              "</div>\n",
              "      <button class=\"colab-df-convert\" onclick=\"convertToInteractive('df-371bcbf2-ae54-4304-a63b-831b5032745e')\"\n",
              "              title=\"Convert this dataframe to an interactive table.\"\n",
              "              style=\"display:none;\">\n",
              "        \n",
              "  <svg xmlns=\"http://www.w3.org/2000/svg\" height=\"24px\"viewBox=\"0 0 24 24\"\n",
              "       width=\"24px\">\n",
              "    <path d=\"M0 0h24v24H0V0z\" fill=\"none\"/>\n",
              "    <path d=\"M18.56 5.44l.94 2.06.94-2.06 2.06-.94-2.06-.94-.94-2.06-.94 2.06-2.06.94zm-11 1L8.5 8.5l.94-2.06 2.06-.94-2.06-.94L8.5 2.5l-.94 2.06-2.06.94zm10 10l.94 2.06.94-2.06 2.06-.94-2.06-.94-.94-2.06-.94 2.06-2.06.94z\"/><path d=\"M17.41 7.96l-1.37-1.37c-.4-.4-.92-.59-1.43-.59-.52 0-1.04.2-1.43.59L10.3 9.45l-7.72 7.72c-.78.78-.78 2.05 0 2.83L4 21.41c.39.39.9.59 1.41.59.51 0 1.02-.2 1.41-.59l7.78-7.78 2.81-2.81c.8-.78.8-2.07 0-2.86zM5.41 20L4 18.59l7.72-7.72 1.47 1.35L5.41 20z\"/>\n",
              "  </svg>\n",
              "      </button>\n",
              "      \n",
              "  <style>\n",
              "    .colab-df-container {\n",
              "      display:flex;\n",
              "      flex-wrap:wrap;\n",
              "      gap: 12px;\n",
              "    }\n",
              "\n",
              "    .colab-df-convert {\n",
              "      background-color: #E8F0FE;\n",
              "      border: none;\n",
              "      border-radius: 50%;\n",
              "      cursor: pointer;\n",
              "      display: none;\n",
              "      fill: #1967D2;\n",
              "      height: 32px;\n",
              "      padding: 0 0 0 0;\n",
              "      width: 32px;\n",
              "    }\n",
              "\n",
              "    .colab-df-convert:hover {\n",
              "      background-color: #E2EBFA;\n",
              "      box-shadow: 0px 1px 2px rgba(60, 64, 67, 0.3), 0px 1px 3px 1px rgba(60, 64, 67, 0.15);\n",
              "      fill: #174EA6;\n",
              "    }\n",
              "\n",
              "    [theme=dark] .colab-df-convert {\n",
              "      background-color: #3B4455;\n",
              "      fill: #D2E3FC;\n",
              "    }\n",
              "\n",
              "    [theme=dark] .colab-df-convert:hover {\n",
              "      background-color: #434B5C;\n",
              "      box-shadow: 0px 1px 3px 1px rgba(0, 0, 0, 0.15);\n",
              "      filter: drop-shadow(0px 1px 2px rgba(0, 0, 0, 0.3));\n",
              "      fill: #FFFFFF;\n",
              "    }\n",
              "  </style>\n",
              "\n",
              "      <script>\n",
              "        const buttonEl =\n",
              "          document.querySelector('#df-371bcbf2-ae54-4304-a63b-831b5032745e button.colab-df-convert');\n",
              "        buttonEl.style.display =\n",
              "          google.colab.kernel.accessAllowed ? 'block' : 'none';\n",
              "\n",
              "        async function convertToInteractive(key) {\n",
              "          const element = document.querySelector('#df-371bcbf2-ae54-4304-a63b-831b5032745e');\n",
              "          const dataTable =\n",
              "            await google.colab.kernel.invokeFunction('convertToInteractive',\n",
              "                                                     [key], {});\n",
              "          if (!dataTable) return;\n",
              "\n",
              "          const docLinkHtml = 'Like what you see? Visit the ' +\n",
              "            '<a target=\"_blank\" href=https://colab.research.google.com/notebooks/data_table.ipynb>data table notebook</a>'\n",
              "            + ' to learn more about interactive tables.';\n",
              "          element.innerHTML = '';\n",
              "          dataTable['output_type'] = 'display_data';\n",
              "          await google.colab.output.renderOutput(dataTable, element);\n",
              "          const docLink = document.createElement('div');\n",
              "          docLink.innerHTML = docLinkHtml;\n",
              "          element.appendChild(docLink);\n",
              "        }\n",
              "      </script>\n",
              "    </div>\n",
              "  </div>\n",
              "  "
            ]
          },
          "metadata": {},
          "execution_count": 104
        }
      ]
    },
    {
      "cell_type": "markdown",
      "source": [
        "This simple analysis gives us a good look at some trends in the dataset. We can immediately tell that the categories with the highest rate of fraud are Leisure and Travel, and to a lesser extent Sports, Other, and Hotels."
      ],
      "metadata": {
        "id": "wqkYRdaQYuW-"
      }
    },
    {
      "cell_type": "markdown",
      "metadata": {
        "id": "Gd4llazUfu8W"
      },
      "source": [
        "**Customer segmentation**\n",
        "\n",
        "Let's next see if we can segment our dataset into different clusters of customers. Unfortunately, we don't have a lot of data on our users, but we do have their age bracket, so let's break it down by age group:"
      ]
    },
    {
      "cell_type": "code",
      "execution_count": null,
      "metadata": {
        "id": "Hd2XJJLtfu8W",
        "colab": {
          "base_uri": "https://localhost:8080/",
          "height": 331
        },
        "outputId": "6223eb16-aee1-468a-9c54-63c989a89d78"
      },
      "outputs": [
        {
          "output_type": "execute_result",
          "data": {
            "text/plain": [
              "             amount  fraud\n",
              "age_bracket               \n",
              "0             48.93   0.05\n",
              "1             35.85   0.03\n",
              "2             36.91   0.03\n",
              "3             36.96   0.02\n",
              "4             35.89   0.03\n",
              "5             37.58   0.02\n",
              "6             36.55   0.02\n",
              "U             39.19   0.00"
            ],
            "text/html": [
              "\n",
              "  <div id=\"df-5d9f355b-bea0-41a5-8149-ae8a1d2967c1\">\n",
              "    <div class=\"colab-df-container\">\n",
              "      <div>\n",
              "<style scoped>\n",
              "    .dataframe tbody tr th:only-of-type {\n",
              "        vertical-align: middle;\n",
              "    }\n",
              "\n",
              "    .dataframe tbody tr th {\n",
              "        vertical-align: top;\n",
              "    }\n",
              "\n",
              "    .dataframe thead th {\n",
              "        text-align: right;\n",
              "    }\n",
              "</style>\n",
              "<table border=\"1\" class=\"dataframe\">\n",
              "  <thead>\n",
              "    <tr style=\"text-align: right;\">\n",
              "      <th></th>\n",
              "      <th>amount</th>\n",
              "      <th>fraud</th>\n",
              "    </tr>\n",
              "    <tr>\n",
              "      <th>age_bracket</th>\n",
              "      <th></th>\n",
              "      <th></th>\n",
              "    </tr>\n",
              "  </thead>\n",
              "  <tbody>\n",
              "    <tr>\n",
              "      <th>0</th>\n",
              "      <td>48.93</td>\n",
              "      <td>0.05</td>\n",
              "    </tr>\n",
              "    <tr>\n",
              "      <th>1</th>\n",
              "      <td>35.85</td>\n",
              "      <td>0.03</td>\n",
              "    </tr>\n",
              "    <tr>\n",
              "      <th>2</th>\n",
              "      <td>36.91</td>\n",
              "      <td>0.03</td>\n",
              "    </tr>\n",
              "    <tr>\n",
              "      <th>3</th>\n",
              "      <td>36.96</td>\n",
              "      <td>0.02</td>\n",
              "    </tr>\n",
              "    <tr>\n",
              "      <th>4</th>\n",
              "      <td>35.89</td>\n",
              "      <td>0.03</td>\n",
              "    </tr>\n",
              "    <tr>\n",
              "      <th>5</th>\n",
              "      <td>37.58</td>\n",
              "      <td>0.02</td>\n",
              "    </tr>\n",
              "    <tr>\n",
              "      <th>6</th>\n",
              "      <td>36.55</td>\n",
              "      <td>0.02</td>\n",
              "    </tr>\n",
              "    <tr>\n",
              "      <th>U</th>\n",
              "      <td>39.19</td>\n",
              "      <td>0.00</td>\n",
              "    </tr>\n",
              "  </tbody>\n",
              "</table>\n",
              "</div>\n",
              "      <button class=\"colab-df-convert\" onclick=\"convertToInteractive('df-5d9f355b-bea0-41a5-8149-ae8a1d2967c1')\"\n",
              "              title=\"Convert this dataframe to an interactive table.\"\n",
              "              style=\"display:none;\">\n",
              "        \n",
              "  <svg xmlns=\"http://www.w3.org/2000/svg\" height=\"24px\"viewBox=\"0 0 24 24\"\n",
              "       width=\"24px\">\n",
              "    <path d=\"M0 0h24v24H0V0z\" fill=\"none\"/>\n",
              "    <path d=\"M18.56 5.44l.94 2.06.94-2.06 2.06-.94-2.06-.94-.94-2.06-.94 2.06-2.06.94zm-11 1L8.5 8.5l.94-2.06 2.06-.94-2.06-.94L8.5 2.5l-.94 2.06-2.06.94zm10 10l.94 2.06.94-2.06 2.06-.94-2.06-.94-.94-2.06-.94 2.06-2.06.94z\"/><path d=\"M17.41 7.96l-1.37-1.37c-.4-.4-.92-.59-1.43-.59-.52 0-1.04.2-1.43.59L10.3 9.45l-7.72 7.72c-.78.78-.78 2.05 0 2.83L4 21.41c.39.39.9.59 1.41.59.51 0 1.02-.2 1.41-.59l7.78-7.78 2.81-2.81c.8-.78.8-2.07 0-2.86zM5.41 20L4 18.59l7.72-7.72 1.47 1.35L5.41 20z\"/>\n",
              "  </svg>\n",
              "      </button>\n",
              "      \n",
              "  <style>\n",
              "    .colab-df-container {\n",
              "      display:flex;\n",
              "      flex-wrap:wrap;\n",
              "      gap: 12px;\n",
              "    }\n",
              "\n",
              "    .colab-df-convert {\n",
              "      background-color: #E8F0FE;\n",
              "      border: none;\n",
              "      border-radius: 50%;\n",
              "      cursor: pointer;\n",
              "      display: none;\n",
              "      fill: #1967D2;\n",
              "      height: 32px;\n",
              "      padding: 0 0 0 0;\n",
              "      width: 32px;\n",
              "    }\n",
              "\n",
              "    .colab-df-convert:hover {\n",
              "      background-color: #E2EBFA;\n",
              "      box-shadow: 0px 1px 2px rgba(60, 64, 67, 0.3), 0px 1px 3px 1px rgba(60, 64, 67, 0.15);\n",
              "      fill: #174EA6;\n",
              "    }\n",
              "\n",
              "    [theme=dark] .colab-df-convert {\n",
              "      background-color: #3B4455;\n",
              "      fill: #D2E3FC;\n",
              "    }\n",
              "\n",
              "    [theme=dark] .colab-df-convert:hover {\n",
              "      background-color: #434B5C;\n",
              "      box-shadow: 0px 1px 3px 1px rgba(0, 0, 0, 0.15);\n",
              "      filter: drop-shadow(0px 1px 2px rgba(0, 0, 0, 0.3));\n",
              "      fill: #FFFFFF;\n",
              "    }\n",
              "  </style>\n",
              "\n",
              "      <script>\n",
              "        const buttonEl =\n",
              "          document.querySelector('#df-5d9f355b-bea0-41a5-8149-ae8a1d2967c1 button.colab-df-convert');\n",
              "        buttonEl.style.display =\n",
              "          google.colab.kernel.accessAllowed ? 'block' : 'none';\n",
              "\n",
              "        async function convertToInteractive(key) {\n",
              "          const element = document.querySelector('#df-5d9f355b-bea0-41a5-8149-ae8a1d2967c1');\n",
              "          const dataTable =\n",
              "            await google.colab.kernel.invokeFunction('convertToInteractive',\n",
              "                                                     [key], {});\n",
              "          if (!dataTable) return;\n",
              "\n",
              "          const docLinkHtml = 'Like what you see? Visit the ' +\n",
              "            '<a target=\"_blank\" href=https://colab.research.google.com/notebooks/data_table.ipynb>data table notebook</a>'\n",
              "            + ' to learn more about interactive tables.';\n",
              "          element.innerHTML = '';\n",
              "          dataTable['output_type'] = 'display_data';\n",
              "          await google.colab.output.renderOutput(dataTable, element);\n",
              "          const docLink = document.createElement('div');\n",
              "          docLink.innerHTML = docLinkHtml;\n",
              "          element.appendChild(docLink);\n",
              "        }\n",
              "      </script>\n",
              "    </div>\n",
              "  </div>\n",
              "  "
            ]
          },
          "metadata": {},
          "execution_count": 105
        }
      ],
      "source": [
        "# Group by age_bracket and examine the mean of each category\n",
        "bank_df.groupby(['age_bracket']).mean().T[0:2].T.round(2)"
      ]
    },
    {
      "cell_type": "code",
      "source": [
        "# Count the number of rows (observations) in each age_bracket\n",
        "bank_df.age_bracket.value_counts()"
      ],
      "metadata": {
        "colab": {
          "base_uri": "https://localhost:8080/"
        },
        "id": "bfGY6knraunb",
        "outputId": "b5393f3e-36dc-478a-e9bb-bfa08bb0b960"
      },
      "execution_count": null,
      "outputs": [
        {
          "output_type": "execute_result",
          "data": {
            "text/plain": [
              "2    2303\n",
              "3    1696\n",
              "4    1262\n",
              "5     781\n",
              "1     703\n",
              "6     312\n",
              "0      39\n",
              "U      11\n",
              "Name: age_bracket, dtype: int64"
            ]
          },
          "metadata": {},
          "execution_count": 106
        }
      ]
    },
    {
      "cell_type": "markdown",
      "source": [
        "This time, we don't see many strong trends. The transaction amount averages and fraud rate is largely similar throughout all age brackets. Thus, we can create a model for the whole dataset rather than split into separate models for different age brackets."
      ],
      "metadata": {
        "id": "D1wN1h6Qa2jv"
      }
    },
    {
      "cell_type": "markdown",
      "metadata": {
        "id": "ULVTfLPTfu8W"
      },
      "source": [
        "**Using Histograms**\n",
        "\n",
        "\n",
        "\n",
        "\n",
        "In the previous exercises we saw that fraud is **more prevalent in certain transaction categories**, but that there is no obvious way to segment our data into for example age groups. This time, let's investigate the **average amounts spent** in normal transactions versus fraud transactions. This gives you an idea of how fraudulent transactions **differ structurally** from normal transactions.\n",
        "\n",
        "**Instructions**\n",
        "\n",
        "* Create two new dataframes from fraud and non-fraud observations. Locate the data in `df` with `.loc` and assign the condition \"where fraud is 1\" and \"where fraud is 0\" for creation of the new dataframes.\n",
        "* Plot the `amount` column of the newly created dataframes in the histogram plot functions and assign the labels `fraud` and `nonfraud` respectively to the plots."
      ]
    },
    {
      "cell_type": "code",
      "execution_count": null,
      "metadata": {
        "id": "KDNVHerDfu8W",
        "colab": {
          "base_uri": "https://localhost:8080/",
          "height": 449
        },
        "outputId": "1783a02a-e814-43dd-cd7c-f5cbd245aa22"
      },
      "outputs": [
        {
          "output_type": "display_data",
          "data": {
            "text/plain": [
              "<Figure size 640x480 with 1 Axes>"
            ],
            "image/png": "[encoded data removed]"
          },
          "metadata": {}
        }
      ],
      "source": [
        "# Split our dataset into two dataframes containing fraud and non-fraud data respectively\n",
        "df_fraud = bank_df[bank_df.fraud == 1]\n",
        "df_non_fraud = bank_df[bank_df.fraud == 0]\n",
        "\n",
        "# Plot histograms of the amounts in the fraud and non-fraud dataframes\n",
        "plt.hist(df_fraud.amount, alpha=0.5, label='fraud')\n",
        "plt.hist(df_non_fraud.amount, alpha=0.5, label='nonfraud')\n",
        "plt.xlabel('amount')\n",
        "plt.legend()\n",
        "plt.show()"
      ]
    },
    {
      "cell_type": "markdown",
      "source": [
        "It's hard to see combined into one histogram (due to the small number of fraudulent transactions), so let's plot them separately:"
      ],
      "metadata": {
        "id": "OJcSKwjVc9a0"
      }
    },
    {
      "cell_type": "code",
      "execution_count": null,
      "metadata": {
        "id": "9ZHal5xtfu8W",
        "colab": {
          "base_uri": "https://localhost:8080/",
          "height": 449
        },
        "outputId": "24cfbfba-687b-4830-eca2-e01fd0941182"
      },
      "outputs": [
        {
          "output_type": "display_data",
          "data": {
            "text/plain": [
              "<Figure size 640x480 with 1 Axes>"
            ],
            "image/png": "[encoded data removed]"
          },
          "metadata": {}
        }
      ],
      "source": [
        "plt.hist(df_non_fraud.amount, color=\"darkorange\", alpha=0.5, label='nonfraud')\n",
        "plt.xlabel('amount')\n",
        "plt.legend()\n",
        "plt.show()"
      ]
    },
    {
      "cell_type": "code",
      "source": [
        "plt.hist(df_fraud.amount, alpha=0.5, label='fraud')\n",
        "\n",
        "plt.xlabel('amount')\n",
        "plt.legend()\n",
        "plt.show()"
      ],
      "metadata": {
        "colab": {
          "base_uri": "https://localhost:8080/",
          "height": 449
        },
        "id": "UuyT8GdWdCcB",
        "outputId": "6b6a67b9-449e-4504-bc99-b79d77d24a08"
      },
      "execution_count": null,
      "outputs": [
        {
          "output_type": "display_data",
          "data": {
            "text/plain": [
              "<Figure size 640x480 with 1 Axes>"
            ],
            "image/png": "[encoded data removed]"
          },
          "metadata": {}
        }
      ]
    },
    {
      "cell_type": "markdown",
      "source": [
        "Now we can easily see that fraudulent transactions tend to be on the larger side when compared to most normal transactions."
      ],
      "metadata": {
        "id": "uMsHzdr4eUH7"
      }
    },
    {
      "cell_type": "markdown",
      "metadata": {
        "id": "Y8aXeq7bfu8W"
      },
      "source": [
        "## Using K-Means Clustering to Detect Fraud"
      ]
    },
    {
      "cell_type": "markdown",
      "metadata": {
        "id": "HWZ63Hl9fu8W"
      },
      "source": [
        "<img src=\"https://raw.githubusercontent.com/iamamangosteen/aimlrpa/main/kmeansclustering.png\">\n",
        "\n",
        "Clustering algorithms detect trends in unlabelled datasets. More simply, they identify data points that are similar to one another. In doing so, you can often categorise your dataset. This is easy to visualise in two dimensions (as seen in the chart above), but once we have 10, 20, or even 100 variables, it's often too complex to easily visualise. Thus we rely on machine learning models to identify and extract our clusters for us.\n",
        "\n",
        "The simplest clustering algorithm is **K-Means**. While simple and easy to understand, it often does not have the best performance. Later we'll take a look at an alternative, but more complex, clustering algorithm (DBSCAN) that often performs better.\n"
      ]
    },
    {
      "cell_type": "markdown",
      "source": [
        "With k-means, you need to specify how many clusters your dataset has. Of course, since this is unsupervised learning, we often don't know! So instead, we need to run k-means with different numbers of clusters and evaluate the performance of each run to see how many clusters our dataset has.\n",
        "\n",
        "To do this, we can plot the number of clusters vs the resulting score of k-means. This type of plot is called an **Elbow Curve**. We identify the best number of clusters by looking for the \"elbow\" in the plot."
      ],
      "metadata": {
        "id": "Ao2Gg6z_hk36"
      }
    },
    {
      "cell_type": "code",
      "source": [
        "cols = ['age_bracket', 'amount', 'gender', 'restaurants', 'fashion',\n",
        "        'food', 'health', 'home', 'hotels', 'leisure', 'other', 'sports',\n",
        "        'tech', 'transport', 'travel']\n",
        "\n",
        "cluster_df = bank_df[bank_df.age_bracket != 'U']\n",
        "\n",
        "# Take the float values of df for X\n",
        "X = cluster_df[cols].values.astype(np.float)\n",
        "\n",
        "# Apply the scaler to the data\n",
        "X_scaled = MinMaxScaler().fit_transform(X)\n",
        "\n",
        "# Define the model\n",
        "kmeans = MiniBatchKMeans(n_clusters=8, random_state=0)\n",
        "\n",
        "# Fit the model to the scaled data\n",
        "kmeans.fit(X_scaled)\n",
        "\n",
        "# Define the range of clusters to try\n",
        "clustno = range(1, 10)\n",
        "\n",
        "# Run MiniBatch Kmeans over the number of clusters\n",
        "kmeans = [MiniBatchKMeans(n_clusters=i) for i in clustno]\n",
        "\n",
        "# Obtain the score for each model\n",
        "score = [kmeans[i].fit(X_scaled).score(X_scaled) for i in range(len(kmeans))]\n",
        "\n",
        "plt.plot(clustno,score)\n",
        "plt.xlabel('Number of Clusters')\n",
        "plt.ylabel('Score')\n",
        "plt.title('Elbow Curve')\n",
        "plt.show()"
      ],
      "metadata": {
        "colab": {
          "base_uri": "https://localhost:8080/",
          "height": 472
        },
        "id": "T347czXnib29",
        "outputId": "4e9d0c5e-872e-4df3-c822-14d7685ccc94"
      },
      "execution_count": null,
      "outputs": [
        {
          "output_type": "display_data",
          "data": {
            "text/plain": [
              "<Figure size 640x480 with 1 Axes>"
            ],
            "image/png": "[encoded data removed]"
          },
          "metadata": {}
        }
      ]
    },
    {
      "cell_type": "markdown",
      "source": [
        "Here we can see that the \"elbow\" occurs at 3 clusters, meaning using 3 clusters is likely ideal. Fewer clusters will not capture all clusters in the data, and more clusters risks overfitting clusters. We'll use this number of clusters going forward!"
      ],
      "metadata": {
        "id": "Nt7gAdCKmkL_"
      }
    },
    {
      "cell_type": "markdown",
      "metadata": {
        "id": "bDwJZJJ9fu8Y"
      },
      "source": [
        "## Assigning fraud vs. non-fraud\n",
        "\n",
        "In order to identify likely fraud cases, we need to look at each cluster separately, and identify the outliers of that cluster. Doing so will give us a list of all abnormal transactions, which is a good starting point for checking for fraudulent transactions.\n",
        "\n",
        "<img src=\"https://raw.githubusercontent.com/iamamangosteen/aimlrpa/main/kmeansclustering2.jpg\">\n",
        "<img src=\"https://raw.githubusercontent.com/iamamangosteen/aimlrpa/main/kmeansclustering3.jpg\">\n",
        "\n",
        "We can do this via python:"
      ]
    },
    {
      "cell_type": "code",
      "source": [
        "#Store the fraud labels for later evaluation\n",
        "labels = cluster_df.fraud\n",
        "\n",
        "# Split the data into training and test set\n",
        "X_train, X_test, y_train, y_test = train_test_split(X_scaled, labels, test_size=0.3, random_state=0)\n",
        "\n",
        "# Define K-means model\n",
        "kmeans = MiniBatchKMeans(n_clusters=3, random_state=0).fit(X_train)\n",
        "\n",
        "# Obtain predictions and calculate distance from cluster centroid\n",
        "X_test_clusters = kmeans.predict(X_test)\n",
        "X_test_clusters_centers = kmeans.cluster_centers_\n",
        "dist = [np.linalg.norm(x-y) for x, y in zip(X_test, X_test_clusters_centers[X_test_clusters])]\n",
        "\n",
        "# Create fraud predictions based on outliers on clusters\n",
        "# This assumes all datapoints above the 95th percentile as outliers. Changing the number below will modify this.\n",
        "cutoff = 95\n",
        "km_y_pred = np.array(dist)\n",
        "km_y_pred[dist >= np.percentile(dist, cutoff)] = 1\n",
        "km_y_pred[dist < np.percentile(dist, cutoff)] = 0"
      ],
      "metadata": {
        "id": "VZQMpHZ6q6Ff"
      },
      "execution_count": null,
      "outputs": []
    },
    {
      "cell_type": "code",
      "source": [
        "from itertools import product\n",
        "\n",
        "def plot_confusion_matrix(cm, classes=['Not Fraud', 'Fraud'],\n",
        "                          normalize=False,\n",
        "                          title='Fraud Confusion matrix',\n",
        "                          cmap=plt.cm.Blues):\n",
        "    \"\"\"\n",
        "    This function prints and plots the confusion matrix.\n",
        "    Normalization can be applied by setting `normalize=True`.\n",
        "    From:\n",
        "        http://scikit-learn.org/stable/auto_examples/model_selection/plot_confusion_matrix.html#sphx-glr-auto-\n",
        "        examples-model-selection-plot-confusion-matrix-py\n",
        "    \"\"\"\n",
        "    if normalize:\n",
        "        cm = cm.astype('float') / cm.sum(axis=1)[:, np.newaxis]\n",
        "        print(\"Normalized confusion matrix\")\n",
        "    else:\n",
        "        print('Confusion matrix, without normalization')\n",
        "\n",
        "    plt.imshow(cm, interpolation='nearest', cmap=cmap)\n",
        "    plt.title(title)\n",
        "    plt.colorbar()\n",
        "    tick_marks = np.arange(len(classes))\n",
        "    plt.xticks(tick_marks, classes, rotation=45)\n",
        "    plt.yticks(tick_marks, classes)\n",
        "\n",
        "    fmt = '.2f' if normalize else 'd'\n",
        "    thresh = cm.max() / 2.\n",
        "    for i, j in product(range(cm.shape[0]), range(cm.shape[1])):\n",
        "        plt.text(j, i, format(cm[i, j], fmt),\n",
        "                 horizontalalignment=\"center\",\n",
        "                 color=\"white\" if cm[i, j] > thresh else \"black\")\n",
        "\n",
        "    plt.tight_layout()\n",
        "    plt.ylabel('True label')\n",
        "    plt.xlabel('Predicted label')\n",
        "    plt.show()\n",
        "\n",
        "# Obtain the ROC score\n",
        "roc_auc_score(y_test, km_y_pred)\n",
        "\n",
        "# Create a confusion matrix\n",
        "km_cm = confusion_matrix(y_test, km_y_pred)\n",
        "\n",
        "# Plot the confusion matrix in a figure to visualize results\n",
        "plot_confusion_matrix(km_cm)"
      ],
      "metadata": {
        "colab": {
          "base_uri": "https://localhost:8080/",
          "height": 523
        },
        "id": "0OU59BCzq73b",
        "outputId": "8a89077e-79b6-46ea-933c-f52a4ab7a00c"
      },
      "execution_count": null,
      "outputs": [
        {
          "output_type": "stream",
          "name": "stdout",
          "text": [
            "Confusion matrix, without normalization\n"
          ]
        },
        {
          "output_type": "display_data",
          "data": {
            "text/plain": [
              "<Figure size 640x480 with 2 Axes>"
            ],
            "image/png": "[encoded data removed]"
          },
          "metadata": {}
        }
      ]
    },
    {
      "cell_type": "markdown",
      "source": [
        "We can also easily modify the outlier cutoff percentile to adjust the model. Below, we change the cutoff to the 93rd percentile. You can see that the number of cases of fraud caught increases. But at the tradeoff of more false positives."
      ],
      "metadata": {
        "id": "ipSpSbYTtNzZ"
      }
    },
    {
      "cell_type": "code",
      "source": [
        "cutoff = 93\n",
        "km_y_pred = np.array(dist)\n",
        "km_y_pred[dist >= np.percentile(dist, cutoff)] = 1\n",
        "km_y_pred[dist < np.percentile(dist, cutoff)] = 0\n",
        "\n",
        "# Obtain the ROC score\n",
        "roc_auc_score(y_test, km_y_pred)\n",
        "\n",
        "# Create a confusion matrix\n",
        "km_cm = confusion_matrix(y_test, km_y_pred)\n",
        "\n",
        "# Plot the confusion matrix in a figure to visualize results\n",
        "plot_confusion_matrix(km_cm)"
      ],
      "metadata": {
        "colab": {
          "base_uri": "https://localhost:8080/",
          "height": 523
        },
        "id": "Yl8EO1zVsLww",
        "outputId": "4efa0340-fa1f-43a2-dffb-0edcd5ffe291"
      },
      "execution_count": null,
      "outputs": [
        {
          "output_type": "stream",
          "name": "stdout",
          "text": [
            "Confusion matrix, without normalization\n"
          ]
        },
        {
          "output_type": "display_data",
          "data": {
            "text/plain": [
              "<Figure size 640x480 with 2 Axes>"
            ],
            "image/png": "[encoded data removed]"
          },
          "metadata": {}
        }
      ]
    },
    {
      "cell_type": "markdown",
      "metadata": {
        "id": "erYOlZpSfu8Z"
      },
      "source": [
        "## Using DBSCAN to Detect Fraud\n",
        "\n",
        "As mentioned before, there are many different clustering methods which can be used for fraud detection. You can the different methods and their corresponding performance below. Each row represents a different dataset while each column represents a different clustering algorithm. The colours indicate the different clusters identified by the algorithm.\n",
        "\n",
        "<img src=\"https://raw.githubusercontent.com/iamamangosteen/aimlrpa/main/clustering_methods.jpg\">"
      ]
    },
    {
      "cell_type": "markdown",
      "metadata": {
        "id": "dJjul0yjfu8Z"
      },
      "source": [
        "We'll take a look at the DBSCAN algorithm next. DBSCAN stands for Density-Based Spatial Clustering of Applications with Noise. In contrast to K-Means, DBSCAN does not require you to specify the number of clusters - it will calculate the ideal number automatically! It also handles unusual datasets much better than k-means. However, the tradeoff is that it is much more computationally taxing.\n",
        "\n",
        "Let's try and implement this in python:"
      ]
    },
    {
      "cell_type": "code",
      "source": [
        "# Initialize and fit the DBscan model\n",
        "db = DBSCAN(eps=0.9, min_samples=10, n_jobs=-1).fit(X_scaled)\n",
        "\n",
        "# Obtain the predicted labels and calculate number of clusters\n",
        "pred_labels = db.labels_\n",
        "n_clusters = len(set(pred_labels)) - (1 if -1 in labels else 0)\n",
        "\n",
        "# Print performance metrics for DBscan\n",
        "print(f'Estimated number of clusters: {n_clusters}')\n",
        "print(f'Homogeneity: {homogeneity_score(labels, pred_labels):0.3f}')\n",
        "print(f'Silhouette Coefficient: {silhouette_score(X_scaled, pred_labels):0.3f}')"
      ],
      "metadata": {
        "colab": {
          "base_uri": "https://localhost:8080/"
        },
        "id": "auiRlbXlxXZt",
        "outputId": "a82ae26a-c6ac-4bfc-db54-3f24e6acdf89"
      },
      "execution_count": null,
      "outputs": [
        {
          "output_type": "stream",
          "name": "stdout",
          "text": [
            "Estimated number of clusters: 21\n",
            "Homogeneity: 0.642\n",
            "Silhouette Coefficient: 0.724\n"
          ]
        }
      ]
    },
    {
      "cell_type": "markdown",
      "source": [
        "You'll notice that the number of clusters is much higher than k-means. DBSCAN works a bit differently: it will typically identify many more, smaller clusters. In order to identify unusual transactions, we look at the smallest clusters (by number of transactions) identified by DBSCAN."
      ],
      "metadata": {
        "id": "v8b7uUyqxifM"
      }
    },
    {
      "cell_type": "code",
      "source": [
        "# Count observations in each cluster number\n",
        "counts = np.bincount(pred_labels[pred_labels >= 0])\n",
        "\n",
        "# Print the result\n",
        "print(\"Number of transactions by cluster:\")\n",
        "for i in counts:\n",
        "    print(i)"
      ],
      "metadata": {
        "colab": {
          "base_uri": "https://localhost:8080/"
        },
        "id": "AQWnqQvxxbbn",
        "outputId": "18800a64-597a-4d2d-d30d-70f00a431f0d"
      },
      "execution_count": null,
      "outputs": [
        {
          "output_type": "stream",
          "name": "stdout",
          "text": [
            "Number of transactions by cluster:\n",
            "3249\n",
            "144\n",
            "2717\n",
            "173\n",
            "120\n",
            "122\n",
            "99\n",
            "54\n",
            "15\n",
            "76\n",
            "15\n",
            "43\n",
            "51\n",
            "47\n",
            "42\n",
            "15\n",
            "25\n",
            "20\n",
            "19\n",
            "10\n"
          ]
        }
      ]
    },
    {
      "cell_type": "code",
      "source": [
        "# Sort the sample counts of the clusters and take the top 3 smallest clusters\n",
        "smallest_clusters = np.argsort(counts)[:3]\n",
        "print(f'The smallest clusters are clusters: {smallest_clusters}')\n",
        "\n",
        "# Print the counts of the smallest clusters only\n",
        "print(f'Their counts are: {counts[smallest_clusters]}')"
      ],
      "metadata": {
        "colab": {
          "base_uri": "https://localhost:8080/"
        },
        "id": "w_OqhRDt0BGm",
        "outputId": "389b1fa0-fe46-47d7-c90b-04102664111f"
      },
      "execution_count": null,
      "outputs": [
        {
          "output_type": "stream",
          "name": "stdout",
          "text": [
            "The smallest clusters are clusters: [19 15  8]\n",
            "Their counts are: [10 15 15]\n"
          ]
        }
      ]
    },
    {
      "cell_type": "markdown",
      "source": [
        "These clusters contain all the transactions that we would like to flag for further review. Once again, you can look at more than just the 3 smallest clusters: this would likely catch more cases of fraud, but also result in more false positives, thus increasing the workload of the human reviewers. We can view the results of this prediction:"
      ],
      "metadata": {
        "id": "Mv5t7KiI0qiD"
      }
    },
    {
      "cell_type": "code",
      "source": [
        "# Create a dataframe of the predicted cluster numbers and fraud labels\n",
        "df = pd.DataFrame({'clusternr':pred_labels,'fraud':labels})\n",
        "\n",
        "# Create a condition flagging fraud for the smallest clusters\n",
        "df['predicted_fraud'] = np.where((df['clusternr'].isin([19, 15, 8])), 1 , 0)\n",
        "\n",
        "# Run a crosstab on the results\n",
        "print(pd.crosstab(df['fraud'], df['predicted_fraud'], rownames=['Actual Fraud'], colnames=['Flagged Fraud']))"
      ],
      "metadata": {
        "colab": {
          "base_uri": "https://localhost:8080/"
        },
        "id": "P2nHrG0W1ZB1",
        "outputId": "0e93363f-44b2-42c3-efba-a3fe6a95b71c"
      },
      "execution_count": null,
      "outputs": [
        {
          "output_type": "stream",
          "name": "stdout",
          "text": [
            "Flagged Fraud     0   1\n",
            "Actual Fraud           \n",
            "0              6890  16\n",
            "1               166  24\n"
          ]
        }
      ]
    },
    {
      "cell_type": "markdown",
      "source": [
        "You'll notice in comparison with k-means, we have many fewer false positives, but also many more false negatives. Once again, we can try taking a different number of the smallest clusters (e.g. the 5 smallest, or the 7 smallest) to adjust these results depending on what metric we want to optimise."
      ],
      "metadata": {
        "id": "DKeAZWrC10Ex"
      }
    },
    {
      "cell_type": "markdown",
      "source": [
        "<hr>"
      ],
      "metadata": {
        "id": "c9vZfcqw8lG3"
      }
    },
    {
      "cell_type": "markdown",
      "source": [
        "<hr>"
      ],
      "metadata": {
        "id": "lKC7zTVt8nwi"
      }
    },
    {
      "cell_type": "markdown",
      "source": [
        "<hr>"
      ],
      "metadata": {
        "id": "aoiz_1Sm8pAP"
      }
    },
    {
      "cell_type": "markdown",
      "metadata": {
        "id": "upelv06Mfu8f"
      },
      "source": [
        "# Closing Thoughts"
      ]
    },
    {
      "cell_type": "markdown",
      "source": [
        "This notebook has explored some of the tools and knowledge needed to analyse, identify, and combat fraudulent behavior. We began by understanding the importance of data preparation and familiarizing ourselves with the intricacies of the dataset. Through techniques like data resampling and the Synthetic Minority Oversampling Technique (SMOTE), we have seen some of the skills necessary to tackle imbalanced data challenges head-on. After exploring the traditional methods of fraud detection, we witnessed the power of machine learning, employing techniques such as logistic regression and random forests to attempt to identify fraudulent activities. We also delved into the realm of unsupervised learning, where we discovered the potential of clustering algorithms such as K-Means Clustering and DBSCAN.\n",
        "\n",
        "As we conclude this notebook, let us reflect that there are still many techniques and applications that we have not explored, such as text mining financial statements for fraud detection, or using etwork analysis to detect fraud. Hopefully you now have an appreciation for what is possible when using machine learning algorithms in Python. The world of machine learning awaits our contributions, and armed with Python and a solid understanding of its models, we are poised to shape the future!"
      ],
      "metadata": {
        "id": "m8EHphJi2nZR"
      }
    },
    {
      "cell_type": "code",
      "source": [],
      "metadata": {
        "id": "Wvr7gFh682mG"
      },
      "execution_count": null,
      "outputs": []
    }
  ],
  "metadata": {
    "kernelspec": {
      "display_name": "Python 3",
      "language": "python",
      "name": "python3"
    },
    "language_info": {
      "codemirror_mode": {
        "name": "ipython",
        "version": 3
      },
      "file_extension": ".py",
      "mimetype": "text/x-python",
      "name": "python",
      "nbconvert_exporter": "python",
      "pygments_lexer": "ipython3",
      "version": "3.8.5"
    },
    "toc-autonumbering": true,
    "colab": {
      "provenance": []
    }
  },
  "nbformat": 4,
  "nbformat_minor": 0
}